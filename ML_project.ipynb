{
  "cells": [
    {
      "cell_type": "code",
      "execution_count": null,
      "metadata": {
        "id": "_V7VmKyJhYar"
      },
      "outputs": [],
      "source": [
        "#Download Libraries\n",
        "!pip install pandas\n",
        "!pip install numpy\n",
        "!pip install matplotlib\n",
        "!pip install torch\n",
        "!pip install yfinance\n",
        "!pip install transformers\n",
        "!pip install scikit-learn"
      ]
    },
    {
      "cell_type": "code",
      "execution_count": null,
      "metadata": {
        "id": "y4KP5rmu-XzB"
      },
      "outputs": [],
      "source": [
        "#Import modules\n",
        "import os\n",
        "import pandas as pd\n",
        "import numpy as np\n",
        "import matplotlib.pyplot as plt\n",
        "import torch\n",
        "import zipfile\n",
        "import torch.nn as nn\n",
        "import datetime\n",
        "import yfinance as yf\n",
        "import shutil\n",
        "from sklearn.model_selection import train_test_split\n",
        "from transformers import BertTokenizer, BertModel\n",
        "from transformers import get_linear_schedule_with_warmup\n",
        "from torch.utils.data import TensorDataset, DataLoader, RandomSampler, SequentialSampler\n",
        "from torch.optim import AdamW\n",
        "from sklearn.ensemble import RandomForestClassifier"
      ]
    },
    {
      "cell_type": "code",
      "execution_count": null,
      "metadata": {
        "id": "RiiJ9ufpI53M"
      },
      "outputs": [],
      "source": [
        "#Clean tweet\n",
        "def cleanTweets(data):\n",
        "\n",
        "\tdata['tweetClean'] = data['Text'].str.lower()\n",
        "\n",
        "\t## FIX HYPERLINKS\n",
        "\tdata['tweetClean'] = data['tweetClean'].replace(r'https?:\\/\\/.*[\\r\\n]*', ' ',regex=True)\n",
        "\tdata['tweetClean'] = data['tweetClean'].replace(r'www.*[\\r\\n]*', ' ',regex=True)\n",
        "\tdata['tweetClean'] = data['tweetClean'].str.replace('https', '', regex=False)\n",
        "\n",
        "\n",
        "\t## FIX INDIVIDUAL SYMBOLS\n",
        "\tdata['tweetClean'] = data['tweetClean'].str.replace(': ', ' ', regex=False)\n",
        "\tdata['tweetClean'] = data['tweetClean'].str.replace(', ', ' ', regex=False)\n",
        "\tdata['tweetClean'] = data['tweetClean'].str.replace('. ', ' ', regex=False)\n",
        "\tdata['tweetClean'] = data['tweetClean'].str.replace('[;\\n~]', ' ', regex=True)\n",
        "\n",
        "\tdata['tweetClean'] = data['tweetClean'].str.replace(\"[]'â€¦*™|]\", '', regex=True)\n",
        "\tdata['tweetClean'] = data['tweetClean'].str.replace('[[()!?\"]', '', regex=True)\n",
        "\tdata['tweetClean'] = data['tweetClean'].str.replace('_', '', regex=False)\n",
        "\tdata['tweetClean'] = data['tweetClean'].str.replace('w/', ' with ', regex=False)\n",
        "\tdata['tweetClean'] = data['tweetClean'].str.replace('f/', ' for ', regex=False)\n",
        "\n",
        "\n",
        "\t## FIX EMOJIS\n",
        "\tdata['tweetClean'] = data['tweetClean'].str.replace(':)', '', regex=False)\n",
        "\tdata['tweetClean'] = data['tweetClean'].str.replace(':-)', '', regex=False)\n",
        "\tdata['tweetClean'] = data['tweetClean'].str.replace(':(', '', regex=False)\n",
        "\tdata['tweetClean'] = data['tweetClean'].str.replace(':-(', '', regex=False)\n",
        "\tdata['tweetClean'] = data['tweetClean'].str.replace('0_o', '', regex=False)\n",
        "\tdata['tweetClean'] = data['tweetClean'].str.replace(';)', '', regex=False)\n",
        "\tdata['tweetClean'] = data['tweetClean'].str.replace('=^.^=', '', regex=False)\n",
        "\n",
        "\n",
        "\t## FIX % SYMBOL\n",
        "\tdata['tweetClean'] = data['tweetClean'].str.replace('%', ' percent ', regex=False)\n",
        "\n",
        "\n",
        "\t## FIX & SYMBOL\n",
        "\tdata['tweetClean'] = data['tweetClean'].str.replace(' & ', ' and ', regex=False)\n",
        "\tdata['tweetClean'] = data['tweetClean'].str.replace('&amp', ' and ', regex=False)\n",
        "\tdata['tweetClean'] = data['tweetClean'].str.replace('&gt', ' greater than ', regex=False)\n",
        "\tdata['tweetClean'] = data['tweetClean'].str.replace('cup&handle', 'cup and handle', regex=False)\n",
        "\tdata['tweetClean'] = data['tweetClean'].str.replace('c&h', 'cup and handle', regex=False)\n",
        "\tdata['tweetClean'] = data['tweetClean'].str.replace('head&shoulders', 'head and shoulders', regex=False)\n",
        "\tdata['tweetClean'] = data['tweetClean'].str.replace('h&s', 'head and shoulders', regex=False)\n",
        "\tdata['tweetClean'] = data['tweetClean'].str.replace('point&figure', 'point and figure', regex=False)\n",
        "\tdata['tweetClean'] = data['tweetClean'].str.replace('p&f', 'point and figure', regex=False)\n",
        "\tdata['tweetClean'] = data['tweetClean'].str.replace('s&p', 'SP500', regex=False)\n",
        "\tdata['tweetClean'] = data['tweetClean'].str.replace('q&a', 'question and answer', regex=False)\n",
        "\tdata['tweetClean'] = data['tweetClean'].str.replace('&', ' and ', regex=False)\n",
        "\n",
        "\n",
        "\t## FIX USER TAGS AND HASTAGS\n",
        "\tdata['tweetClean'] = data['tweetClean'].str.replace('@[a-z0-9]+', '', regex=True)\n",
        "\tdata['tweetClean'] = data['tweetClean'].str.replace('#[a-z0-9]+', '', regex=True)\n",
        "\tdata['tweetClean'] = data['tweetClean'].str.replace('@', '', regex=False)\n",
        "\tdata['tweetClean'] = data['tweetClean'].str.replace('#', '', regex=False)\n",
        "\n",
        "\n",
        "\t## FIX EMBEDDED COMMAS AND PERIODS\n",
        "\tdata['tweetClean'] = data['tweetClean'].replace(r'([a-z]),([a-z])', r'\\1 \\2', regex=True)\n",
        "\tdata['tweetClean'] = data['tweetClean'].replace(r'([0-9]),([0-9])', r'\\1\\2', regex=True)\n",
        "\tdata['tweetClean'] = data['tweetClean'].replace(r'([0-9])[+]+', r'\\1 ', regex=True)\n",
        "\tdata['tweetClean'] = data['tweetClean'].str.replace(',', '', regex=False)\n",
        "\tdata['tweetClean'] = data['tweetClean'].str.replace('u.s.', ' us ', regex=False)\n",
        "\tdata['tweetClean'] = data['tweetClean'].str.replace('\\.{2,}', ' ', regex=True)\n",
        "\tdata['tweetClean'] = data['tweetClean'].replace(r'([a-z])\\.([a-z])', r'\\1 \\2', regex=True)\n",
        "\tdata['tweetClean'] = data['tweetClean'].str.replace('pdating', 'updating', regex=False)\n",
        "\tdata['tweetClean'] = data['tweetClean'].replace(r'([a-z])\\.', r'\\1 ', regex=True)\n",
        "\tdata['tweetClean'] = data['tweetClean'].replace(r'\\.([a-z])', r' \\1', regex=True)\n",
        "\tdata['tweetClean'] = data['tweetClean'].str.replace(' . ', ' ', regex=False)\n",
        "\n",
        "\n",
        "\t## FIX + SYMBOL\n",
        "\tdata['tweetClean'] = data['tweetClean'].replace(r'[+]([0-9])', r'positive \\1', regex=True)\n",
        "\tdata['tweetClean'] = data['tweetClean'].str.replace('c+h', 'cup and handle', regex=False)\n",
        "\tdata['tweetClean'] = data['tweetClean'].str.replace('h+s', 'head and shoulders', regex=False)\n",
        "\tdata['tweetClean'] = data['tweetClean'].str.replace('cup+handle', 'cup and handle', regex=False)\n",
        "\tdata['tweetClean'] = data['tweetClean'].str.replace(' + ', ' and ', regex=False)\n",
        "\tdata['tweetClean'] = data['tweetClean'].str.replace('+ ', ' ', regex=False)\n",
        "\tdata['tweetClean'] = data['tweetClean'].replace(r'([a-z])[+]([a-z])', r'\\1 and \\2', regex=True)\n",
        "\tdata['tweetClean'] = data['tweetClean'].str.replace('+', '', regex=False)\n",
        "\n",
        "\n",
        "\n",
        "\n",
        "\t## FIX - SYMBOL\n",
        "\tdata['tweetClean'] = data['tweetClean'].replace(r'([a-z])[-]+([a-z])', r'\\1 \\2', regex=True)\n",
        "\tdata['tweetClean'] = data['tweetClean'].replace(r'([a-z]) - ([a-z])', r'\\1 to \\2', regex=True)\n",
        "\tdata['tweetClean'] = data['tweetClean'].replace(r'([0-9]) -([0-9\\.])', r'\\1 to \\2', regex=True)\n",
        "\tdata['tweetClean'] = data['tweetClean'].replace(r' [-]([0-9])', r' negative \\1', regex=True)\n",
        "\tdata['tweetClean'] = data['tweetClean'].replace(r'([0-9])-([0-9\\.])', r'\\1 to \\2', regex=True)\n",
        "\tdata['tweetClean'] = data['tweetClean'].replace(r'([0-9]) - ([0-9\\.])', r'\\1 to \\2', regex=True)\n",
        "\tdata['tweetClean'] = data['tweetClean'].replace(r'([0-9a-z])-([0-9a-z])', r'\\1 \\2', regex=True)\n",
        "\tdata['tweetClean'] = data['tweetClean'].str.replace('[-]+[>]', ' ', regex=True)\n",
        "\tdata['tweetClean'] = data['tweetClean'].str.replace(' [-]+ ', ' ', regex=True)\n",
        "\tdata['tweetClean'] = data['tweetClean'].str.replace('-', ' ', regex=False)\n",
        "\n",
        "\n",
        "\n",
        "\t## FIX $ SYMBOL\n",
        "\tdata['tweetClean'] = data['tweetClean'].str.replace('[$][0-9\\.]', ' dollars ', regex=True)\n",
        "\tdata['tweetClean'] = data['tweetClean'].str.replace('$', '', regex=False)\n",
        "\n",
        "\n",
        "\t## FIX = SYMBOL\n",
        "\tdata['tweetClean'] = data['tweetClean'].str.replace('=', ' equals ', regex=False)\n",
        "\n",
        "\n",
        "\t## FIX / SYMBOL\n",
        "\tdata['tweetClean'] = data['tweetClean'].str.replace('b/c', ' because ', regex=False)\n",
        "\tdata['tweetClean'] = data['tweetClean'].str.replace('b/out', ' break out ', regex=False)\n",
        "\tdata['tweetClean'] = data['tweetClean'].str.replace('b/o', ' break out ', regex=False)\n",
        "\tdata['tweetClean'] = data['tweetClean'].str.replace('p/e', ' pe ratio ', regex=False)\n",
        "\tdata['tweetClean'] = data['tweetClean'].str.replace(' [/]+ ', ' ', regex=True)\n",
        "\tdata['tweetClean'] = data['tweetClean'].str.replace(' 1/2 ', ' .5 ', regex=False)\n",
        "\tdata['tweetClean'] = data['tweetClean'].str.replace(' 1/4 ', ' .25 ', regex=False)\n",
        "\tdata['tweetClean'] = data['tweetClean'].str.replace(' 3/4 ', ' .75 ', regex=False)\n",
        "\tdata['tweetClean'] = data['tweetClean'].str.replace(' 1/3 ', ' .3 ', regex=False)\n",
        "\tdata['tweetClean'] = data['tweetClean'].str.replace(' 2/3 ', ' .6 ', regex=False)\n",
        "\n",
        "\tdata['tweetClean'] = data['tweetClean'].str.replace('[/]{2,}', ' ', regex=True)\n",
        "\tdata['tweetClean'] = data['tweetClean'].replace(r'([a-z])/([a-z])', r'\\1 and \\2', regex=True)\n",
        "\tdata['tweetClean'] = data['tweetClean'].str.replace('[0-9]+/[0-9]+/[0-9]+', '', regex=True)\n",
        "\tdata['tweetClean'] = data['tweetClean'].replace(r'([0-9]{3,})/([0-9\\.]{2,})', r'\\1 to \\2', regex=True)\n",
        "\tdata['tweetClean'] = data['tweetClean'].replace(r'([0-9]{2,})/([0-9\\.]{3,})', r'\\1 to \\2', regex=True)\n",
        "\tdata['tweetClean'] = data['tweetClean'].str.replace('[a-z0-9]+/[a-z0-9]+', ' ', regex=True)\n",
        "\n",
        "\tdata['tweetClean'] = data['tweetClean'].str.replace('/', '', regex=False)\n",
        "\n",
        "\n",
        "\t## FIX < > SYMBOLS\n",
        "\tdata['tweetClean'] = data['tweetClean'].str.replace('[<]+ ', ' ', regex=True)\n",
        "\tdata['tweetClean'] = data['tweetClean'].str.replace('<', ' less than ', regex=False)\n",
        "\tdata['tweetClean'] = data['tweetClean'].str.replace(' [>]+', ' ', regex=True)\n",
        "\tdata['tweetClean'] = data['tweetClean'].str.replace('>', ' greater than ', regex=False)\n",
        "\n",
        "\n",
        "\t## FIX : SYMBOL\n",
        "\tdata['tweetClean'] = data['tweetClean'].str.replace('[0-9]+:[0-9]+am', ' ', regex=True)\n",
        "\tdata['tweetClean'] = data['tweetClean'].str.replace('[0-9]+:[0-9]', ' ', regex=True)\n",
        "\tdata['tweetClean'] = data['tweetClean'].str.replace(':', ' ', regex=False)\n",
        "\n",
        "\n",
        "\t## FIX UNITS\n",
        "\tdata['tweetClean'] = data['tweetClean'].str.replace('user ', ' ', regex=False)\n",
        "\n",
        "\tdata['tweetClean'] = data['tweetClean'].replace(r'([0-9]+)dma', r'\\1 displaced moving average ', regex=True)\n",
        "\tdata['tweetClean'] = data['tweetClean'].replace(r'dma([0-9]+)', r'\\1 displaced moving average ', regex=True)\n",
        "\tdata['tweetClean'] = data['tweetClean'].replace(r'([0-9]+)sma', r'\\1 simple moving average ', regex=True)\n",
        "\tdata['tweetClean'] = data['tweetClean'].replace(r'sma([0-9]+)', r'\\1 simple moving average ', regex=True)\n",
        "\tdata['tweetClean'] = data['tweetClean'].replace(r'([0-9]+)ema', r'\\1 expontential moving average ', regex=True)\n",
        "\tdata['tweetClean'] = data['tweetClean'].replace(r'ema([0-9]+)', r'\\1 expontential moving average ', regex=True)\n",
        "\tdata['tweetClean'] = data['tweetClean'].replace(r'([0-9]+)ma', r'\\1 moving average ', regex=True)\n",
        "\tdata['tweetClean'] = data['tweetClean'].replace(r'ma([0-9]+)', r'\\1 moving average ', regex=True)\n",
        "\n",
        "\tdata['tweetClean'] = data['tweetClean'].replace(r'([0-9])mos', r'\\1 months ', regex=True)\n",
        "\tdata['tweetClean'] = data['tweetClean'].replace(r'([0-9])minute', r'\\1 minute ', regex=True)\n",
        "\tdata['tweetClean'] = data['tweetClean'].replace(r'([0-9])minutes', r'\\1 minutes ', regex=True)\n",
        "\tdata['tweetClean'] = data['tweetClean'].replace(r'([0-9])min', r'\\1 minute ', regex=True)\n",
        "\tdata['tweetClean'] = data['tweetClean'].replace(r'([0-9])mins', r'\\1 minutes ', regex=True)\n",
        "\tdata['tweetClean'] = data['tweetClean'].replace(r'([0-9])day', r'\\1 day ', regex=True)\n",
        "\tdata['tweetClean'] = data['tweetClean'].replace(r'([0-9])days', r'\\1 days ', regex=True)\n",
        "\tdata['tweetClean'] = data['tweetClean'].replace(r'([0-9])wk', r'\\1 week ', regex=True)\n",
        "\tdata['tweetClean'] = data['tweetClean'].str.replace(' wk ', ' week ', regex=False)\n",
        "\tdata['tweetClean'] = data['tweetClean'].str.replace(' wknd ', ' weekend ', regex=False)\n",
        "\tdata['tweetClean'] = data['tweetClean'].replace(r'([0-9])wks', r'\\1 weeks ', regex=True)\n",
        "\tdata['tweetClean'] = data['tweetClean'].replace(r'([0-9])hours', r'\\1 hours ', regex=True)\n",
        "\tdata['tweetClean'] = data['tweetClean'].replace(r'([0-9])hour', r'\\1 hour ', regex=True)\n",
        "\tdata['tweetClean'] = data['tweetClean'].replace(r'([0-9])yr', r'\\1 year ', regex=True)\n",
        "\tdata['tweetClean'] = data['tweetClean'].replace(r'([0-9])yrs', r'\\1 years ', regex=True)\n",
        "\tdata['tweetClean'] = data['tweetClean'].str.replace(' yr', ' year ', regex=False)\n",
        "\tdata['tweetClean'] = data['tweetClean'].replace(r'([0-9])am', r'\\1 am ', regex=True)\n",
        "\tdata['tweetClean'] = data['tweetClean'].replace(r'([0-9])pm', r'\\1 pm ', regex=True)\n",
        "\n",
        "\tdata['tweetClean'] = data['tweetClean'].replace(r'([0-9])est', r'\\1 ', regex=True)\n",
        "\tdata['tweetClean'] = data['tweetClean'].replace(r'([0-9])ish', r'\\1 ', regex=True)\n",
        "\tdata['tweetClean'] = data['tweetClean'].replace(r'([0-9 ])pts', r'\\1 points ', regex=True)\n",
        "\tdata['tweetClean'] = data['tweetClean'].replace(r'([0-9])x', r'\\1 times ', regex=True)\n",
        "\tdata['tweetClean'] = data['tweetClean'].replace(r'([0-9])th', r'\\1 ', regex=True)\n",
        "\tdata['tweetClean'] = data['tweetClean'].replace(r'([0-9])rd', r'\\1 ', regex=True)\n",
        "\tdata['tweetClean'] = data['tweetClean'].replace(r'([0-9])st', r'\\1 ', regex=True)\n",
        "\tdata['tweetClean'] = data['tweetClean'].replace(r'([0-9])nd', r'\\1 ', regex=True)\n",
        "\n",
        "\tdata['tweetClean'] = data['tweetClean'].str.replace('mrkt', 'market', regex=False)\n",
        "\tdata['tweetClean'] = data['tweetClean'].str.replace(' vol ', ' volume ', regex=False)\n",
        "\tdata['tweetClean'] = data['tweetClean'].str.replace(' ptrend', ' positive trend ', regex=False)\n",
        "\tdata['tweetClean'] = data['tweetClean'].str.replace(' ppl', ' people ', regex=False)\n",
        "\tdata['tweetClean'] = data['tweetClean'].str.replace(' pts', ' points ', regex=False)\n",
        "\tdata['tweetClean'] = data['tweetClean'].str.replace(' pt', ' point ', regex=False)\n",
        "\tdata['tweetClean'] = data['tweetClean'].str.replace(' l(ol){1,}', ' laugh ', regex=True)\n",
        "\tdata['tweetClean'] = data['tweetClean'].str.replace('imho', ' in my opinion ', regex=True)\n",
        "\tdata['tweetClean'] = data['tweetClean'].str.replace('prev ', 'previous ', regex=True)\n",
        "\n",
        "\n",
        "\tdata['tweetClean'] = data['tweetClean'].str.replace(' 1q', ' first quarter ', regex=False)\n",
        "\tdata['tweetClean'] = data['tweetClean'].str.replace(' 2q', ' second quarter ', regex=False)\n",
        "\tdata['tweetClean'] = data['tweetClean'].str.replace(' 3q', ' third quarter ', regex=False)\n",
        "\tdata['tweetClean'] = data['tweetClean'].str.replace(' 4q', ' fourth quarter ', regex=False)\n",
        "\tdata['tweetClean'] = data['tweetClean'].str.replace(' q1', ' first quarter ', regex=False)\n",
        "\tdata['tweetClean'] = data['tweetClean'].str.replace(' q2', ' second quarter ', regex=False)\n",
        "\tdata['tweetClean'] = data['tweetClean'].str.replace(' q3', ' third quarter ', regex=False)\n",
        "\tdata['tweetClean'] = data['tweetClean'].str.replace(' q4', ' fourth quarter ', regex=False)\n",
        "\tdata['tweetClean'] = data['tweetClean'].str.replace(' 10q ', ' form 10 ', regex=False)\n",
        "\n",
        "\tdata['tweetClean'] = data['tweetClean'].replace(r'([0-9])million', r'\\1 million ', regex=True)\n",
        "\tdata['tweetClean'] = data['tweetClean'].replace(r'([0-9])mil', r'\\1 million ', regex=True)\n",
        "\tdata['tweetClean'] = data['tweetClean'].str.replace(' mil ', ' million ', regex=False)\n",
        "\tdata['tweetClean'] = data['tweetClean'].replace(r'([0-9])billion', r'\\1 billion ', regex=True)\n",
        "\tdata['tweetClean'] = data['tweetClean'].replace(r'([0-9])cents', r'\\1 cents ', regex=True)\n",
        "\n",
        "\tdata['tweetClean'] = data['tweetClean'].replace(r'([0-9])3d', r'\\1 3 dimensional ', regex=True)\n",
        "\tdata['tweetClean'] = data['tweetClean'].replace(r'([0-9])gb', r'\\1 3 gigabytes ', regex=True)\n",
        "\n",
        "\n",
        "\n",
        "\tdata['tweetClean'] = data['tweetClean'].replace(r'([0-9])c', r'\\1 calls ', regex=True)\n",
        "\tdata['tweetClean'] = data['tweetClean'].replace(r'([0-9])y', r'\\1 year ', regex=True)\n",
        "\tdata['tweetClean'] = data['tweetClean'].replace(r'([0-9])p', r'\\1 puts ', regex=True)\n",
        "\tdata['tweetClean'] = data['tweetClean'].replace(r'([0-9])d', r'\\1 days ', regex=True)\n",
        "\tdata['tweetClean'] = data['tweetClean'].replace(r'([0-9])h', r'\\1 hour ', regex=True)\n",
        "\tdata['tweetClean'] = data['tweetClean'].replace(r'([0-9])s', r'\\1 ', regex=True)\n",
        "\tdata['tweetClean'] = data['tweetClean'].replace(r'([0-9])k1', r'\\1 thousand ', regex=True)\n",
        "\tdata['tweetClean'] = data['tweetClean'].replace(r'([0-9])k', r'\\1 thousand ', regex=True)\n",
        "\tdata['tweetClean'] = data['tweetClean'].replace(r'([0-9])m', r'\\1 million ', regex=True)\n",
        "\tdata['tweetClean'] = data['tweetClean'].replace(r'([0-9])b', r'\\1 billion ', regex=True)\n",
        "\n",
        "\n",
        "\tdata['tweetClean'] = data['tweetClean'].replace(r'([0-9])([a-z])', r'\\1 \\2', regex=True)\n",
        "\n",
        "\t## FIX EXTRA SPACES AND ENDING PUNCTUATION\n",
        "\tdata['tweetClean'] = data['tweetClean'].str.replace(' +', ' ', regex=True)\n",
        "\tdata['tweetClean'] = data['tweetClean'].str.strip(' .!?,)(:-')\n",
        "\n",
        "\n",
        "\treturn data"
      ]
    },
    {
      "cell_type": "code",
      "execution_count": null,
      "metadata": {
        "id": "T-0uUBCeJG_L"
      },
      "outputs": [],
      "source": [
        "rawTweets = pd.read_csv('/content/stock_data.csv')"
      ]
    },
    {
      "cell_type": "code",
      "execution_count": null,
      "metadata": {
        "colab": {
          "base_uri": "https://localhost:8080/"
        },
        "id": "O-BqJAkJMYQC",
        "outputId": "782d948e-4067-4fe1-b821-eef662f14f7b"
      },
      "outputs": [
        {
          "name": "stderr",
          "output_type": "stream",
          "text": [
            "/usr/local/lib/python3.10/dist-packages/pandas/core/strings/object_array.py:158: FutureWarning: Possible nested set at position 1\n",
            "  pat = re.compile(pat, flags=flags)\n"
          ]
        }
      ],
      "source": [
        "#Make the data\n",
        "tweets = cleanTweets(rawTweets)\n",
        "tweets.drop('Text', axis = 1, inplace = True)\n",
        "tweets['Sentiment'] = tweets['Sentiment'].replace(-1,0)"
      ]
    },
    {
      "cell_type": "code",
      "execution_count": null,
      "metadata": {
        "id": "c_a01GNpMteQ"
      },
      "outputs": [],
      "source": [
        "#Split the data. Using the default settings\n",
        "X_train, X_test, y_train, y_test = train_test_split(tweets['tweetClean'].values, tweets['Sentiment'].values, random_state = 42)"
      ]
    },
    {
      "cell_type": "code",
      "execution_count": null,
      "metadata": {
        "colab": {
          "base_uri": "https://localhost:8080/",
          "height": 197,
          "referenced_widgets": [
            "fd64e4f43fc04fdbab5869437ab1925a",
            "05caa8195cb1413b8ffad956663ae396",
            "3522b85f74784676a23b0c4f8b1d120f",
            "a6a09c81ccc5439f9d9093464e80f6ec",
            "33495838fac34426b2364395f01d1381",
            "8ea74720ac3e429d8941a40b61fba979",
            "d6737b6a17af451b8d307fb7d8ff8a54",
            "6cfcd66e1dd34b838c1043b5a7ebce4f",
            "90a2e932904e43f1844f36a5dce1fae1",
            "ea83e1b638524171ab16d94a91166c0c",
            "c575633674824d7499985eb4dbb7305b",
            "ae9755adc83e4cff927a0d6ff4aa6aa9",
            "1ff448b85fc14ee7aad759e43a47aa26",
            "27b4ab4f15d042829038de353bf4fe2b",
            "b8d1c568acca49d18702d25694389c23",
            "17e5a9c0f42547178191a7cd887c5844",
            "b1f1a20616c04426a3da5df6be4d9c09",
            "d22db14418cb4bff98af00d88836214b",
            "5b169d319b03496891d3db0f414896e1",
            "4b071f37b3ba4b71a76c41bb20456c93",
            "69e3ad09c6d34d6c9570ef8103eb7209",
            "ba747a36e2304865a28544f689ca93a9",
            "70c1a74c5e0e430c93a838a230894bb6",
            "fd1edf3dec984d8085b613e7ea2dd7fd",
            "491a25ba7010465983f2a9a67e773b11",
            "5644b25b2a204c0a805c786cbb3e59e4",
            "596ae3a0248e4559afd08ef29d5ed9f7",
            "26b153f4ac7b42b3ba8e2e00e51f4517",
            "2fa0a9a0db4f47d9af407d5504f4755c",
            "c611b6c3390f49d1aacf75f787a37c04",
            "b67776a1fc194567abf7b99a2bbf392f",
            "8b346959e557458793489ecdf12e18e8",
            "942db122fccf450da8bd0f2aaf902fbf",
            "9536ed8cef8945bab40683c5450309f4",
            "29e780ca7af648748aff8d5c8b582efa",
            "34284abbbfbc4f32b4fc4045eb68cb89",
            "87f448429a5c42759803ab211557f64c",
            "b0321333fc484589bd858a19c74c1db9",
            "74e9d905aee9465b9de29842082032db",
            "45620e9aa6f948bf9f38575bf64331b5",
            "ad2426c4136b4af0896dd74ce99eb6c5",
            "dc631f74553b4fe88f56a6625b9e0423",
            "c52ce023705144348f0420ea4fc2694a",
            "6801fb3583354de997ff1c040aeb16db"
          ]
        },
        "id": "5x-hBe7GihZk",
        "outputId": "bdabaf2c-4b44-47b0-f379-140195dfb08c"
      },
      "outputs": [
        {
          "data": {
            "application/vnd.jupyter.widget-view+json": {
              "model_id": "fd64e4f43fc04fdbab5869437ab1925a",
              "version_major": 2,
              "version_minor": 0
            },
            "text/plain": [
              "tokenizer_config.json:   0%|          | 0.00/28.0 [00:00<?, ?B/s]"
            ]
          },
          "metadata": {},
          "output_type": "display_data"
        },
        {
          "data": {
            "application/vnd.jupyter.widget-view+json": {
              "model_id": "ae9755adc83e4cff927a0d6ff4aa6aa9",
              "version_major": 2,
              "version_minor": 0
            },
            "text/plain": [
              "vocab.txt:   0%|          | 0.00/232k [00:00<?, ?B/s]"
            ]
          },
          "metadata": {},
          "output_type": "display_data"
        },
        {
          "data": {
            "application/vnd.jupyter.widget-view+json": {
              "model_id": "70c1a74c5e0e430c93a838a230894bb6",
              "version_major": 2,
              "version_minor": 0
            },
            "text/plain": [
              "tokenizer.json:   0%|          | 0.00/466k [00:00<?, ?B/s]"
            ]
          },
          "metadata": {},
          "output_type": "display_data"
        },
        {
          "data": {
            "application/vnd.jupyter.widget-view+json": {
              "model_id": "9536ed8cef8945bab40683c5450309f4",
              "version_major": 2,
              "version_minor": 0
            },
            "text/plain": [
              "config.json:   0%|          | 0.00/570 [00:00<?, ?B/s]"
            ]
          },
          "metadata": {},
          "output_type": "display_data"
        },
        {
          "name": "stdout",
          "output_type": "stream",
          "text": [
            "Max length:  53\n",
            "torch.Size([4343, 53]) torch.Size([4343, 53]) torch.Size([4343])\n",
            "torch.Size([1448, 53]) torch.Size([1448, 53]) torch.Size([1448])\n"
          ]
        }
      ],
      "source": [
        "# Prepare the Bert NLP model tokenizer to encode tweets\n",
        "tokenizer = BertTokenizer.from_pretrained('bert-base-uncased', do_lower_case=True)\n",
        "\n",
        "# Encode the tweets for Bert model\n",
        "def preprocessing_for_bert(data):\n",
        "    input_ids = []\n",
        "    attention_masks = []\n",
        "\n",
        "    # For each tweet\n",
        "    for line in data:\n",
        "        # encode the data. Return input encoding and attention mask\n",
        "        encoding = tokenizer.encode_plus(\n",
        "                text=line, # data to process\n",
        "                add_special_tokens=True,\n",
        "                padding='max_length',\n",
        "                max_length = MAX_LEN,\n",
        "                truncation=True,\n",
        "                return_tensors=\"pt\",\n",
        "                return_attention_mask=True\n",
        "                )\n",
        "\n",
        "        # add the encodings to the list\n",
        "        input_ids.append(encoding.get('input_ids'))\n",
        "        attention_masks.append(encoding.get('attention_mask'))\n",
        "\n",
        "    # return the lists as tensors\n",
        "    input_ids = torch.concat(input_ids)\n",
        "    attention_masks = torch.concat(attention_masks)\n",
        "\n",
        "    return input_ids, attention_masks\n",
        "\n",
        "\n",
        "# Use this to determine max length for encoding\n",
        "encoded = [tokenizer.encode(sent, add_special_tokens=True) for sent in tweets['tweetClean'].values]\n",
        "MAX_LEN = max([len(sent) for sent in encoded])\n",
        "print('Max length: ', MAX_LEN)\n",
        "\n",
        "\n",
        "# Encode the train and test data for Bert\n",
        "X_train_inputs, X_train_masks = preprocessing_for_bert(X_train)\n",
        "X_test_inputs, X_test_masks = preprocessing_for_bert(X_test)\n",
        "\n",
        "# Get the train and test labels\n",
        "y_train_labels = torch.tensor(y_train)\n",
        "y_test_labels = torch.tensor(y_test)\n",
        "\n",
        "\n",
        "# Set batch size to 16. recommended 16 or 32 depending on GPU size\n",
        "batch_size = 16\n",
        "\n",
        "# Randomize the train data and define dataloader for model training\n",
        "train_data = TensorDataset(X_train_inputs, X_train_masks, y_train_labels)\n",
        "train_sampler = RandomSampler(train_data)\n",
        "train_dataloader = DataLoader(train_data, sampler=train_sampler, batch_size=batch_size)\n",
        "\n",
        "# Randomize the test data and define dataloader for model testing\n",
        "test_data = TensorDataset(X_test_inputs, X_test_masks, y_test_labels)\n",
        "test_sampler = SequentialSampler(test_data)\n",
        "test_dataloader = DataLoader(test_data, sampler=test_sampler, batch_size=batch_size)\n"
      ]
    },
    {
      "cell_type": "code",
      "execution_count": null,
      "metadata": {
        "id": "24nx2sI8tTG6"
      },
      "outputs": [],
      "source": [
        "# Define the Bert NLP Classifier\n",
        "class BertClassifier(nn.Module):\n",
        "    def __init__(self, freeze=False):\n",
        "        super(BertClassifier, self).__init__()\n",
        "\n",
        "        # Define the neurons for the final layer. I can expriment with changing the hidden layer to 100, and see the results. Kept that for further study\n",
        "        input_layer = 768 # BERT recommended\n",
        "        hidden_layer = 50\n",
        "        output_layer = 2\n",
        "\n",
        "        # Use the pretrained Bert model for first section of NN\n",
        "        self.bert = BertModel.from_pretrained('bert-base-uncased')\n",
        "\n",
        "        # Define a final layer to attach to the Bert model for custom classification\n",
        "        self.classifier = nn.Sequential(\n",
        "            nn.Linear(input_layer, hidden_layer),\n",
        "            nn.ReLU(),\n",
        "            nn.Linear(hidden_layer, output_layer))\n",
        "\n",
        "        # Freeze the model from updating\n",
        "        if freeze:\n",
        "            for param in self.bert.parameters():\n",
        "                param.requires_grad = False\n",
        "\n",
        "    # Return classification from Bert model\n",
        "    def forward(self, input_ids, attention_mask):\n",
        "        outputs = self.bert(input_ids, attention_mask)\n",
        "        h_cls = outputs[0][:, 0, :]\n",
        "        logits = self.classifier(h_cls)\n",
        "\n",
        "        return logits"
      ]
    },
    {
      "cell_type": "code",
      "execution_count": null,
      "metadata": {
        "colab": {
          "base_uri": "https://localhost:8080/",
          "height": 136,
          "referenced_widgets": [
            "833a9618b8844b17a0a836c91dc95730",
            "55e6980002af4c7fbf98725fd31e7af1",
            "fdd8bb5be2874dbab84865f5cdeb4884",
            "2bbfbeac0cd247b7919a0f67ab4abc83",
            "c2f7d0818e314ba2b51e3c27fa4e09d8",
            "7d45155b7e414752bc5f2f53df0f0cdc",
            "32ef551a1dc5444e867a3c74dbbf2b7d",
            "cad177fe09b444208d344ad09810cb36",
            "7e08902d603544c985bf928404b09879",
            "eeb7d6fc68fb495b8471c2537cb7b3d2",
            "e84aa8e8ef694c4d85df91a981622990"
          ]
        },
        "id": "6RPYaJJKtVRV",
        "outputId": "224e17bb-5ad2-466d-b98a-949c93d8e90f"
      },
      "outputs": [
        {
          "data": {
            "application/vnd.jupyter.widget-view+json": {
              "model_id": "833a9618b8844b17a0a836c91dc95730",
              "version_major": 2,
              "version_minor": 0
            },
            "text/plain": [
              "model.safetensors:   0%|          | 0.00/440M [00:00<?, ?B/s]"
            ]
          },
          "metadata": {},
          "output_type": "display_data"
        },
        {
          "name": "stdout",
          "output_type": "stream",
          "text": [
            "Epoch: 1  |  Train Loss: 0.53556  |  Test Loss: 0.42365  |  Test Accuracy: 79.26\n",
            "Epoch: 2  |  Train Loss: 0.32208  |  Test Loss: 0.49638  |  Test Accuracy: 81.52\n",
            "Epoch: 3  |  Train Loss: 0.16490  |  Test Loss: 0.71458  |  Test Accuracy: 81.80\n",
            "Epoch: 4  |  Train Loss: 0.06352  |  Test Loss: 0.88549  |  Test Accuracy: 82.01\n",
            "Epoch: 5  |  Train Loss: 0.03196  |  Test Loss: 0.93294  |  Test Accuracy: 81.94\n"
          ]
        }
      ],
      "source": [
        "# Set random seed for repeatability\n",
        "torch.manual_seed(1)\n",
        "torch.cuda.manual_seed_all(1)\n",
        "np.random.seed(1)\n",
        "\n",
        "# Check if GPU is available and assign device\n",
        "if torch.cuda.is_available():\n",
        "    device = torch.device('cuda')\n",
        "else:\n",
        "    device = torch.device('cpu')\n",
        "\n",
        "# Initialize Bert Classifier\n",
        "model = BertClassifier(freeze=False)\n",
        "\n",
        "# Send model to device (GPU if available)\n",
        "model.to(device)\n",
        "\n",
        "# Define model hyperparameters. Epochs can be increased to 10, but for this data instance the model overfits after fourth epoch\n",
        "epochs = 5\n",
        "steps = len(train_dataloader) * epochs\n",
        "learning_rate = 5e-5\n",
        "epsilon = 1e-8\n",
        "\n",
        "# Define Adam optimizer\n",
        "optimizer = AdamW(model.parameters(), lr=learning_rate, eps=epsilon)\n",
        "\n",
        "# Define scheduler for training the optimizer\n",
        "scheduler = get_linear_schedule_with_warmup(optimizer, num_warmup_steps=0, num_training_steps=steps)\n",
        "\n",
        "# Define cross entropy loss function\n",
        "loss_function = nn.CrossEntropyLoss()\n",
        "\n",
        "# For the number of epochs\n",
        "for e in range(epochs):\n",
        "    # Assign model to train\n",
        "    model.train()\n",
        "\n",
        "    # Intialize loss to zero\n",
        "    train_loss = 0\n",
        "\n",
        "    # For each batch\n",
        "    for batch in train_dataloader:\n",
        "        # Get batch inputs, masks and labels\n",
        "        batch_inputs, batch_masks, batch_labels = batch\n",
        "\n",
        "        # Send variables to device (GPU if available)\n",
        "        batch_inputs = batch_inputs.to(device)\n",
        "        batch_masks = batch_masks.to(device)\n",
        "        batch_labels = batch_labels.to(device)\n",
        "\n",
        "        # Reset the model gradient\n",
        "        model.zero_grad()\n",
        "\n",
        "        # Get classification of encoded values\n",
        "        logits = model(batch_inputs, batch_masks)\n",
        "\n",
        "        # Calculate loss based on predictions and known values\n",
        "        loss = loss_function(logits, batch_labels)\n",
        "\n",
        "        # Add loss to the running total\n",
        "        train_loss += loss.item()\n",
        "\n",
        "        # Update the model weights based on the loss\n",
        "        loss.backward()\n",
        "        torch.nn.utils.clip_grad_norm_(model.parameters(), 1.0)\n",
        "        optimizer.step()\n",
        "        scheduler.step()\n",
        "\n",
        "    # Calculate the average loss over batch\n",
        "    train_loss /= len(train_dataloader)\n",
        "\n",
        "    # Assign the model to evaluate\n",
        "    model.eval()\n",
        "\n",
        "    # Initialize losses\n",
        "    test_loss = 0\n",
        "    test_acc = 0\n",
        "\n",
        "    # For each batch\n",
        "    for batch in test_dataloader:\n",
        "        # Get encoding inputs, masks and labels\n",
        "        batch_inputs, batch_masks, batch_labels = batch\n",
        "\n",
        "        # Send variables to device (GPU if available)\n",
        "        batch_inputs = batch_inputs.to(device)\n",
        "        batch_masks = batch_masks.to(device)\n",
        "        batch_labels = batch_labels.to(device)\n",
        "\n",
        "        # Predict the input values without updating the model\n",
        "        with torch.no_grad():\n",
        "            logits = model(batch_inputs, batch_masks)\n",
        "\n",
        "        # Calculate the loss\n",
        "        loss = loss_function(logits, batch_labels)\n",
        "        test_loss += loss.item()\n",
        "\n",
        "        # Convert predictions to 0 and 1\n",
        "        preds = torch.argmax(logits, dim=1).flatten()\n",
        "\n",
        "        # Calculate accuracy of model on test data\n",
        "        accuracy = (preds == batch_labels).cpu().numpy().mean() * 100\n",
        "        test_acc += accuracy\n",
        "\n",
        "    # Calculate average loss and accuracy per each batch\n",
        "    test_loss /= len(test_dataloader)\n",
        "    test_acc /= len(test_dataloader)\n",
        "\n",
        "    # Print epoch information\n",
        "    print('Epoch: %d  |  Train Loss: %1.5f  |  Test Loss: %1.5f  |  Test Accuracy: %1.2f'%(e+1, train_loss, test_loss, test_acc))\n",
        "\n",
        "# Save model\n",
        "torch.save(model.state_dict(), 'stock_BERT_model.pt')"
      ]
    },
    {
      "cell_type": "code",
      "execution_count": null,
      "metadata": {
        "id": "u-qosaxfWDEP"
      },
      "outputs": [],
      "source": [
        "def extract_all_in_directory(directory):\n",
        "    # Get a list of all files in the directory\n",
        "    files = os.listdir(directory)\n",
        "\n",
        "    # Iterate through each file in the directory\n",
        "    for file in files:\n",
        "        # Check if the file is a zip file\n",
        "        if file.endswith('.zip'):\n",
        "            file_path = os.path.join(directory, file)\n",
        "\n",
        "            # Create a directory with the same name as the zip file (without extension)\n",
        "            extract_dir = os.path.splitext(file_path)[0]\n",
        "            os.makedirs(extract_dir, exist_ok=True)\n",
        "\n",
        "            # Create a ZipFile object\n",
        "            with zipfile.ZipFile(file_path, 'r') as zip_ref:\n",
        "                # Extract all contents into the created directory\n",
        "                zip_ref.extractall(extract_dir)\n",
        "\n",
        "            print(f\"Extracted contents from {file} to {extract_dir}.\")"
      ]
    },
    {
      "cell_type": "code",
      "execution_count": null,
      "metadata": {
        "colab": {
          "base_uri": "https://localhost:8080/"
        },
        "id": "r1pGlik3WsBG",
        "outputId": "0fa37090-3d2a-48b0-ca0b-2e406f1f6d1b"
      },
      "outputs": [
        {
          "name": "stdout",
          "output_type": "stream",
          "text": [
            "Extracted contents from regn_2016_06_15_13_53_08.xlsx.zip to /content/companydata/regn_2016_06_15_13_53_08.xlsx.\n",
            "Extracted contents from mat_2016_06_15_13_17_09.xlsx.zip to /content/companydata/mat_2016_06_15_13_17_09.xlsx.\n",
            "Extracted contents from csx_2016_06_15_12_28_34.xlsx.zip to /content/companydata/csx_2016_06_15_12_28_34.xlsx.\n",
            "Extracted contents from txn_2016_06_15_14_03_07.xlsx.zip to /content/companydata/txn_2016_06_15_14_03_07.xlsx.\n",
            "Extracted contents from lbtyk_2016_06_15_13_15_16.xlsx.zip to /content/companydata/lbtyk_2016_06_15_13_15_16.xlsx.\n",
            "Extracted contents from disca_2016_06_15_12_32_37.xlsx.zip to /content/companydata/disca_2016_06_15_12_32_37.xlsx.\n",
            "Extracted contents from wfm_2016_06_15_14_08_18.xlsx.zip to /content/companydata/wfm_2016_06_15_14_08_18.xlsx.\n",
            "Extracted contents from atvi_2016_06_15_14_34_02.xlsx.zip to /content/companydata/atvi_2016_06_15_14_34_02.xlsx.\n",
            "Extracted contents from tmus_2016_06_15_13_58_03.xlsx.zip to /content/companydata/tmus_2016_06_15_13_58_03.xlsx.\n",
            "Extracted contents from viab_2016_06_15_14_04_32.xlsx.zip to /content/companydata/viab_2016_06_15_14_04_32.xlsx.\n",
            "Extracted contents from ilmn_2016_06_15_13_12_41.xlsx.zip to /content/companydata/ilmn_2016_06_15_13_12_41.xlsx.\n",
            "Extracted contents from swks_2016_06_15_13_57_26.xlsx.zip to /content/companydata/swks_2016_06_15_13_57_26.xlsx.\n",
            "Extracted contents from dltr_2016_06_15_12_42_30.xlsx.zip to /content/companydata/dltr_2016_06_15_12_42_30.xlsx.\n",
            "Extracted contents from wba_2016_06_15_14_06_38.xlsx.zip to /content/companydata/wba_2016_06_15_14_06_38.xlsx.\n",
            "Extracted contents from aapl_2016_06_15_14_30_09.xlsx.zip to /content/companydata/aapl_2016_06_15_14_30_09.xlsx.\n",
            "Extracted contents from amgn_2016_06_15_12_10_36.xlsx.zip to /content/companydata/amgn_2016_06_15_12_10_36.xlsx.\n",
            "Extracted contents from nflx_2016_06_15_13_37_15.xlsx.zip to /content/companydata/nflx_2016_06_15_13_37_15.xlsx.\n",
            "Extracted contents from foxa_2016_06_15_12_51_17.xlsx.zip to /content/companydata/foxa_2016_06_15_12_51_17.xlsx.\n",
            "Extracted contents from bidu_2016_06_15_12_16_43.xlsx.zip to /content/companydata/bidu_2016_06_15_12_16_43.xlsx.\n",
            "Extracted contents from pcar_2016_06_15_13_49_29.xlsx.zip to /content/companydata/pcar_2016_06_15_13_49_29.xlsx.\n",
            "Extracted contents from rost_2016_06_15_13_54_00.xlsx.zip to /content/companydata/rost_2016_06_15_13_54_00.xlsx.\n",
            "Extracted contents from sbac_2016_06_15_13_54_30.xlsx.zip to /content/companydata/sbac_2016_06_15_13_54_30.xlsx.\n",
            "Extracted contents from myl_2016_06_15_13_31_59.xlsx.zip to /content/companydata/myl_2016_06_15_13_31_59.xlsx.\n",
            "Extracted contents from lrcx_2016_06_15_13_15_48.xlsx.zip to /content/companydata/lrcx_2016_06_15_13_15_48.xlsx.\n",
            "Extracted contents from chkp_2016_06_15_12_22_01.xlsx.zip to /content/companydata/chkp_2016_06_15_12_22_01.xlsx.\n",
            "Extracted contents from qvca_2016_06_15_13_52_19.xlsx.zip to /content/companydata/qvca_2016_06_15_13_52_19.xlsx.\n",
            "Extracted contents from xlnx_2016_06_15_14_10_06.xlsx.zip to /content/companydata/xlnx_2016_06_15_14_10_06.xlsx.\n",
            "Extracted contents from adp_2016_06_15_12_06_34.xlsx.zip to /content/companydata/adp_2016_06_15_12_06_34.xlsx.\n",
            "Extracted contents from gild_2016_06_15_12_53_38.xlsx.zip to /content/companydata/gild_2016_06_15_12_53_38.xlsx.\n",
            "Extracted contents from ntap_2016_06_15_13_41_12.xlsx.zip to /content/companydata/ntap_2016_06_15_13_41_12.xlsx.\n",
            "Extracted contents from wdc_2016_06_15_14_07_37.xlsx.zip to /content/companydata/wdc_2016_06_15_14_07_37.xlsx.\n",
            "Extracted contents from payx_2016_06_15_13_48_59.xlsx.zip to /content/companydata/payx_2016_06_15_13_48_59.xlsx.\n",
            "Extracted contents from aal_2016_06_15_12_01_41.xlsx.zip to /content/companydata/aal_2016_06_15_12_01_41.xlsx.\n",
            "Extracted contents from ebay_2016_06_15_12_44_05.xlsx.zip to /content/companydata/ebay_2016_06_15_12_44_05.xlsx.\n",
            "Extracted contents from sndk_2016_06_15_18_25_14.xlsx.zip to /content/companydata/sndk_2016_06_15_18_25_14.xlsx.\n",
            "Extracted contents from yhoo_2016_06_15_18_17_31.xlsx.zip to /content/companydata/yhoo_2016_06_15_18_17_31.xlsx.\n",
            "Extracted contents from mu_2016_06_15_13_23_44.xlsx.zip to /content/companydata/mu_2016_06_15_13_23_44.xlsx.\n",
            "Extracted contents from googl_2016_06_15_13_06_09.xlsx.zip to /content/companydata/googl_2016_06_15_13_06_09.xlsx.\n",
            "Extracted contents from ulta_2016_06_15_14_03_52.xlsx.zip to /content/companydata/ulta_2016_06_15_14_03_52.xlsx.\n",
            "Extracted contents from ntes_2016_06_15_13_43_09.xlsx.zip to /content/companydata/ntes_2016_06_15_13_43_09.xlsx.\n",
            "Extracted contents from dish_2016_06_15_12_36_19.xlsx.zip to /content/companydata/dish_2016_06_15_12_36_19.xlsx.\n",
            "Extracted contents from pypl_2016_06_15_13_51_08.xlsx.zip to /content/companydata/pypl_2016_06_15_13_51_08.xlsx.\n",
            "Extracted contents from expe_2016_06_15_12_46_18.xlsx.zip to /content/companydata/expe_2016_06_15_12_46_18.xlsx.\n",
            "Extracted contents from msft_2016_06_15_14_35_59.xlsx.zip to /content/companydata/msft_2016_06_15_14_35_59.xlsx.\n",
            "Extracted contents from ctsh_2016_06_15_12_31_21.xlsx.zip to /content/companydata/ctsh_2016_06_15_12_31_21.xlsx.\n",
            "Extracted contents from vrtx_2016_06_15_19_00_10.xlsx.zip to /content/companydata/vrtx_2016_06_15_19_00_10.xlsx.\n",
            "Extracted contents from lmck_2016_06_15_13_15_42.xlsx.zip to /content/companydata/lmck_2016_06_15_13_15_42.xlsx.\n",
            "Extracted contents from amat_2016_06_15_12_09_54.xlsx.zip to /content/companydata/amat_2016_06_15_12_09_54.xlsx.\n",
            "Extracted contents from csco_2016_06_15_12_26_22.xlsx.zip to /content/companydata/csco_2016_06_15_12_26_22.xlsx.\n",
            "Extracted contents from tsco_2016_06_15_13_59_15.xlsx.zip to /content/companydata/tsco_2016_06_15_13_59_15.xlsx.\n",
            "Extracted contents from lvnta_2016_06_15_13_16_23.xlsx.zip to /content/companydata/lvnta_2016_06_15_13_16_23.xlsx.\n",
            "Extracted contents from orly_2016_06_15_13_45_48.xlsx.zip to /content/companydata/orly_2016_06_15_13_45_48.xlsx.\n",
            "Extracted contents from inct_2016_06_15_13_13_27.xlsx.zip to /content/companydata/inct_2016_06_15_13_13_27.xlsx.\n",
            "Extracted contents from mxim_2016_06_15_13_27_24.xlsx.zip to /content/companydata/mxim_2016_06_15_13_27_24.xlsx.\n",
            "Extracted contents from fox_2016_06_15_12_50_40.xlsx.zip to /content/companydata/fox_2016_06_15_12_50_40.xlsx.\n",
            "Extracted contents from mdlz_2016_06_15_13_18_09.xlsx.zip to /content/companydata/mdlz_2016_06_15_13_18_09.xlsx.\n",
            "Extracted contents from goog_2016_06_15_12_56_37.xlsx.zip to /content/companydata/goog_2016_06_15_12_56_37.xlsx.\n",
            "Extracted contents from mnst_2016_06_15_13_19_06.xlsx.zip to /content/companydata/mnst_2016_06_15_13_19_06.xlsx.\n",
            "Extracted contents from ctrp_2016_06_15_12_28_57.xlsx.zip to /content/companydata/ctrp_2016_06_15_12_28_57.xlsx.\n",
            "Extracted contents from incy_2016_06_15_13_13_08.xlsx.zip to /content/companydata/incy_2016_06_15_13_13_08.xlsx.\n",
            "Extracted contents from fisv_2016_06_15_12_50_12.xlsx.zip to /content/companydata/fisv_2016_06_15_12_50_12.xlsx.\n",
            "Extracted contents from nxpi_2016_06_15_13_45_40.xlsx.zip to /content/companydata/nxpi_2016_06_15_13_45_40.xlsx.\n",
            "Extracted contents from akam_2016_06_15_12_08_04.xlsx.zip to /content/companydata/akam_2016_06_15_12_08_04.xlsx.\n",
            "Extracted contents from stx_2016_06_15_13_56_49.xlsx.zip to /content/companydata/stx_2016_06_15_13_56_49.xlsx.\n",
            "Extracted contents from nclh_2016_06_15_13_32_29.xlsx.zip to /content/companydata/nclh_2016_06_15_13_32_29.xlsx.\n",
            "Extracted contents from nvda_2016_06_15_13_43_57.xlsx.zip to /content/companydata/nvda_2016_06_15_13_43_57.xlsx.\n",
            "Extracted contents from ca_2016_06_15_12_19_11.xlsx.zip to /content/companydata/ca_2016_06_15_12_19_11.xlsx.\n",
            "Extracted contents from cost_2016_06_15_12_24_55.xlsx.zip to /content/companydata/cost_2016_06_15_12_24_55.xlsx.\n",
            "Extracted contents from pcln_2016_06_15_13_50_12.xlsx.zip to /content/companydata/pcln_2016_06_15_13_50_12.xlsx.\n",
            "Extracted contents from lltc_2016_06_15_13_15_22.xlsx.zip to /content/companydata/lltc_2016_06_15_13_15_22.xlsx.\n",
            "Extracted contents from intu_2016_06_15_13_13_39.xlsx.zip to /content/companydata/intu_2016_06_15_13_13_39.xlsx.\n",
            "Extracted contents from trip_2016_06_15_13_58_32.xlsx.zip to /content/companydata/trip_2016_06_15_13_58_32.xlsx.\n",
            "Extracted contents from cern_2016_06_15_12_21_43.xlsx.zip to /content/companydata/cern_2016_06_15_12_21_43.xlsx.\n",
            "Extracted contents from khc_2016_06_15_13_14_47.xlsx.zip to /content/companydata/khc_2016_06_15_13_14_47.xlsx.\n",
            "Extracted contents from amzn_2016_06_15_12_13_10.xlsx.zip to /content/companydata/amzn_2016_06_15_12_13_10.xlsx.\n",
            "Extracted contents from avgo_2016_06_15_12_15_32.xlsx.zip to /content/companydata/avgo_2016_06_15_12_15_32.xlsx.\n",
            "Extracted contents from qcom_2016_06_15_13_51_56.xlsx.zip to /content/companydata/qcom_2016_06_15_13_51_56.xlsx.\n",
            "Extracted contents from sbux_2016_06_15_13_55_41.xlsx.zip to /content/companydata/sbux_2016_06_15_13_55_41.xlsx.\n",
            "Extracted contents from fb_2016_06_15_12_49_41.xlsx.zip to /content/companydata/fb_2016_06_15_12_49_41.xlsx.\n",
            "Extracted contents from symc_2016_06_15_18_19_59.xlsx.zip to /content/companydata/symc_2016_06_15_18_19_59.xlsx.\n",
            "Extracted contents from vrsk_2016_06_15_14_05_35.xlsx.zip to /content/companydata/vrsk_2016_06_15_14_05_35.xlsx.\n",
            "Extracted contents from disck_2016_06_15_12_33_30.xlsx.zip to /content/companydata/disck_2016_06_15_12_33_30.xlsx.\n",
            "Extracted contents from chtr_2016_06_15_12_22_16.xlsx.zip to /content/companydata/chtr_2016_06_15_12_22_16.xlsx.\n",
            "Extracted contents from fast_2016_06_15_12_46_49.xlsx.zip to /content/companydata/fast_2016_06_15_12_46_49.xlsx.\n",
            "Extracted contents from ea_2016_06_15_12_43_03.xlsx.zip to /content/companydata/ea_2016_06_15_12_43_03.xlsx.\n",
            "Extracted contents from lmca_2016_06_15_13_15_31.xlsx.zip to /content/companydata/lmca_2016_06_15_13_15_31.xlsx.\n",
            "Extracted contents from srcl_2016_06_15_13_56_25.xlsx.zip to /content/companydata/srcl_2016_06_15_13_56_25.xlsx.\n",
            "Extracted contents from tsla_2016_06_15_14_01_51.xlsx.zip to /content/companydata/tsla_2016_06_15_14_01_51.xlsx.\n",
            "Extracted contents from adsk_2016_06_15_12_07_20.xlsx.zip to /content/companydata/adsk_2016_06_15_12_07_20.xlsx.\n",
            "Extracted contents from endp_2016_06_15_12_44_49.xlsx.zip to /content/companydata/endp_2016_06_15_12_44_49.xlsx.\n",
            "Extracted contents from bmrn_2016_06_15_12_18_36.xlsx.zip to /content/companydata/bmrn_2016_06_15_12_18_36.xlsx.\n",
            "Extracted contents from mar_2016_06_15_13_16_33.xlsx.zip to /content/companydata/mar_2016_06_15_13_16_33.xlsx.\n",
            "Extracted contents from celg_2016_06_15_12_20_12.xlsx.zip to /content/companydata/celg_2016_06_15_12_20_12.xlsx.\n",
            "Extracted contents from hsic_2016_06_15_13_12_31.xlsx.zip to /content/companydata/hsic_2016_06_15_13_12_31.xlsx.\n",
            "Extracted contents from cmcsa_2016_06_15_12_22_45.xlsx.zip to /content/companydata/cmcsa_2016_06_15_12_22_45.xlsx.\n",
            "Extracted contents from bbby_2016_06_15_12_16_08.xlsx.zip to /content/companydata/bbby_2016_06_15_12_16_08.xlsx.\n",
            "Extracted contents from lbtya_2016_06_15_13_15_06.xlsx.zip to /content/companydata/lbtya_2016_06_15_13_15_06.xlsx.\n",
            "Extracted contents from isrg_2016_06_15_13_13_56.xlsx.zip to /content/companydata/isrg_2016_06_15_13_13_56.xlsx.\n",
            "Extracted contents from jd_2016_06_15_13_14_18.xlsx.zip to /content/companydata/jd_2016_06_15_13_14_18.xlsx.\n",
            "Extracted contents from lrcx_2016_06_15_13_16_01.xlsx.zip to /content/companydata/lrcx_2016_06_15_13_16_01.xlsx.\n",
            "Extracted contents from vod_2016_06_15_14_05_09.xlsx.zip to /content/companydata/vod_2016_06_15_14_05_09.xlsx.\n",
            "Extracted contents from alxn_2016_06_15_12_08_55.xlsx.zip to /content/companydata/alxn_2016_06_15_12_08_55.xlsx.\n",
            "Extracted contents from adbe_2016_06_15_12_03_58.xlsx.zip to /content/companydata/adbe_2016_06_15_12_03_58.xlsx.\n",
            "Extracted contents from esrx_2016_06_15_12_45_25.xlsx.zip to /content/companydata/esrx_2016_06_15_12_45_25.xlsx.\n"
          ]
        }
      ],
      "source": [
        "# Create a new directory. Name it 'companydata'. Import the data of stocks inside this directory as zip files\n",
        "# Extract all the files\n",
        "extract_all_in_directory('/content/companydata')"
      ]
    },
    {
      "cell_type": "code",
      "execution_count": null,
      "metadata": {
        "colab": {
          "base_uri": "https://localhost:8080/"
        },
        "id": "xRzfTy6c2zyw",
        "outputId": "afb5fa1c-a296-4911-d4f3-7ad2bb04e1dc"
      },
      "outputs": [
        {
          "name": "stdout",
          "output_type": "stream",
          "text": [
            "chtr - completed\n",
            "lmck - completed\n",
            "adp - completed\n",
            "ulta - completed\n",
            "fox - completed\n",
            "qcom - completed\n",
            "amzn - completed\n",
            "expe - completed\n",
            "alxn - completed\n",
            "qvca - completed\n",
            "trip - completed\n",
            "mar - completed\n",
            "mnst - completed\n",
            "lrcx - completed\n",
            "hsic - completed\n",
            "sbux - completed\n",
            "pcar - completed\n",
            "isrg - completed\n",
            "sbac - completed\n",
            "pypl - completed\n",
            "fb - completed\n",
            "mat - completed\n",
            "regn - completed\n",
            "akam - completed\n",
            "lmca - completed\n",
            "vrtx - completed\n",
            "nxpi - completed\n",
            "mu - completed\n",
            "lltc - completed\n",
            "gild - completed\n",
            "ntes - completed\n",
            "txn - completed\n",
            "wfm - completed\n",
            "googl - completed\n",
            "msft - completed\n",
            "mdlz - completed\n",
            "vod - completed\n",
            "mxim - completed\n",
            "intu - completed\n",
            "orly - completed\n",
            "bidu - completed\n",
            "bbby - completed\n",
            "foxa - completed\n",
            "disck - completed\n",
            "goog - completed\n",
            "aapl - completed\n",
            "inct - completed\n",
            "ilmn - completed\n",
            "ebay - completed\n",
            "myl - completed\n",
            "ea - completed\n",
            "atvi - completed\n",
            "khc - completed\n",
            "vrsk - completed\n",
            "payx - completed\n",
            "wdc - completed\n",
            "csco - completed\n",
            "cost - completed\n",
            "dltr - completed\n",
            "dish - completed\n",
            "endp - completed\n",
            "amat - completed\n",
            "symc - completed\n",
            "wba - completed\n",
            "viab - completed\n",
            "lbtyk - completed\n",
            "csx - completed\n",
            "celg - completed\n",
            "jd - completed\n",
            "swks - completed\n",
            "fast - completed\n",
            "avgo - completed\n",
            "ntap - completed\n",
            "yhoo - completed\n",
            "cmcsa - completed\n",
            "rost - completed\n",
            "pcln - completed\n",
            "lvnta - completed\n",
            "bmrn - completed\n",
            "sndk - completed\n",
            "tsco - completed\n",
            "cern - completed\n",
            "aal - completed\n",
            "srcl - completed\n",
            "amgn - completed\n",
            "nvda - completed\n",
            "ctsh - completed\n",
            "chkp - completed\n",
            "nflx - completed\n",
            "stx - completed\n",
            "adsk - completed\n",
            "nclh - completed\n",
            "xlnx - completed\n",
            "incy - completed\n",
            "tsla - completed\n",
            "disca - completed\n",
            "esrx - completed\n",
            "ca - completed\n",
            "tmus - completed\n",
            "fisv - completed\n",
            "ctrp - completed\n",
            "lrcx - completed\n",
            "adbe - completed\n",
            "lbtya - completed\n"
          ]
        }
      ],
      "source": [
        "# Get the list of stock data to convert\n",
        "# Takes about 1hr to run on colab GPU\n",
        "allFiles = os.listdir('/content/companydata')\n",
        "\n",
        "files = [file for file in allFiles if not file.endswith('.zip')]\n",
        "# for each stock files\n",
        "for x in range(len(files)):\n",
        "\n",
        "    # open the excel file on the Stream sheet\n",
        "    stock = pd.read_excel('/content/companydata/'+files[x] + '/export_dashboard_' + files[x], sheet_name='Stream')\n",
        "\n",
        "    # Assign the ticker name as a column\n",
        "    stock['Ticker'] = files[x].split('_')[0]\n",
        "\n",
        "    # Convert string date times to datetime\n",
        "    stock['Date'] = pd.to_datetime(stock['Date'])\n",
        "    stock['Hour'] = stock['Hour'].apply(lambda t: pd.Timedelta(hours=int(t[:2]), minutes=int(t[3:])))\n",
        "    stock['Datetime'] = stock['Date'] + stock['Hour']\n",
        "\n",
        "    # Rename column that holds the tweets content\n",
        "    stock.rename(columns = {'Tweet content':'Text'}, inplace = True)\n",
        "\n",
        "    # Pre process the tweet content\n",
        "    stock = cleanTweets(stock) # This might take time since the dataset is big. There are a million tweets for some compnay\n",
        "\n",
        "    # Keep relevant columns\n",
        "    stock = stock[['Tweet Id', 'Ticker', 'Datetime', 'Text', 'tweetClean', 'Favs', 'RTs', 'Followers', 'Following', 'Is a RT']]\n",
        "\n",
        "    # Fill NAs in Favs, RTs, Followers and Following with 0\n",
        "    stock = stock.fillna(0)\n",
        "\n",
        "    # Encode processed tweets for Bert NLP model\n",
        "    stock_inputs, stock_masks = preprocessing_for_bert(stock['tweetClean'].values)\n",
        "\n",
        "    # Put stock data in PyTorch dataloader for processing\n",
        "    stock_data = TensorDataset(stock_inputs, stock_masks)\n",
        "    stock_sampler = RandomSampler(stock_data)\n",
        "    stock_dataloader = DataLoader(stock_data, sampler=stock_sampler, batch_size=batch_size)\n",
        "\n",
        "    # Assign model to evaluate\n",
        "    model.eval()\n",
        "\n",
        "    predictions = []\n",
        "\n",
        "    # For each batch\n",
        "    for batch in stock_dataloader:\n",
        "        # Get encoded inputs and masks\n",
        "        batch_inputs, batch_masks = batch\n",
        "\n",
        "        # Send variables to device (GPU if available)\n",
        "        batch_inputs = batch_inputs.to(device)\n",
        "        batch_masks = batch_masks.to(device)\n",
        "\n",
        "        # Predict classes with Bert for given inputs\n",
        "        with torch.no_grad():\n",
        "            logits = model(batch_inputs, batch_masks)\n",
        "\n",
        "        # Convert predictions to 0s and 1s\n",
        "        preds = torch.argmax(logits, dim=1).flatten()\n",
        "        predictions.append(preds)\n",
        "\n",
        "    # Combine all batch predictions\n",
        "    predictions = torch.cat(predictions).cpu().numpy()\n",
        "\n",
        "    # Add predictions to stock dataframe\n",
        "    stock['Sentiment'] = predictions\n",
        "\n",
        "    # save predictions as new csv\n",
        "    os.makedirs('/content/result/'+files[x], exist_ok=True)\n",
        "    stock.to_csv('/content/result/'+files[x] +'/stock_data_sentiment.csv', index=False)\n",
        "\n",
        "    # Show stock names as they are completed\n",
        "    print(files[x].split('_')[0], '- completed')"
      ]
    },
    {
      "cell_type": "code",
      "execution_count": null,
      "metadata": {
        "colab": {
          "base_uri": "https://localhost:8080/"
        },
        "id": "Fh5wsJ8luKM1",
        "outputId": "1a083c91-502d-473e-ec73-ea155eb94320"
      },
      "outputs": [
        {
          "name": "stdout",
          "output_type": "stream",
          "text": [
            "Ratio of true negative to the total number of negative samples : 0.7223300970873786\n",
            "Ratio of true positives to the total number of positive samples : 0.872454448017149\n"
          ]
        }
      ],
      "source": [
        "model.eval()\n",
        "\n",
        "predictions = []\n",
        "\n",
        "for batch in test_dataloader:\n",
        "    batch_inputs, batch_masks, batch_labels = batch\n",
        "\n",
        "    batch_inputs = batch_inputs.to(device)\n",
        "    batch_masks = batch_masks.to(device)\n",
        "    batch_labels = batch_labels.to(device)\n",
        "\n",
        "    with torch.no_grad():\n",
        "        logits = model(batch_inputs, batch_masks)\n",
        "\n",
        "\n",
        "    preds = torch.argmax(logits, dim=1).flatten()\n",
        "    predictions.append(preds)\n",
        "\n",
        "predictions = torch.cat(predictions).cpu().numpy()\n",
        "\n",
        "negatives = np.where(y_test==0)[0]\n",
        "TNs = np.where( (y_test==0) & (y_test==predictions) )[0]\n",
        "print(f'Ratio of true negative to the total number of negative samples : {len(TNs)/len(negatives)}')\n",
        "\n",
        "positives = np.where(y_test==1)[0]\n",
        "TPs = np.where( (y_test==1) & (y_test==predictions) )[0]\n",
        "print(f'Ratio of true positives to the total number of positive samples : {len(TPs)/len(positives)}')"
      ]
    },
    {
      "cell_type": "code",
      "execution_count": null,
      "metadata": {
        "colab": {
          "base_uri": "https://localhost:8080/"
        },
        "id": "N9OHF_CYA-GW",
        "outputId": "e2dbc7a9-b185-4e10-aba1-aeb3732ab0f3"
      },
      "outputs": [
        {
          "name": "stderr",
          "output_type": "stream",
          "text": [
            "<ipython-input-13-9293bd759bdd>:53: FutureWarning: The default value of numeric_only in DataFrameGroupBy.sum is deprecated. In a future version, numeric_only will default to False. Either specify numeric_only or select only columns which should be valid for the function.\n",
            "  data = data.groupby([data.Datetime.dt.month, data.Datetime.dt.day]).sum()\n"
          ]
        },
        {
          "name": "stdout",
          "output_type": "stream",
          "text": [
            "[*********************100%%**********************]  1 of 1 completed\n",
            "chtr - Completed\n",
            "[*********************100%%**********************]  1 of 1 completed"
          ]
        },
        {
          "name": "stderr",
          "output_type": "stream",
          "text": [
            "<ipython-input-13-9293bd759bdd>:53: FutureWarning: The default value of numeric_only in DataFrameGroupBy.sum is deprecated. In a future version, numeric_only will default to False. Either specify numeric_only or select only columns which should be valid for the function.\n",
            "  data = data.groupby([data.Datetime.dt.month, data.Datetime.dt.day]).sum()\n",
            "ERROR:yfinance:\n",
            "1 Failed download:\n",
            "ERROR:yfinance:['LMCK']: Exception('%ticker%: No timezone found, symbol may be delisted')\n"
          ]
        },
        {
          "name": "stdout",
          "output_type": "stream",
          "text": [
            "\n"
          ]
        },
        {
          "name": "stderr",
          "output_type": "stream",
          "text": [
            "<ipython-input-13-9293bd759bdd>:53: FutureWarning: The default value of numeric_only in DataFrameGroupBy.sum is deprecated. In a future version, numeric_only will default to False. Either specify numeric_only or select only columns which should be valid for the function.\n",
            "  data = data.groupby([data.Datetime.dt.month, data.Datetime.dt.day]).sum()\n"
          ]
        },
        {
          "name": "stdout",
          "output_type": "stream",
          "text": [
            "lmck - Completed\n",
            "[*********************100%%**********************]  1 of 1 completed\n",
            "adp - Completed\n"
          ]
        },
        {
          "name": "stderr",
          "output_type": "stream",
          "text": [
            "<ipython-input-13-9293bd759bdd>:53: FutureWarning: The default value of numeric_only in DataFrameGroupBy.sum is deprecated. In a future version, numeric_only will default to False. Either specify numeric_only or select only columns which should be valid for the function.\n",
            "  data = data.groupby([data.Datetime.dt.month, data.Datetime.dt.day]).sum()\n"
          ]
        },
        {
          "name": "stdout",
          "output_type": "stream",
          "text": [
            "\r[*********************100%%**********************]  1 of 1 completed\n",
            "ulta - Completed\n"
          ]
        },
        {
          "name": "stderr",
          "output_type": "stream",
          "text": [
            "<ipython-input-13-9293bd759bdd>:53: FutureWarning: The default value of numeric_only in DataFrameGroupBy.sum is deprecated. In a future version, numeric_only will default to False. Either specify numeric_only or select only columns which should be valid for the function.\n",
            "  data = data.groupby([data.Datetime.dt.month, data.Datetime.dt.day]).sum()\n"
          ]
        },
        {
          "name": "stdout",
          "output_type": "stream",
          "text": [
            "\r[*********************100%%**********************]  1 of 1 completed"
          ]
        },
        {
          "name": "stderr",
          "output_type": "stream",
          "text": [
            "ERROR:yfinance:\n",
            "1 Failed download:\n",
            "ERROR:yfinance:['FOX']: Exception(\"%ticker%: Data doesn't exist for startDate = 1459137600, endDate = 1466136000\")\n"
          ]
        },
        {
          "name": "stdout",
          "output_type": "stream",
          "text": [
            "\n",
            "fox - Completed\n"
          ]
        },
        {
          "name": "stderr",
          "output_type": "stream",
          "text": [
            "<ipython-input-13-9293bd759bdd>:53: FutureWarning: The default value of numeric_only in DataFrameGroupBy.sum is deprecated. In a future version, numeric_only will default to False. Either specify numeric_only or select only columns which should be valid for the function.\n",
            "  data = data.groupby([data.Datetime.dt.month, data.Datetime.dt.day]).sum()\n"
          ]
        },
        {
          "name": "stdout",
          "output_type": "stream",
          "text": [
            "\r[*********************100%%**********************]  1 of 1 completed\n",
            "qcom - Completed\n"
          ]
        },
        {
          "name": "stderr",
          "output_type": "stream",
          "text": [
            "<ipython-input-13-9293bd759bdd>:53: FutureWarning: The default value of numeric_only in DataFrameGroupBy.sum is deprecated. In a future version, numeric_only will default to False. Either specify numeric_only or select only columns which should be valid for the function.\n",
            "  data = data.groupby([data.Datetime.dt.month, data.Datetime.dt.day]).sum()\n"
          ]
        },
        {
          "name": "stdout",
          "output_type": "stream",
          "text": [
            "\r[*********************100%%**********************]  1 of 1 completed\n",
            "amzn - Completed\n"
          ]
        },
        {
          "name": "stderr",
          "output_type": "stream",
          "text": [
            "<ipython-input-13-9293bd759bdd>:53: FutureWarning: The default value of numeric_only in DataFrameGroupBy.sum is deprecated. In a future version, numeric_only will default to False. Either specify numeric_only or select only columns which should be valid for the function.\n",
            "  data = data.groupby([data.Datetime.dt.month, data.Datetime.dt.day]).sum()\n"
          ]
        },
        {
          "name": "stdout",
          "output_type": "stream",
          "text": [
            "\r[*********************100%%**********************]  1 of 1 completed\n",
            "expe - Completed\n"
          ]
        },
        {
          "name": "stderr",
          "output_type": "stream",
          "text": [
            "<ipython-input-13-9293bd759bdd>:53: FutureWarning: The default value of numeric_only in DataFrameGroupBy.sum is deprecated. In a future version, numeric_only will default to False. Either specify numeric_only or select only columns which should be valid for the function.\n",
            "  data = data.groupby([data.Datetime.dt.month, data.Datetime.dt.day]).sum()\n"
          ]
        },
        {
          "name": "stdout",
          "output_type": "stream",
          "text": [
            "\r[*********************100%%**********************]  1 of 1 completed"
          ]
        },
        {
          "name": "stderr",
          "output_type": "stream",
          "text": [
            "ERROR:yfinance:\n",
            "1 Failed download:\n",
            "ERROR:yfinance:['ALXN']: Exception('%ticker%: No timezone found, symbol may be delisted')\n"
          ]
        },
        {
          "name": "stdout",
          "output_type": "stream",
          "text": [
            "\n",
            "alxn - Completed\n"
          ]
        },
        {
          "name": "stderr",
          "output_type": "stream",
          "text": [
            "<ipython-input-13-9293bd759bdd>:53: FutureWarning: The default value of numeric_only in DataFrameGroupBy.sum is deprecated. In a future version, numeric_only will default to False. Either specify numeric_only or select only columns which should be valid for the function.\n",
            "  data = data.groupby([data.Datetime.dt.month, data.Datetime.dt.day]).sum()\n"
          ]
        },
        {
          "name": "stdout",
          "output_type": "stream",
          "text": [
            "\r[*********************100%%**********************]  1 of 1 completed"
          ]
        },
        {
          "name": "stderr",
          "output_type": "stream",
          "text": [
            "ERROR:yfinance:\n",
            "1 Failed download:\n",
            "ERROR:yfinance:['QVCA']: Exception('%ticker%: No price data found, symbol may be delisted (1d 2016-03-28 00:00:00 -> 2016-06-17 00:00:00)')\n"
          ]
        },
        {
          "name": "stdout",
          "output_type": "stream",
          "text": [
            "\n",
            "qvca - Completed\n"
          ]
        },
        {
          "name": "stderr",
          "output_type": "stream",
          "text": [
            "<ipython-input-13-9293bd759bdd>:53: FutureWarning: The default value of numeric_only in DataFrameGroupBy.sum is deprecated. In a future version, numeric_only will default to False. Either specify numeric_only or select only columns which should be valid for the function.\n",
            "  data = data.groupby([data.Datetime.dt.month, data.Datetime.dt.day]).sum()\n"
          ]
        },
        {
          "name": "stdout",
          "output_type": "stream",
          "text": [
            "\r[*********************100%%**********************]  1 of 1 completed\n",
            "trip - Completed\n"
          ]
        },
        {
          "name": "stderr",
          "output_type": "stream",
          "text": [
            "<ipython-input-13-9293bd759bdd>:53: FutureWarning: The default value of numeric_only in DataFrameGroupBy.sum is deprecated. In a future version, numeric_only will default to False. Either specify numeric_only or select only columns which should be valid for the function.\n",
            "  data = data.groupby([data.Datetime.dt.month, data.Datetime.dt.day]).sum()\n"
          ]
        },
        {
          "name": "stdout",
          "output_type": "stream",
          "text": [
            "\r[*********************100%%**********************]  1 of 1 completed\n",
            "mar - Completed\n"
          ]
        },
        {
          "name": "stderr",
          "output_type": "stream",
          "text": [
            "<ipython-input-13-9293bd759bdd>:53: FutureWarning: The default value of numeric_only in DataFrameGroupBy.sum is deprecated. In a future version, numeric_only will default to False. Either specify numeric_only or select only columns which should be valid for the function.\n",
            "  data = data.groupby([data.Datetime.dt.month, data.Datetime.dt.day]).sum()\n"
          ]
        },
        {
          "name": "stdout",
          "output_type": "stream",
          "text": [
            "\r[*********************100%%**********************]  1 of 1 completed\n",
            "mnst - Completed\n"
          ]
        },
        {
          "name": "stderr",
          "output_type": "stream",
          "text": [
            "<ipython-input-13-9293bd759bdd>:53: FutureWarning: The default value of numeric_only in DataFrameGroupBy.sum is deprecated. In a future version, numeric_only will default to False. Either specify numeric_only or select only columns which should be valid for the function.\n",
            "  data = data.groupby([data.Datetime.dt.month, data.Datetime.dt.day]).sum()\n"
          ]
        },
        {
          "name": "stdout",
          "output_type": "stream",
          "text": [
            "\r[*********************100%%**********************]  1 of 1 completed\n",
            "lrcx - Completed\n"
          ]
        },
        {
          "name": "stderr",
          "output_type": "stream",
          "text": [
            "<ipython-input-13-9293bd759bdd>:53: FutureWarning: The default value of numeric_only in DataFrameGroupBy.sum is deprecated. In a future version, numeric_only will default to False. Either specify numeric_only or select only columns which should be valid for the function.\n",
            "  data = data.groupby([data.Datetime.dt.month, data.Datetime.dt.day]).sum()\n"
          ]
        },
        {
          "name": "stdout",
          "output_type": "stream",
          "text": [
            "\r[*********************100%%**********************]  1 of 1 completed\n",
            "hsic - Completed\n"
          ]
        },
        {
          "name": "stderr",
          "output_type": "stream",
          "text": [
            "<ipython-input-13-9293bd759bdd>:53: FutureWarning: The default value of numeric_only in DataFrameGroupBy.sum is deprecated. In a future version, numeric_only will default to False. Either specify numeric_only or select only columns which should be valid for the function.\n",
            "  data = data.groupby([data.Datetime.dt.month, data.Datetime.dt.day]).sum()\n"
          ]
        },
        {
          "name": "stdout",
          "output_type": "stream",
          "text": [
            "\r[*********************100%%**********************]  1 of 1 completed\n",
            "sbux - Completed\n"
          ]
        },
        {
          "name": "stderr",
          "output_type": "stream",
          "text": [
            "<ipython-input-13-9293bd759bdd>:53: FutureWarning: The default value of numeric_only in DataFrameGroupBy.sum is deprecated. In a future version, numeric_only will default to False. Either specify numeric_only or select only columns which should be valid for the function.\n",
            "  data = data.groupby([data.Datetime.dt.month, data.Datetime.dt.day]).sum()\n"
          ]
        },
        {
          "name": "stdout",
          "output_type": "stream",
          "text": [
            "\r[*********************100%%**********************]  1 of 1 completed\n",
            "pcar - Completed\n"
          ]
        },
        {
          "name": "stderr",
          "output_type": "stream",
          "text": [
            "<ipython-input-13-9293bd759bdd>:53: FutureWarning: The default value of numeric_only in DataFrameGroupBy.sum is deprecated. In a future version, numeric_only will default to False. Either specify numeric_only or select only columns which should be valid for the function.\n",
            "  data = data.groupby([data.Datetime.dt.month, data.Datetime.dt.day]).sum()\n"
          ]
        },
        {
          "name": "stdout",
          "output_type": "stream",
          "text": [
            "\r[*********************100%%**********************]  1 of 1 completed\n",
            "isrg - Completed\n"
          ]
        },
        {
          "name": "stderr",
          "output_type": "stream",
          "text": [
            "<ipython-input-13-9293bd759bdd>:53: FutureWarning: The default value of numeric_only in DataFrameGroupBy.sum is deprecated. In a future version, numeric_only will default to False. Either specify numeric_only or select only columns which should be valid for the function.\n",
            "  data = data.groupby([data.Datetime.dt.month, data.Datetime.dt.day]).sum()\n"
          ]
        },
        {
          "name": "stdout",
          "output_type": "stream",
          "text": [
            "\r[*********************100%%**********************]  1 of 1 completed\n",
            "sbac - Completed\n"
          ]
        },
        {
          "name": "stderr",
          "output_type": "stream",
          "text": [
            "<ipython-input-13-9293bd759bdd>:53: FutureWarning: The default value of numeric_only in DataFrameGroupBy.sum is deprecated. In a future version, numeric_only will default to False. Either specify numeric_only or select only columns which should be valid for the function.\n",
            "  data = data.groupby([data.Datetime.dt.month, data.Datetime.dt.day]).sum()\n"
          ]
        },
        {
          "name": "stdout",
          "output_type": "stream",
          "text": [
            "\r[*********************100%%**********************]  1 of 1 completed\n",
            "pypl - Completed\n",
            "[*********************100%%**********************]  1 of 1 completed"
          ]
        },
        {
          "name": "stderr",
          "output_type": "stream",
          "text": [
            "<ipython-input-13-9293bd759bdd>:53: FutureWarning: The default value of numeric_only in DataFrameGroupBy.sum is deprecated. In a future version, numeric_only will default to False. Either specify numeric_only or select only columns which should be valid for the function.\n",
            "  data = data.groupby([data.Datetime.dt.month, data.Datetime.dt.day]).sum()\n",
            "ERROR:yfinance:\n",
            "1 Failed download:\n",
            "ERROR:yfinance:['FB']: Exception('%ticker%: No timezone found, symbol may be delisted')\n",
            "<ipython-input-13-9293bd759bdd>:53: FutureWarning: The default value of numeric_only in DataFrameGroupBy.sum is deprecated. In a future version, numeric_only will default to False. Either specify numeric_only or select only columns which should be valid for the function.\n",
            "  data = data.groupby([data.Datetime.dt.month, data.Datetime.dt.day]).sum()\n"
          ]
        },
        {
          "name": "stdout",
          "output_type": "stream",
          "text": [
            "\n",
            "fb - Completed\n",
            "[*********************100%%**********************]  1 of 1 completed\n",
            "mat - Completed\n"
          ]
        },
        {
          "name": "stderr",
          "output_type": "stream",
          "text": [
            "<ipython-input-13-9293bd759bdd>:53: FutureWarning: The default value of numeric_only in DataFrameGroupBy.sum is deprecated. In a future version, numeric_only will default to False. Either specify numeric_only or select only columns which should be valid for the function.\n",
            "  data = data.groupby([data.Datetime.dt.month, data.Datetime.dt.day]).sum()\n"
          ]
        },
        {
          "name": "stdout",
          "output_type": "stream",
          "text": [
            "\r[*********************100%%**********************]  1 of 1 completed\n",
            "regn - Completed\n"
          ]
        },
        {
          "name": "stderr",
          "output_type": "stream",
          "text": [
            "<ipython-input-13-9293bd759bdd>:53: FutureWarning: The default value of numeric_only in DataFrameGroupBy.sum is deprecated. In a future version, numeric_only will default to False. Either specify numeric_only or select only columns which should be valid for the function.\n",
            "  data = data.groupby([data.Datetime.dt.month, data.Datetime.dt.day]).sum()\n"
          ]
        },
        {
          "name": "stdout",
          "output_type": "stream",
          "text": [
            "\r[*********************100%%**********************]  1 of 1 completed\n",
            "akam - Completed\n"
          ]
        },
        {
          "name": "stderr",
          "output_type": "stream",
          "text": [
            "<ipython-input-13-9293bd759bdd>:53: FutureWarning: The default value of numeric_only in DataFrameGroupBy.sum is deprecated. In a future version, numeric_only will default to False. Either specify numeric_only or select only columns which should be valid for the function.\n",
            "  data = data.groupby([data.Datetime.dt.month, data.Datetime.dt.day]).sum()\n"
          ]
        },
        {
          "name": "stdout",
          "output_type": "stream",
          "text": [
            "\r[*********************100%%**********************]  1 of 1 completed"
          ]
        },
        {
          "name": "stderr",
          "output_type": "stream",
          "text": [
            "ERROR:yfinance:\n",
            "1 Failed download:\n",
            "ERROR:yfinance:['LMCA']: Exception('%ticker%: No price data found, symbol may be delisted (1d 2016-03-28 00:00:00 -> 2016-06-18 00:00:00)')\n"
          ]
        },
        {
          "name": "stdout",
          "output_type": "stream",
          "text": [
            "\n",
            "lmca - Completed\n"
          ]
        },
        {
          "name": "stderr",
          "output_type": "stream",
          "text": [
            "<ipython-input-13-9293bd759bdd>:53: FutureWarning: The default value of numeric_only in DataFrameGroupBy.sum is deprecated. In a future version, numeric_only will default to False. Either specify numeric_only or select only columns which should be valid for the function.\n",
            "  data = data.groupby([data.Datetime.dt.month, data.Datetime.dt.day]).sum()\n"
          ]
        },
        {
          "name": "stdout",
          "output_type": "stream",
          "text": [
            "\r[*********************100%%**********************]  1 of 1 completed\n",
            "vrtx - Completed\n"
          ]
        },
        {
          "name": "stderr",
          "output_type": "stream",
          "text": [
            "<ipython-input-13-9293bd759bdd>:53: FutureWarning: The default value of numeric_only in DataFrameGroupBy.sum is deprecated. In a future version, numeric_only will default to False. Either specify numeric_only or select only columns which should be valid for the function.\n",
            "  data = data.groupby([data.Datetime.dt.month, data.Datetime.dt.day]).sum()\n"
          ]
        },
        {
          "name": "stdout",
          "output_type": "stream",
          "text": [
            "\r[*********************100%%**********************]  1 of 1 completed\n",
            "nxpi - Completed\n"
          ]
        },
        {
          "name": "stderr",
          "output_type": "stream",
          "text": [
            "<ipython-input-13-9293bd759bdd>:53: FutureWarning: The default value of numeric_only in DataFrameGroupBy.sum is deprecated. In a future version, numeric_only will default to False. Either specify numeric_only or select only columns which should be valid for the function.\n",
            "  data = data.groupby([data.Datetime.dt.month, data.Datetime.dt.day]).sum()\n"
          ]
        },
        {
          "name": "stdout",
          "output_type": "stream",
          "text": [
            "\r[*********************100%%**********************]  1 of 1 completed\n",
            "mu - Completed\n"
          ]
        },
        {
          "name": "stderr",
          "output_type": "stream",
          "text": [
            "<ipython-input-13-9293bd759bdd>:53: FutureWarning: The default value of numeric_only in DataFrameGroupBy.sum is deprecated. In a future version, numeric_only will default to False. Either specify numeric_only or select only columns which should be valid for the function.\n",
            "  data = data.groupby([data.Datetime.dt.month, data.Datetime.dt.day]).sum()\n"
          ]
        },
        {
          "name": "stdout",
          "output_type": "stream",
          "text": [
            "\r[*********************100%%**********************]  1 of 1 completed"
          ]
        },
        {
          "name": "stderr",
          "output_type": "stream",
          "text": [
            "ERROR:yfinance:\n",
            "1 Failed download:\n",
            "ERROR:yfinance:['LLTC']: Exception('%ticker%: No price data found, symbol may be delisted (1d 2016-03-28 00:00:00 -> 2016-06-17 00:00:00)')\n"
          ]
        },
        {
          "name": "stdout",
          "output_type": "stream",
          "text": [
            "\n",
            "lltc - Completed\n"
          ]
        },
        {
          "name": "stderr",
          "output_type": "stream",
          "text": [
            "<ipython-input-13-9293bd759bdd>:53: FutureWarning: The default value of numeric_only in DataFrameGroupBy.sum is deprecated. In a future version, numeric_only will default to False. Either specify numeric_only or select only columns which should be valid for the function.\n",
            "  data = data.groupby([data.Datetime.dt.month, data.Datetime.dt.day]).sum()\n"
          ]
        },
        {
          "name": "stdout",
          "output_type": "stream",
          "text": [
            "\r[*********************100%%**********************]  1 of 1 completed\n",
            "gild - Completed\n"
          ]
        },
        {
          "name": "stderr",
          "output_type": "stream",
          "text": [
            "<ipython-input-13-9293bd759bdd>:53: FutureWarning: The default value of numeric_only in DataFrameGroupBy.sum is deprecated. In a future version, numeric_only will default to False. Either specify numeric_only or select only columns which should be valid for the function.\n",
            "  data = data.groupby([data.Datetime.dt.month, data.Datetime.dt.day]).sum()\n"
          ]
        },
        {
          "name": "stdout",
          "output_type": "stream",
          "text": [
            "\r[*********************100%%**********************]  1 of 1 completed\n",
            "ntes - Completed\n"
          ]
        },
        {
          "name": "stderr",
          "output_type": "stream",
          "text": [
            "<ipython-input-13-9293bd759bdd>:53: FutureWarning: The default value of numeric_only in DataFrameGroupBy.sum is deprecated. In a future version, numeric_only will default to False. Either specify numeric_only or select only columns which should be valid for the function.\n",
            "  data = data.groupby([data.Datetime.dt.month, data.Datetime.dt.day]).sum()\n"
          ]
        },
        {
          "name": "stdout",
          "output_type": "stream",
          "text": [
            "\r[*********************100%%**********************]  1 of 1 completed\n",
            "txn - Completed\n"
          ]
        },
        {
          "name": "stderr",
          "output_type": "stream",
          "text": [
            "<ipython-input-13-9293bd759bdd>:53: FutureWarning: The default value of numeric_only in DataFrameGroupBy.sum is deprecated. In a future version, numeric_only will default to False. Either specify numeric_only or select only columns which should be valid for the function.\n",
            "  data = data.groupby([data.Datetime.dt.month, data.Datetime.dt.day]).sum()\n"
          ]
        },
        {
          "name": "stdout",
          "output_type": "stream",
          "text": [
            "\r[*********************100%%**********************]  1 of 1 completed"
          ]
        },
        {
          "name": "stderr",
          "output_type": "stream",
          "text": [
            "ERROR:yfinance:\n",
            "1 Failed download:\n",
            "ERROR:yfinance:['WFM']: Exception('%ticker%: No price data found, symbol may be delisted (1d 2016-03-11 00:00:00 -> 2016-06-18 00:00:00)')\n"
          ]
        },
        {
          "name": "stdout",
          "output_type": "stream",
          "text": [
            "\n",
            "wfm - Completed\n"
          ]
        },
        {
          "name": "stderr",
          "output_type": "stream",
          "text": [
            "<ipython-input-13-9293bd759bdd>:53: FutureWarning: The default value of numeric_only in DataFrameGroupBy.sum is deprecated. In a future version, numeric_only will default to False. Either specify numeric_only or select only columns which should be valid for the function.\n",
            "  data = data.groupby([data.Datetime.dt.month, data.Datetime.dt.day]).sum()\n"
          ]
        },
        {
          "name": "stdout",
          "output_type": "stream",
          "text": [
            "\r[*********************100%%**********************]  1 of 1 completed\n",
            "googl - Completed\n"
          ]
        },
        {
          "name": "stderr",
          "output_type": "stream",
          "text": [
            "<ipython-input-13-9293bd759bdd>:53: FutureWarning: The default value of numeric_only in DataFrameGroupBy.sum is deprecated. In a future version, numeric_only will default to False. Either specify numeric_only or select only columns which should be valid for the function.\n",
            "  data = data.groupby([data.Datetime.dt.month, data.Datetime.dt.day]).sum()\n"
          ]
        },
        {
          "name": "stdout",
          "output_type": "stream",
          "text": [
            "\r[*********************100%%**********************]  1 of 1 completed\n",
            "msft - Completed\n"
          ]
        },
        {
          "name": "stderr",
          "output_type": "stream",
          "text": [
            "<ipython-input-13-9293bd759bdd>:53: FutureWarning: The default value of numeric_only in DataFrameGroupBy.sum is deprecated. In a future version, numeric_only will default to False. Either specify numeric_only or select only columns which should be valid for the function.\n",
            "  data = data.groupby([data.Datetime.dt.month, data.Datetime.dt.day]).sum()\n"
          ]
        },
        {
          "name": "stdout",
          "output_type": "stream",
          "text": [
            "\r[*********************100%%**********************]  1 of 1 completed\n",
            "mdlz - Completed\n"
          ]
        },
        {
          "name": "stderr",
          "output_type": "stream",
          "text": [
            "<ipython-input-13-9293bd759bdd>:53: FutureWarning: The default value of numeric_only in DataFrameGroupBy.sum is deprecated. In a future version, numeric_only will default to False. Either specify numeric_only or select only columns which should be valid for the function.\n",
            "  data = data.groupby([data.Datetime.dt.month, data.Datetime.dt.day]).sum()\n"
          ]
        },
        {
          "name": "stdout",
          "output_type": "stream",
          "text": [
            "\r[*********************100%%**********************]  1 of 1 completed\n",
            "vod - Completed\n"
          ]
        },
        {
          "name": "stderr",
          "output_type": "stream",
          "text": [
            "<ipython-input-13-9293bd759bdd>:53: FutureWarning: The default value of numeric_only in DataFrameGroupBy.sum is deprecated. In a future version, numeric_only will default to False. Either specify numeric_only or select only columns which should be valid for the function.\n",
            "  data = data.groupby([data.Datetime.dt.month, data.Datetime.dt.day]).sum()\n"
          ]
        },
        {
          "name": "stdout",
          "output_type": "stream",
          "text": [
            "\r[*********************100%%**********************]  1 of 1 completed"
          ]
        },
        {
          "name": "stderr",
          "output_type": "stream",
          "text": [
            "ERROR:yfinance:\n",
            "1 Failed download:\n",
            "ERROR:yfinance:['MXIM']: Exception('%ticker%: No timezone found, symbol may be delisted')\n"
          ]
        },
        {
          "name": "stdout",
          "output_type": "stream",
          "text": [
            "\n",
            "mxim - Completed\n"
          ]
        },
        {
          "name": "stderr",
          "output_type": "stream",
          "text": [
            "<ipython-input-13-9293bd759bdd>:53: FutureWarning: The default value of numeric_only in DataFrameGroupBy.sum is deprecated. In a future version, numeric_only will default to False. Either specify numeric_only or select only columns which should be valid for the function.\n",
            "  data = data.groupby([data.Datetime.dt.month, data.Datetime.dt.day]).sum()\n"
          ]
        },
        {
          "name": "stdout",
          "output_type": "stream",
          "text": [
            "\r[*********************100%%**********************]  1 of 1 completed\n",
            "intu - Completed\n"
          ]
        },
        {
          "name": "stderr",
          "output_type": "stream",
          "text": [
            "<ipython-input-13-9293bd759bdd>:53: FutureWarning: The default value of numeric_only in DataFrameGroupBy.sum is deprecated. In a future version, numeric_only will default to False. Either specify numeric_only or select only columns which should be valid for the function.\n",
            "  data = data.groupby([data.Datetime.dt.month, data.Datetime.dt.day]).sum()\n"
          ]
        },
        {
          "name": "stdout",
          "output_type": "stream",
          "text": [
            "\r[*********************100%%**********************]  1 of 1 completed\n",
            "orly - Completed\n"
          ]
        },
        {
          "name": "stderr",
          "output_type": "stream",
          "text": [
            "<ipython-input-13-9293bd759bdd>:53: FutureWarning: The default value of numeric_only in DataFrameGroupBy.sum is deprecated. In a future version, numeric_only will default to False. Either specify numeric_only or select only columns which should be valid for the function.\n",
            "  data = data.groupby([data.Datetime.dt.month, data.Datetime.dt.day]).sum()\n"
          ]
        },
        {
          "name": "stdout",
          "output_type": "stream",
          "text": [
            "[*********************100%%**********************]  1 of 1 completed\n",
            "bidu - Completed\n",
            "[*********************100%%**********************]  1 of 1 completed"
          ]
        },
        {
          "name": "stderr",
          "output_type": "stream",
          "text": [
            "<ipython-input-13-9293bd759bdd>:53: FutureWarning: The default value of numeric_only in DataFrameGroupBy.sum is deprecated. In a future version, numeric_only will default to False. Either specify numeric_only or select only columns which should be valid for the function.\n",
            "  data = data.groupby([data.Datetime.dt.month, data.Datetime.dt.day]).sum()\n",
            "ERROR:yfinance:\n",
            "1 Failed download:\n",
            "ERROR:yfinance:['BBBY']: Exception('%ticker%: No timezone found, symbol may be delisted')\n"
          ]
        },
        {
          "name": "stdout",
          "output_type": "stream",
          "text": [
            "\n"
          ]
        },
        {
          "name": "stderr",
          "output_type": "stream",
          "text": [
            "<ipython-input-13-9293bd759bdd>:53: FutureWarning: The default value of numeric_only in DataFrameGroupBy.sum is deprecated. In a future version, numeric_only will default to False. Either specify numeric_only or select only columns which should be valid for the function.\n",
            "  data = data.groupby([data.Datetime.dt.month, data.Datetime.dt.day]).sum()\n"
          ]
        },
        {
          "name": "stdout",
          "output_type": "stream",
          "text": [
            "bbby - Completed\n",
            "[*********************100%%**********************]  1 of 1 completed"
          ]
        },
        {
          "name": "stderr",
          "output_type": "stream",
          "text": [
            "ERROR:yfinance:\n",
            "1 Failed download:\n",
            "ERROR:yfinance:['FOXA']: Exception(\"%ticker%: Data doesn't exist for startDate = 1459224000, endDate = 1466222400\")\n"
          ]
        },
        {
          "name": "stdout",
          "output_type": "stream",
          "text": [
            "\n",
            "foxa - Completed\n"
          ]
        },
        {
          "name": "stderr",
          "output_type": "stream",
          "text": [
            "<ipython-input-13-9293bd759bdd>:53: FutureWarning: The default value of numeric_only in DataFrameGroupBy.sum is deprecated. In a future version, numeric_only will default to False. Either specify numeric_only or select only columns which should be valid for the function.\n",
            "  data = data.groupby([data.Datetime.dt.month, data.Datetime.dt.day]).sum()\n"
          ]
        },
        {
          "name": "stdout",
          "output_type": "stream",
          "text": [
            "\r[*********************100%%**********************]  1 of 1 completed"
          ]
        },
        {
          "name": "stderr",
          "output_type": "stream",
          "text": [
            "ERROR:yfinance:\n",
            "1 Failed download:\n",
            "ERROR:yfinance:['DISCK']: Exception('%ticker%: No timezone found, symbol may be delisted')\n"
          ]
        },
        {
          "name": "stdout",
          "output_type": "stream",
          "text": [
            "\n",
            "disck - Completed\n"
          ]
        },
        {
          "name": "stderr",
          "output_type": "stream",
          "text": [
            "<ipython-input-13-9293bd759bdd>:53: FutureWarning: The default value of numeric_only in DataFrameGroupBy.sum is deprecated. In a future version, numeric_only will default to False. Either specify numeric_only or select only columns which should be valid for the function.\n",
            "  data = data.groupby([data.Datetime.dt.month, data.Datetime.dt.day]).sum()\n"
          ]
        },
        {
          "name": "stdout",
          "output_type": "stream",
          "text": [
            "\r[*********************100%%**********************]  1 of 1 completed\n",
            "goog - Completed\n"
          ]
        },
        {
          "name": "stderr",
          "output_type": "stream",
          "text": [
            "<ipython-input-13-9293bd759bdd>:53: FutureWarning: The default value of numeric_only in DataFrameGroupBy.sum is deprecated. In a future version, numeric_only will default to False. Either specify numeric_only or select only columns which should be valid for the function.\n",
            "  data = data.groupby([data.Datetime.dt.month, data.Datetime.dt.day]).sum()\n"
          ]
        },
        {
          "name": "stdout",
          "output_type": "stream",
          "text": [
            "\r[*********************100%%**********************]  1 of 1 completed\n",
            "aapl - Completed\n"
          ]
        },
        {
          "name": "stderr",
          "output_type": "stream",
          "text": [
            "<ipython-input-13-9293bd759bdd>:53: FutureWarning: The default value of numeric_only in DataFrameGroupBy.sum is deprecated. In a future version, numeric_only will default to False. Either specify numeric_only or select only columns which should be valid for the function.\n",
            "  data = data.groupby([data.Datetime.dt.month, data.Datetime.dt.day]).sum()\n"
          ]
        },
        {
          "name": "stdout",
          "output_type": "stream",
          "text": [
            "\r[*********************100%%**********************]  1 of 1 completed\n",
            "inct - Completed\n"
          ]
        },
        {
          "name": "stderr",
          "output_type": "stream",
          "text": [
            "<ipython-input-13-9293bd759bdd>:53: FutureWarning: The default value of numeric_only in DataFrameGroupBy.sum is deprecated. In a future version, numeric_only will default to False. Either specify numeric_only or select only columns which should be valid for the function.\n",
            "  data = data.groupby([data.Datetime.dt.month, data.Datetime.dt.day]).sum()\n"
          ]
        },
        {
          "name": "stdout",
          "output_type": "stream",
          "text": [
            "\r[*********************100%%**********************]  1 of 1 completed\n",
            "ilmn - Completed\n"
          ]
        },
        {
          "name": "stderr",
          "output_type": "stream",
          "text": [
            "<ipython-input-13-9293bd759bdd>:53: FutureWarning: The default value of numeric_only in DataFrameGroupBy.sum is deprecated. In a future version, numeric_only will default to False. Either specify numeric_only or select only columns which should be valid for the function.\n",
            "  data = data.groupby([data.Datetime.dt.month, data.Datetime.dt.day]).sum()\n"
          ]
        },
        {
          "name": "stdout",
          "output_type": "stream",
          "text": [
            "[*********************100%%**********************]  1 of 1 completed\n",
            "ebay - Completed\n",
            "[*********************100%%**********************]  1 of 1 completed"
          ]
        },
        {
          "name": "stderr",
          "output_type": "stream",
          "text": [
            "<ipython-input-13-9293bd759bdd>:53: FutureWarning: The default value of numeric_only in DataFrameGroupBy.sum is deprecated. In a future version, numeric_only will default to False. Either specify numeric_only or select only columns which should be valid for the function.\n",
            "  data = data.groupby([data.Datetime.dt.month, data.Datetime.dt.day]).sum()\n",
            "ERROR:yfinance:\n",
            "1 Failed download:\n",
            "ERROR:yfinance:['MYL']: Exception('%ticker%: No timezone found, symbol may be delisted')\n"
          ]
        },
        {
          "name": "stdout",
          "output_type": "stream",
          "text": [
            "\n",
            "myl - Completed\n"
          ]
        },
        {
          "name": "stderr",
          "output_type": "stream",
          "text": [
            "<ipython-input-13-9293bd759bdd>:53: FutureWarning: The default value of numeric_only in DataFrameGroupBy.sum is deprecated. In a future version, numeric_only will default to False. Either specify numeric_only or select only columns which should be valid for the function.\n",
            "  data = data.groupby([data.Datetime.dt.month, data.Datetime.dt.day]).sum()\n"
          ]
        },
        {
          "name": "stdout",
          "output_type": "stream",
          "text": [
            "\r[*********************100%%**********************]  1 of 1 completed\n",
            "ea - Completed\n"
          ]
        },
        {
          "name": "stderr",
          "output_type": "stream",
          "text": [
            "<ipython-input-13-9293bd759bdd>:53: FutureWarning: The default value of numeric_only in DataFrameGroupBy.sum is deprecated. In a future version, numeric_only will default to False. Either specify numeric_only or select only columns which should be valid for the function.\n",
            "  data = data.groupby([data.Datetime.dt.month, data.Datetime.dt.day]).sum()\n"
          ]
        },
        {
          "name": "stdout",
          "output_type": "stream",
          "text": [
            "\r[*********************100%%**********************]  1 of 1 completed\n",
            "atvi - Completed\n"
          ]
        },
        {
          "name": "stderr",
          "output_type": "stream",
          "text": [
            "<ipython-input-13-9293bd759bdd>:53: FutureWarning: The default value of numeric_only in DataFrameGroupBy.sum is deprecated. In a future version, numeric_only will default to False. Either specify numeric_only or select only columns which should be valid for the function.\n",
            "  data = data.groupby([data.Datetime.dt.month, data.Datetime.dt.day]).sum()\n"
          ]
        },
        {
          "name": "stdout",
          "output_type": "stream",
          "text": [
            "\r[*********************100%%**********************]  1 of 1 completed\n",
            "khc - Completed\n"
          ]
        },
        {
          "name": "stderr",
          "output_type": "stream",
          "text": [
            "<ipython-input-13-9293bd759bdd>:53: FutureWarning: The default value of numeric_only in DataFrameGroupBy.sum is deprecated. In a future version, numeric_only will default to False. Either specify numeric_only or select only columns which should be valid for the function.\n",
            "  data = data.groupby([data.Datetime.dt.month, data.Datetime.dt.day]).sum()\n"
          ]
        },
        {
          "name": "stdout",
          "output_type": "stream",
          "text": [
            "\r[*********************100%%**********************]  1 of 1 completed\n",
            "vrsk - Completed\n"
          ]
        },
        {
          "name": "stderr",
          "output_type": "stream",
          "text": [
            "<ipython-input-13-9293bd759bdd>:53: FutureWarning: The default value of numeric_only in DataFrameGroupBy.sum is deprecated. In a future version, numeric_only will default to False. Either specify numeric_only or select only columns which should be valid for the function.\n",
            "  data = data.groupby([data.Datetime.dt.month, data.Datetime.dt.day]).sum()\n"
          ]
        },
        {
          "name": "stdout",
          "output_type": "stream",
          "text": [
            "\r[*********************100%%**********************]  1 of 1 completed\n",
            "payx - Completed\n"
          ]
        },
        {
          "name": "stderr",
          "output_type": "stream",
          "text": [
            "<ipython-input-13-9293bd759bdd>:53: FutureWarning: The default value of numeric_only in DataFrameGroupBy.sum is deprecated. In a future version, numeric_only will default to False. Either specify numeric_only or select only columns which should be valid for the function.\n",
            "  data = data.groupby([data.Datetime.dt.month, data.Datetime.dt.day]).sum()\n"
          ]
        },
        {
          "name": "stdout",
          "output_type": "stream",
          "text": [
            "\r[*********************100%%**********************]  1 of 1 completed\n",
            "wdc - Completed\n"
          ]
        },
        {
          "name": "stderr",
          "output_type": "stream",
          "text": [
            "<ipython-input-13-9293bd759bdd>:53: FutureWarning: The default value of numeric_only in DataFrameGroupBy.sum is deprecated. In a future version, numeric_only will default to False. Either specify numeric_only or select only columns which should be valid for the function.\n",
            "  data = data.groupby([data.Datetime.dt.month, data.Datetime.dt.day]).sum()\n"
          ]
        },
        {
          "name": "stdout",
          "output_type": "stream",
          "text": [
            "\r[*********************100%%**********************]  1 of 1 completed\n",
            "csco - Completed\n"
          ]
        },
        {
          "name": "stderr",
          "output_type": "stream",
          "text": [
            "<ipython-input-13-9293bd759bdd>:53: FutureWarning: The default value of numeric_only in DataFrameGroupBy.sum is deprecated. In a future version, numeric_only will default to False. Either specify numeric_only or select only columns which should be valid for the function.\n",
            "  data = data.groupby([data.Datetime.dt.month, data.Datetime.dt.day]).sum()\n"
          ]
        },
        {
          "name": "stdout",
          "output_type": "stream",
          "text": [
            "\r[*********************100%%**********************]  1 of 1 completed\n",
            "cost - Completed\n"
          ]
        },
        {
          "name": "stderr",
          "output_type": "stream",
          "text": [
            "<ipython-input-13-9293bd759bdd>:53: FutureWarning: The default value of numeric_only in DataFrameGroupBy.sum is deprecated. In a future version, numeric_only will default to False. Either specify numeric_only or select only columns which should be valid for the function.\n",
            "  data = data.groupby([data.Datetime.dt.month, data.Datetime.dt.day]).sum()\n"
          ]
        },
        {
          "name": "stdout",
          "output_type": "stream",
          "text": [
            "\r[*********************100%%**********************]  1 of 1 completed\n",
            "dltr - Completed\n"
          ]
        },
        {
          "name": "stderr",
          "output_type": "stream",
          "text": [
            "<ipython-input-13-9293bd759bdd>:53: FutureWarning: The default value of numeric_only in DataFrameGroupBy.sum is deprecated. In a future version, numeric_only will default to False. Either specify numeric_only or select only columns which should be valid for the function.\n",
            "  data = data.groupby([data.Datetime.dt.month, data.Datetime.dt.day]).sum()\n"
          ]
        },
        {
          "name": "stdout",
          "output_type": "stream",
          "text": [
            "\r[*********************100%%**********************]  1 of 1 completed\n",
            "dish - Completed\n"
          ]
        },
        {
          "name": "stderr",
          "output_type": "stream",
          "text": [
            "<ipython-input-13-9293bd759bdd>:53: FutureWarning: The default value of numeric_only in DataFrameGroupBy.sum is deprecated. In a future version, numeric_only will default to False. Either specify numeric_only or select only columns which should be valid for the function.\n",
            "  data = data.groupby([data.Datetime.dt.month, data.Datetime.dt.day]).sum()\n"
          ]
        },
        {
          "name": "stdout",
          "output_type": "stream",
          "text": [
            "\r[*********************100%%**********************]  1 of 1 completed"
          ]
        },
        {
          "name": "stderr",
          "output_type": "stream",
          "text": [
            "ERROR:yfinance:\n",
            "1 Failed download:\n",
            "ERROR:yfinance:['ENDP']: Exception('%ticker%: No timezone found, symbol may be delisted')\n"
          ]
        },
        {
          "name": "stdout",
          "output_type": "stream",
          "text": [
            "\n",
            "endp - Completed\n"
          ]
        },
        {
          "name": "stderr",
          "output_type": "stream",
          "text": [
            "<ipython-input-13-9293bd759bdd>:53: FutureWarning: The default value of numeric_only in DataFrameGroupBy.sum is deprecated. In a future version, numeric_only will default to False. Either specify numeric_only or select only columns which should be valid for the function.\n",
            "  data = data.groupby([data.Datetime.dt.month, data.Datetime.dt.day]).sum()\n"
          ]
        },
        {
          "name": "stdout",
          "output_type": "stream",
          "text": [
            "\r[*********************100%%**********************]  1 of 1 completed\n",
            "amat - Completed\n"
          ]
        },
        {
          "name": "stderr",
          "output_type": "stream",
          "text": [
            "<ipython-input-13-9293bd759bdd>:53: FutureWarning: The default value of numeric_only in DataFrameGroupBy.sum is deprecated. In a future version, numeric_only will default to False. Either specify numeric_only or select only columns which should be valid for the function.\n",
            "  data = data.groupby([data.Datetime.dt.month, data.Datetime.dt.day]).sum()\n"
          ]
        },
        {
          "name": "stdout",
          "output_type": "stream",
          "text": [
            "\r[*********************100%%**********************]  1 of 1 completed"
          ]
        },
        {
          "name": "stderr",
          "output_type": "stream",
          "text": [
            "ERROR:yfinance:\n",
            "1 Failed download:\n",
            "ERROR:yfinance:['SYMC']: Exception('%ticker%: No timezone found, symbol may be delisted')\n"
          ]
        },
        {
          "name": "stdout",
          "output_type": "stream",
          "text": [
            "\n",
            "symc - Completed\n"
          ]
        },
        {
          "name": "stderr",
          "output_type": "stream",
          "text": [
            "<ipython-input-13-9293bd759bdd>:53: FutureWarning: The default value of numeric_only in DataFrameGroupBy.sum is deprecated. In a future version, numeric_only will default to False. Either specify numeric_only or select only columns which should be valid for the function.\n",
            "  data = data.groupby([data.Datetime.dt.month, data.Datetime.dt.day]).sum()\n"
          ]
        },
        {
          "name": "stdout",
          "output_type": "stream",
          "text": [
            "\r[*********************100%%**********************]  1 of 1 completed\n",
            "wba - Completed\n"
          ]
        },
        {
          "name": "stderr",
          "output_type": "stream",
          "text": [
            "<ipython-input-13-9293bd759bdd>:53: FutureWarning: The default value of numeric_only in DataFrameGroupBy.sum is deprecated. In a future version, numeric_only will default to False. Either specify numeric_only or select only columns which should be valid for the function.\n",
            "  data = data.groupby([data.Datetime.dt.month, data.Datetime.dt.day]).sum()\n"
          ]
        },
        {
          "name": "stdout",
          "output_type": "stream",
          "text": [
            "\r[*********************100%%**********************]  1 of 1 completed"
          ]
        },
        {
          "name": "stderr",
          "output_type": "stream",
          "text": [
            "ERROR:yfinance:\n",
            "1 Failed download:\n",
            "ERROR:yfinance:['VIAB']: Exception('%ticker%: No timezone found, symbol may be delisted')\n"
          ]
        },
        {
          "name": "stdout",
          "output_type": "stream",
          "text": [
            "\n",
            "viab - Completed\n"
          ]
        },
        {
          "name": "stderr",
          "output_type": "stream",
          "text": [
            "<ipython-input-13-9293bd759bdd>:53: FutureWarning: The default value of numeric_only in DataFrameGroupBy.sum is deprecated. In a future version, numeric_only will default to False. Either specify numeric_only or select only columns which should be valid for the function.\n",
            "  data = data.groupby([data.Datetime.dt.month, data.Datetime.dt.day]).sum()\n"
          ]
        },
        {
          "name": "stdout",
          "output_type": "stream",
          "text": [
            "\r[*********************100%%**********************]  1 of 1 completed\n",
            "lbtyk - Completed\n"
          ]
        },
        {
          "name": "stderr",
          "output_type": "stream",
          "text": [
            "<ipython-input-13-9293bd759bdd>:53: FutureWarning: The default value of numeric_only in DataFrameGroupBy.sum is deprecated. In a future version, numeric_only will default to False. Either specify numeric_only or select only columns which should be valid for the function.\n",
            "  data = data.groupby([data.Datetime.dt.month, data.Datetime.dt.day]).sum()\n"
          ]
        },
        {
          "name": "stdout",
          "output_type": "stream",
          "text": [
            "\r[*********************100%%**********************]  1 of 1 completed\n",
            "csx - Completed\n",
            "[*********************100%%**********************]  1 of 1 completed"
          ]
        },
        {
          "name": "stderr",
          "output_type": "stream",
          "text": [
            "<ipython-input-13-9293bd759bdd>:53: FutureWarning: The default value of numeric_only in DataFrameGroupBy.sum is deprecated. In a future version, numeric_only will default to False. Either specify numeric_only or select only columns which should be valid for the function.\n",
            "  data = data.groupby([data.Datetime.dt.month, data.Datetime.dt.day]).sum()\n",
            "ERROR:yfinance:\n",
            "1 Failed download:\n",
            "ERROR:yfinance:['CELG']: Exception('%ticker%: No timezone found, symbol may be delisted')\n",
            "<ipython-input-13-9293bd759bdd>:53: FutureWarning: The default value of numeric_only in DataFrameGroupBy.sum is deprecated. In a future version, numeric_only will default to False. Either specify numeric_only or select only columns which should be valid for the function.\n",
            "  data = data.groupby([data.Datetime.dt.month, data.Datetime.dt.day]).sum()\n"
          ]
        },
        {
          "name": "stdout",
          "output_type": "stream",
          "text": [
            "\n",
            "celg - Completed\n",
            "[*********************100%%**********************]  1 of 1 completed\n",
            "jd - Completed\n"
          ]
        },
        {
          "name": "stderr",
          "output_type": "stream",
          "text": [
            "<ipython-input-13-9293bd759bdd>:53: FutureWarning: The default value of numeric_only in DataFrameGroupBy.sum is deprecated. In a future version, numeric_only will default to False. Either specify numeric_only or select only columns which should be valid for the function.\n",
            "  data = data.groupby([data.Datetime.dt.month, data.Datetime.dt.day]).sum()\n"
          ]
        },
        {
          "name": "stdout",
          "output_type": "stream",
          "text": [
            "\r[*********************100%%**********************]  1 of 1 completed\n",
            "swks - Completed\n"
          ]
        },
        {
          "name": "stderr",
          "output_type": "stream",
          "text": [
            "<ipython-input-13-9293bd759bdd>:53: FutureWarning: The default value of numeric_only in DataFrameGroupBy.sum is deprecated. In a future version, numeric_only will default to False. Either specify numeric_only or select only columns which should be valid for the function.\n",
            "  data = data.groupby([data.Datetime.dt.month, data.Datetime.dt.day]).sum()\n"
          ]
        },
        {
          "name": "stdout",
          "output_type": "stream",
          "text": [
            "\r[*********************100%%**********************]  1 of 1 completed\n",
            "fast - Completed\n"
          ]
        },
        {
          "name": "stderr",
          "output_type": "stream",
          "text": [
            "<ipython-input-13-9293bd759bdd>:53: FutureWarning: The default value of numeric_only in DataFrameGroupBy.sum is deprecated. In a future version, numeric_only will default to False. Either specify numeric_only or select only columns which should be valid for the function.\n",
            "  data = data.groupby([data.Datetime.dt.month, data.Datetime.dt.day]).sum()\n"
          ]
        },
        {
          "name": "stdout",
          "output_type": "stream",
          "text": [
            "\r[*********************100%%**********************]  1 of 1 completed\n",
            "avgo - Completed\n"
          ]
        },
        {
          "name": "stderr",
          "output_type": "stream",
          "text": [
            "<ipython-input-13-9293bd759bdd>:53: FutureWarning: The default value of numeric_only in DataFrameGroupBy.sum is deprecated. In a future version, numeric_only will default to False. Either specify numeric_only or select only columns which should be valid for the function.\n",
            "  data = data.groupby([data.Datetime.dt.month, data.Datetime.dt.day]).sum()\n"
          ]
        },
        {
          "name": "stdout",
          "output_type": "stream",
          "text": [
            "\r[*********************100%%**********************]  1 of 1 completed\n",
            "ntap - Completed\n"
          ]
        },
        {
          "name": "stderr",
          "output_type": "stream",
          "text": [
            "<ipython-input-13-9293bd759bdd>:53: FutureWarning: The default value of numeric_only in DataFrameGroupBy.sum is deprecated. In a future version, numeric_only will default to False. Either specify numeric_only or select only columns which should be valid for the function.\n",
            "  data = data.groupby([data.Datetime.dt.month, data.Datetime.dt.day]).sum()\n"
          ]
        },
        {
          "name": "stdout",
          "output_type": "stream",
          "text": [
            "\r[*********************100%%**********************]  1 of 1 completed"
          ]
        },
        {
          "name": "stderr",
          "output_type": "stream",
          "text": [
            "ERROR:yfinance:\n",
            "1 Failed download:\n",
            "ERROR:yfinance:['YHOO']: Exception('%ticker%: No timezone found, symbol may be delisted')\n"
          ]
        },
        {
          "name": "stdout",
          "output_type": "stream",
          "text": [
            "\n",
            "yhoo - Completed\n"
          ]
        },
        {
          "name": "stderr",
          "output_type": "stream",
          "text": [
            "<ipython-input-13-9293bd759bdd>:53: FutureWarning: The default value of numeric_only in DataFrameGroupBy.sum is deprecated. In a future version, numeric_only will default to False. Either specify numeric_only or select only columns which should be valid for the function.\n",
            "  data = data.groupby([data.Datetime.dt.month, data.Datetime.dt.day]).sum()\n"
          ]
        },
        {
          "name": "stdout",
          "output_type": "stream",
          "text": [
            "\r[*********************100%%**********************]  1 of 1 completed\n",
            "cmcsa - Completed\n"
          ]
        },
        {
          "name": "stderr",
          "output_type": "stream",
          "text": [
            "<ipython-input-13-9293bd759bdd>:53: FutureWarning: The default value of numeric_only in DataFrameGroupBy.sum is deprecated. In a future version, numeric_only will default to False. Either specify numeric_only or select only columns which should be valid for the function.\n",
            "  data = data.groupby([data.Datetime.dt.month, data.Datetime.dt.day]).sum()\n"
          ]
        },
        {
          "name": "stdout",
          "output_type": "stream",
          "text": [
            "\r[*********************100%%**********************]  1 of 1 completed\n",
            "rost - Completed\n"
          ]
        },
        {
          "name": "stderr",
          "output_type": "stream",
          "text": [
            "<ipython-input-13-9293bd759bdd>:53: FutureWarning: The default value of numeric_only in DataFrameGroupBy.sum is deprecated. In a future version, numeric_only will default to False. Either specify numeric_only or select only columns which should be valid for the function.\n",
            "  data = data.groupby([data.Datetime.dt.month, data.Datetime.dt.day]).sum()\n"
          ]
        },
        {
          "name": "stdout",
          "output_type": "stream",
          "text": [
            "\r[*********************100%%**********************]  1 of 1 completed"
          ]
        },
        {
          "name": "stderr",
          "output_type": "stream",
          "text": [
            "ERROR:yfinance:\n",
            "1 Failed download:\n",
            "ERROR:yfinance:['PCLN']: Exception('%ticker%: No price data found, symbol may be delisted (1d 2016-03-28 00:00:00 -> 2016-06-18 00:00:00)')\n"
          ]
        },
        {
          "name": "stdout",
          "output_type": "stream",
          "text": [
            "\n",
            "pcln - Completed\n"
          ]
        },
        {
          "name": "stderr",
          "output_type": "stream",
          "text": [
            "<ipython-input-13-9293bd759bdd>:53: FutureWarning: The default value of numeric_only in DataFrameGroupBy.sum is deprecated. In a future version, numeric_only will default to False. Either specify numeric_only or select only columns which should be valid for the function.\n",
            "  data = data.groupby([data.Datetime.dt.month, data.Datetime.dt.day]).sum()\n"
          ]
        },
        {
          "name": "stdout",
          "output_type": "stream",
          "text": [
            "\r[*********************100%%**********************]  1 of 1 completed"
          ]
        },
        {
          "name": "stderr",
          "output_type": "stream",
          "text": [
            "ERROR:yfinance:\n",
            "1 Failed download:\n",
            "ERROR:yfinance:['LVNTA']: Exception('%ticker%: No price data found, symbol may be delisted (1d 2016-03-29 00:00:00 -> 2016-06-18 00:00:00)')\n"
          ]
        },
        {
          "name": "stdout",
          "output_type": "stream",
          "text": [
            "\n",
            "lvnta - Completed\n"
          ]
        },
        {
          "name": "stderr",
          "output_type": "stream",
          "text": [
            "<ipython-input-13-9293bd759bdd>:53: FutureWarning: The default value of numeric_only in DataFrameGroupBy.sum is deprecated. In a future version, numeric_only will default to False. Either specify numeric_only or select only columns which should be valid for the function.\n",
            "  data = data.groupby([data.Datetime.dt.month, data.Datetime.dt.day]).sum()\n"
          ]
        },
        {
          "name": "stdout",
          "output_type": "stream",
          "text": [
            "\r[*********************100%%**********************]  1 of 1 completed\n",
            "bmrn - Completed\n"
          ]
        },
        {
          "name": "stderr",
          "output_type": "stream",
          "text": [
            "<ipython-input-13-9293bd759bdd>:53: FutureWarning: The default value of numeric_only in DataFrameGroupBy.sum is deprecated. In a future version, numeric_only will default to False. Either specify numeric_only or select only columns which should be valid for the function.\n",
            "  data = data.groupby([data.Datetime.dt.month, data.Datetime.dt.day]).sum()\n"
          ]
        },
        {
          "name": "stdout",
          "output_type": "stream",
          "text": [
            "\r[*********************100%%**********************]  1 of 1 completed"
          ]
        },
        {
          "name": "stderr",
          "output_type": "stream",
          "text": [
            "ERROR:yfinance:\n",
            "1 Failed download:\n",
            "ERROR:yfinance:['SNDK']: Exception('%ticker%: No price data found, symbol may be delisted (1d 2016-03-28 00:00:00 -> 2016-06-18 00:00:00)')\n"
          ]
        },
        {
          "name": "stdout",
          "output_type": "stream",
          "text": [
            "\n",
            "sndk - Completed\n"
          ]
        },
        {
          "name": "stderr",
          "output_type": "stream",
          "text": [
            "<ipython-input-13-9293bd759bdd>:53: FutureWarning: The default value of numeric_only in DataFrameGroupBy.sum is deprecated. In a future version, numeric_only will default to False. Either specify numeric_only or select only columns which should be valid for the function.\n",
            "  data = data.groupby([data.Datetime.dt.month, data.Datetime.dt.day]).sum()\n"
          ]
        },
        {
          "name": "stdout",
          "output_type": "stream",
          "text": [
            "[*********************100%%**********************]  1 of 1 completed\n",
            "tsco - Completed\n",
            "[*********************100%%**********************]  1 of 1 completed"
          ]
        },
        {
          "name": "stderr",
          "output_type": "stream",
          "text": [
            "<ipython-input-13-9293bd759bdd>:53: FutureWarning: The default value of numeric_only in DataFrameGroupBy.sum is deprecated. In a future version, numeric_only will default to False. Either specify numeric_only or select only columns which should be valid for the function.\n",
            "  data = data.groupby([data.Datetime.dt.month, data.Datetime.dt.day]).sum()\n",
            "ERROR:yfinance:\n",
            "1 Failed download:\n",
            "ERROR:yfinance:['CERN']: Exception('%ticker%: No timezone found, symbol may be delisted')\n"
          ]
        },
        {
          "name": "stdout",
          "output_type": "stream",
          "text": [
            "\n",
            "cern - Completed\n"
          ]
        },
        {
          "name": "stderr",
          "output_type": "stream",
          "text": [
            "<ipython-input-13-9293bd759bdd>:53: FutureWarning: The default value of numeric_only in DataFrameGroupBy.sum is deprecated. In a future version, numeric_only will default to False. Either specify numeric_only or select only columns which should be valid for the function.\n",
            "  data = data.groupby([data.Datetime.dt.month, data.Datetime.dt.day]).sum()\n"
          ]
        },
        {
          "name": "stdout",
          "output_type": "stream",
          "text": [
            "\r[*********************100%%**********************]  1 of 1 completed\n",
            "aal - Completed\n"
          ]
        },
        {
          "name": "stderr",
          "output_type": "stream",
          "text": [
            "<ipython-input-13-9293bd759bdd>:53: FutureWarning: The default value of numeric_only in DataFrameGroupBy.sum is deprecated. In a future version, numeric_only will default to False. Either specify numeric_only or select only columns which should be valid for the function.\n",
            "  data = data.groupby([data.Datetime.dt.month, data.Datetime.dt.day]).sum()\n"
          ]
        },
        {
          "name": "stdout",
          "output_type": "stream",
          "text": [
            "\r[*********************100%%**********************]  1 of 1 completed\n",
            "srcl - Completed\n"
          ]
        },
        {
          "name": "stderr",
          "output_type": "stream",
          "text": [
            "<ipython-input-13-9293bd759bdd>:53: FutureWarning: The default value of numeric_only in DataFrameGroupBy.sum is deprecated. In a future version, numeric_only will default to False. Either specify numeric_only or select only columns which should be valid for the function.\n",
            "  data = data.groupby([data.Datetime.dt.month, data.Datetime.dt.day]).sum()\n"
          ]
        },
        {
          "name": "stdout",
          "output_type": "stream",
          "text": [
            "\r[*********************100%%**********************]  1 of 1 completed\n",
            "amgn - Completed\n"
          ]
        },
        {
          "name": "stderr",
          "output_type": "stream",
          "text": [
            "<ipython-input-13-9293bd759bdd>:53: FutureWarning: The default value of numeric_only in DataFrameGroupBy.sum is deprecated. In a future version, numeric_only will default to False. Either specify numeric_only or select only columns which should be valid for the function.\n",
            "  data = data.groupby([data.Datetime.dt.month, data.Datetime.dt.day]).sum()\n"
          ]
        },
        {
          "name": "stdout",
          "output_type": "stream",
          "text": [
            "\r[*********************100%%**********************]  1 of 1 completed\n",
            "nvda - Completed\n"
          ]
        },
        {
          "name": "stderr",
          "output_type": "stream",
          "text": [
            "<ipython-input-13-9293bd759bdd>:53: FutureWarning: The default value of numeric_only in DataFrameGroupBy.sum is deprecated. In a future version, numeric_only will default to False. Either specify numeric_only or select only columns which should be valid for the function.\n",
            "  data = data.groupby([data.Datetime.dt.month, data.Datetime.dt.day]).sum()\n"
          ]
        },
        {
          "name": "stdout",
          "output_type": "stream",
          "text": [
            "\r[*********************100%%**********************]  1 of 1 completed\n",
            "ctsh - Completed\n"
          ]
        },
        {
          "name": "stderr",
          "output_type": "stream",
          "text": [
            "<ipython-input-13-9293bd759bdd>:53: FutureWarning: The default value of numeric_only in DataFrameGroupBy.sum is deprecated. In a future version, numeric_only will default to False. Either specify numeric_only or select only columns which should be valid for the function.\n",
            "  data = data.groupby([data.Datetime.dt.month, data.Datetime.dt.day]).sum()\n"
          ]
        },
        {
          "name": "stdout",
          "output_type": "stream",
          "text": [
            "\r[*********************100%%**********************]  1 of 1 completed\n",
            "chkp - Completed\n"
          ]
        },
        {
          "name": "stderr",
          "output_type": "stream",
          "text": [
            "<ipython-input-13-9293bd759bdd>:53: FutureWarning: The default value of numeric_only in DataFrameGroupBy.sum is deprecated. In a future version, numeric_only will default to False. Either specify numeric_only or select only columns which should be valid for the function.\n",
            "  data = data.groupby([data.Datetime.dt.month, data.Datetime.dt.day]).sum()\n"
          ]
        },
        {
          "name": "stdout",
          "output_type": "stream",
          "text": [
            "\r[*********************100%%**********************]  1 of 1 completed\n",
            "nflx - Completed\n"
          ]
        },
        {
          "name": "stderr",
          "output_type": "stream",
          "text": [
            "<ipython-input-13-9293bd759bdd>:53: FutureWarning: The default value of numeric_only in DataFrameGroupBy.sum is deprecated. In a future version, numeric_only will default to False. Either specify numeric_only or select only columns which should be valid for the function.\n",
            "  data = data.groupby([data.Datetime.dt.month, data.Datetime.dt.day]).sum()\n"
          ]
        },
        {
          "name": "stdout",
          "output_type": "stream",
          "text": [
            "\r[*********************100%%**********************]  1 of 1 completed\n",
            "stx - Completed\n"
          ]
        },
        {
          "name": "stderr",
          "output_type": "stream",
          "text": [
            "<ipython-input-13-9293bd759bdd>:53: FutureWarning: The default value of numeric_only in DataFrameGroupBy.sum is deprecated. In a future version, numeric_only will default to False. Either specify numeric_only or select only columns which should be valid for the function.\n",
            "  data = data.groupby([data.Datetime.dt.month, data.Datetime.dt.day]).sum()\n"
          ]
        },
        {
          "name": "stdout",
          "output_type": "stream",
          "text": [
            "\r[*********************100%%**********************]  1 of 1 completed\n",
            "adsk - Completed\n"
          ]
        },
        {
          "name": "stderr",
          "output_type": "stream",
          "text": [
            "<ipython-input-13-9293bd759bdd>:53: FutureWarning: The default value of numeric_only in DataFrameGroupBy.sum is deprecated. In a future version, numeric_only will default to False. Either specify numeric_only or select only columns which should be valid for the function.\n",
            "  data = data.groupby([data.Datetime.dt.month, data.Datetime.dt.day]).sum()\n"
          ]
        },
        {
          "name": "stdout",
          "output_type": "stream",
          "text": [
            "\r[*********************100%%**********************]  1 of 1 completed\n",
            "nclh - Completed\n",
            "[*********************100%%**********************]  1 of 1 completed"
          ]
        },
        {
          "name": "stderr",
          "output_type": "stream",
          "text": [
            "<ipython-input-13-9293bd759bdd>:53: FutureWarning: The default value of numeric_only in DataFrameGroupBy.sum is deprecated. In a future version, numeric_only will default to False. Either specify numeric_only or select only columns which should be valid for the function.\n",
            "  data = data.groupby([data.Datetime.dt.month, data.Datetime.dt.day]).sum()\n",
            "ERROR:yfinance:\n",
            "1 Failed download:\n"
          ]
        },
        {
          "name": "stdout",
          "output_type": "stream",
          "text": [
            "\n"
          ]
        },
        {
          "name": "stderr",
          "output_type": "stream",
          "text": [
            "ERROR:yfinance:['XLNX']: Exception('%ticker%: No timezone found, symbol may be delisted')\n"
          ]
        },
        {
          "name": "stdout",
          "output_type": "stream",
          "text": [
            "xlnx - Completed\n"
          ]
        },
        {
          "name": "stderr",
          "output_type": "stream",
          "text": [
            "<ipython-input-13-9293bd759bdd>:53: FutureWarning: The default value of numeric_only in DataFrameGroupBy.sum is deprecated. In a future version, numeric_only will default to False. Either specify numeric_only or select only columns which should be valid for the function.\n",
            "  data = data.groupby([data.Datetime.dt.month, data.Datetime.dt.day]).sum()\n"
          ]
        },
        {
          "name": "stdout",
          "output_type": "stream",
          "text": [
            "\r[*********************100%%**********************]  1 of 1 completed\n",
            "incy - Completed\n"
          ]
        },
        {
          "name": "stderr",
          "output_type": "stream",
          "text": [
            "<ipython-input-13-9293bd759bdd>:53: FutureWarning: The default value of numeric_only in DataFrameGroupBy.sum is deprecated. In a future version, numeric_only will default to False. Either specify numeric_only or select only columns which should be valid for the function.\n",
            "  data = data.groupby([data.Datetime.dt.month, data.Datetime.dt.day]).sum()\n"
          ]
        },
        {
          "name": "stdout",
          "output_type": "stream",
          "text": [
            "\r[*********************100%%**********************]  1 of 1 completed\n",
            "tsla - Completed\n"
          ]
        },
        {
          "name": "stderr",
          "output_type": "stream",
          "text": [
            "<ipython-input-13-9293bd759bdd>:53: FutureWarning: The default value of numeric_only in DataFrameGroupBy.sum is deprecated. In a future version, numeric_only will default to False. Either specify numeric_only or select only columns which should be valid for the function.\n",
            "  data = data.groupby([data.Datetime.dt.month, data.Datetime.dt.day]).sum()\n"
          ]
        },
        {
          "name": "stdout",
          "output_type": "stream",
          "text": [
            "\r[*********************100%%**********************]  1 of 1 completed"
          ]
        },
        {
          "name": "stderr",
          "output_type": "stream",
          "text": [
            "ERROR:yfinance:\n",
            "1 Failed download:\n",
            "ERROR:yfinance:['DISCA']: Exception('%ticker%: No timezone found, symbol may be delisted')\n"
          ]
        },
        {
          "name": "stdout",
          "output_type": "stream",
          "text": [
            "\n",
            "disca - Completed\n"
          ]
        },
        {
          "name": "stderr",
          "output_type": "stream",
          "text": [
            "<ipython-input-13-9293bd759bdd>:53: FutureWarning: The default value of numeric_only in DataFrameGroupBy.sum is deprecated. In a future version, numeric_only will default to False. Either specify numeric_only or select only columns which should be valid for the function.\n",
            "  data = data.groupby([data.Datetime.dt.month, data.Datetime.dt.day]).sum()\n"
          ]
        },
        {
          "name": "stdout",
          "output_type": "stream",
          "text": [
            "\r[*********************100%%**********************]  1 of 1 completed\n",
            "esrx - Completed\n"
          ]
        },
        {
          "name": "stderr",
          "output_type": "stream",
          "text": [
            "<ipython-input-13-9293bd759bdd>:53: FutureWarning: The default value of numeric_only in DataFrameGroupBy.sum is deprecated. In a future version, numeric_only will default to False. Either specify numeric_only or select only columns which should be valid for the function.\n",
            "  data = data.groupby([data.Datetime.dt.month, data.Datetime.dt.day]).sum()\n"
          ]
        },
        {
          "name": "stdout",
          "output_type": "stream",
          "text": [
            "\r[*********************100%%**********************]  1 of 1 completed\n",
            "ca - Completed\n"
          ]
        },
        {
          "name": "stderr",
          "output_type": "stream",
          "text": [
            "<ipython-input-13-9293bd759bdd>:53: FutureWarning: The default value of numeric_only in DataFrameGroupBy.sum is deprecated. In a future version, numeric_only will default to False. Either specify numeric_only or select only columns which should be valid for the function.\n",
            "  data = data.groupby([data.Datetime.dt.month, data.Datetime.dt.day]).sum()\n"
          ]
        },
        {
          "name": "stdout",
          "output_type": "stream",
          "text": [
            "\r[*********************100%%**********************]  1 of 1 completed\n",
            "tmus - Completed\n"
          ]
        },
        {
          "name": "stderr",
          "output_type": "stream",
          "text": [
            "<ipython-input-13-9293bd759bdd>:53: FutureWarning: The default value of numeric_only in DataFrameGroupBy.sum is deprecated. In a future version, numeric_only will default to False. Either specify numeric_only or select only columns which should be valid for the function.\n",
            "  data = data.groupby([data.Datetime.dt.month, data.Datetime.dt.day]).sum()\n"
          ]
        },
        {
          "name": "stdout",
          "output_type": "stream",
          "text": [
            "\r[*********************100%%**********************]  1 of 1 completed"
          ]
        },
        {
          "name": "stderr",
          "output_type": "stream",
          "text": [
            "ERROR:yfinance:\n",
            "1 Failed download:\n",
            "ERROR:yfinance:['FISV']: Exception('%ticker%: No timezone found, symbol may be delisted')\n"
          ]
        },
        {
          "name": "stdout",
          "output_type": "stream",
          "text": [
            "\n",
            "fisv - Completed\n",
            "\r[*********************100%%**********************]  1 of 1 completed"
          ]
        },
        {
          "name": "stderr",
          "output_type": "stream",
          "text": [
            "<ipython-input-13-9293bd759bdd>:53: FutureWarning: The default value of numeric_only in DataFrameGroupBy.sum is deprecated. In a future version, numeric_only will default to False. Either specify numeric_only or select only columns which should be valid for the function.\n",
            "  data = data.groupby([data.Datetime.dt.month, data.Datetime.dt.day]).sum()\n",
            "ERROR:yfinance:\n",
            "1 Failed download:\n"
          ]
        },
        {
          "name": "stdout",
          "output_type": "stream",
          "text": [
            "\n"
          ]
        },
        {
          "name": "stderr",
          "output_type": "stream",
          "text": [
            "ERROR:yfinance:['CTRP']: Exception('%ticker%: No timezone found, symbol may be delisted')\n",
            "<ipython-input-13-9293bd759bdd>:53: FutureWarning: The default value of numeric_only in DataFrameGroupBy.sum is deprecated. In a future version, numeric_only will default to False. Either specify numeric_only or select only columns which should be valid for the function.\n",
            "  data = data.groupby([data.Datetime.dt.month, data.Datetime.dt.day]).sum()\n"
          ]
        },
        {
          "name": "stdout",
          "output_type": "stream",
          "text": [
            "ctrp - Completed\n",
            "[*********************100%%**********************]  1 of 1 completed\n",
            "lrcx - Completed\n"
          ]
        },
        {
          "name": "stderr",
          "output_type": "stream",
          "text": [
            "<ipython-input-13-9293bd759bdd>:53: FutureWarning: The default value of numeric_only in DataFrameGroupBy.sum is deprecated. In a future version, numeric_only will default to False. Either specify numeric_only or select only columns which should be valid for the function.\n",
            "  data = data.groupby([data.Datetime.dt.month, data.Datetime.dt.day]).sum()\n"
          ]
        },
        {
          "name": "stdout",
          "output_type": "stream",
          "text": [
            "\r[*********************100%%**********************]  1 of 1 completed\n",
            "adbe - Completed\n"
          ]
        },
        {
          "name": "stderr",
          "output_type": "stream",
          "text": [
            "<ipython-input-13-9293bd759bdd>:53: FutureWarning: The default value of numeric_only in DataFrameGroupBy.sum is deprecated. In a future version, numeric_only will default to False. Either specify numeric_only or select only columns which should be valid for the function.\n",
            "  data = data.groupby([data.Datetime.dt.month, data.Datetime.dt.day]).sum()\n"
          ]
        },
        {
          "name": "stdout",
          "output_type": "stream",
          "text": [
            "\r[*********************100%%**********************]  1 of 1 completed\n",
            "lbtya - Completed\n"
          ]
        }
      ],
      "source": [
        "# Get all of the stock files to process\n",
        "files = os.listdir('/content/result')\n",
        "\n",
        "# Initialize new dataframe to hold stock data\n",
        "stocks = pd.DataFrame()\n",
        "\n",
        "# For each stock to process\n",
        "for x in range(len(files)):\n",
        "    # Some tickers may be delisted, use try/except to avoid errors if ticker does not exist in yFinance\n",
        "    try:\n",
        "        # Assign current file name\n",
        "        filename = files[x]\n",
        "\n",
        "        # Read csv file for current ticker\n",
        "        data = pd.read_csv('/content/result/'+filename+'/stock_data_sentiment.csv')\n",
        "\n",
        "        # Convert string time to datetime\n",
        "        data['Datetime'] = pd.to_datetime(data['Datetime'])\n",
        "\n",
        "        # Convert 0 sentiment to -1\n",
        "        data.loc[data['Sentiment']==0, 'Sentiment'] = -1\n",
        "\n",
        "        # Initialize Weights and Tweet numbers\n",
        "        data['Tweets'] = 1\n",
        "        data['Weight'] = 1\n",
        "\n",
        "        # Determine the mean and standard deviation of the number of followers a given user has for a given tweet\n",
        "        # This ensures tweets with less tweets per day are treated equally\n",
        "        data['Followers_Mean'] = data['Followers'].rolling(10000, min_periods=1).mean()\n",
        "        data['Followers_Std'] = data['Followers'].rolling(10000, min_periods=1).std()\n",
        "        data['Followers_Std'] = data['Followers_Std'].fillna(data['Followers_Std'].values[1])\n",
        "\n",
        "        # weight tweets from users with higher follower counts more heavily. Calculate based on mean and standard deviation gates\n",
        "        data.loc[ (data['Followers']>=data['Followers_Mean']) & (data['Followers'] < (data['Followers_Mean']+data['Followers_Std'])), 'Weight'] += 1\n",
        "        data.loc[ (data['Followers']>=(data['Followers_Mean']+data['Followers_Std'])) & (data['Followers'] < (data['Followers_Mean']+data['Followers_Std']*2)), 'Weight'] += 2\n",
        "        data.loc[data['Followers']>=(data['Followers_Mean']+data['Followers_Std']*2), 'Weight'] += 3\n",
        "\n",
        "        # Determine the mean and standard deviation of the number of re-tweets a given user has for a given tweet\n",
        "        # This ensures tweets with less tweets per day are treated equally\n",
        "        data['RTs_Mean'] = data['RTs'].rolling(10000, min_periods=1).mean()\n",
        "        data['RTs_Std'] = data['RTs'].rolling(10000, min_periods=1).std()\n",
        "        data['RTs_Std'] = data['RTs_Std'].fillna(data['RTs_Std'].values[1])\n",
        "\n",
        "        # Weight tweets with more re-tweests more heavily. Calculate based on mean and standard deviation gates\n",
        "        data.loc[ (data['RTs']>=data['RTs_Mean']) & (data['RTs'] < (data['RTs_Mean']+data['RTs_Std'])), 'Weight'] += 1\n",
        "        data.loc[ (data['RTs']>=(data['RTs_Mean']+data['RTs_Std'])) & (data['RTs'] < (data['RTs_Mean']+data['RTs_Std']*2)), 'Weight'] += 2\n",
        "        data.loc[data['RTs']>=(data['RTs_Mean']+data['RTs_Std']*2), 'Weight'] += 3\n",
        "\n",
        "        # multiply the sentiment score by the individual weigth\n",
        "        data['Sentiment_Weighted'] = data['Sentiment']*data['Weight']\n",
        "\n",
        "        # Group the stock data by months and days\n",
        "        data = data.groupby([data.Datetime.dt.month, data.Datetime.dt.day]).sum()\n",
        "\n",
        "        # Reassign the ticker name that was lost after grouping\n",
        "        data['Ticker'] = filename.split('_')[0]\n",
        "\n",
        "        # Reassign date based on index values of month and day\n",
        "        data['Date'] = pd.to_datetime([ str(x)+'/'+str(y)+'/2016' for (x,y) in data.index.values ])+datetime.timedelta(days=1)\n",
        "\n",
        "        # Drop the index\n",
        "        data = data.reset_index(drop=True)\n",
        "\n",
        "        # Divide the sentiment by the total number of tweets\n",
        "        data['Sentiment_Weighted'] /= data['Tweets']\n",
        "\n",
        "        # Get the rolling average of the sentiment and tweet volume\n",
        "        data['Sentiment_MA'] = data['Sentiment_Weighted'].rolling(3, min_periods=1).mean()\n",
        "        data['Tweets_MA'] = data['Tweets'].rolling(3, min_periods=1).mean()\n",
        "\n",
        "        # Get the starting date and ending date to extract stock prices\n",
        "        start_date = data['Date'].min()\n",
        "        end_date = data['Date'].max()+datetime.timedelta(days=2)\n",
        "\n",
        "        # Download stock price data for given range of tweets\n",
        "        prices = yf.download(tickers=filename.split('_')[0], start=start_date, end=end_date).reset_index()\n",
        "\n",
        "        # Calculate percent change based on stock price changes\n",
        "        prices['Percent_Change'] = (prices['Adj Close'].pct_change()*100).shift(-1)\n",
        "\n",
        "        # Bin percent changes by amount lost/gained by stock\n",
        "        prices['Percent_Change_Bin'] = pd.cut(prices['Percent_Change'], [-100, 0, 2, 100], labels=[0, 1, 2])\n",
        "\n",
        "        # Combine the stock sentiment data and the pricing data\n",
        "        data = data.merge(prices, on='Date', how='left')\n",
        "\n",
        "        # Remove excess columns\n",
        "        data = data[['Ticker', 'Date', 'Sentiment_Weighted', 'Sentiment_MA', 'Tweets', 'Tweets_MA', 'Adj Close', 'Percent_Change', 'Percent_Change_Bin']]\n",
        "\n",
        "        # Drop missing values for days without pricing information\n",
        "        data = data.dropna().reset_index(drop=True)\n",
        "\n",
        "        # Save stock sentiment and pricing data to csv\n",
        "        data.to_csv('/content/result/' + filename + '/stock_data_inputs.csv', index=False)\n",
        "\n",
        "        # Add ticker data to the main data set\n",
        "        stocks = pd.concat([stocks, data])\n",
        "\n",
        "        # Print status of ticker\n",
        "        print(filename.split('_')[0], '- Completed')\n",
        "\n",
        "    # If the ticker is not in yFinance\n",
        "    except Exception as e:\n",
        "        # Print error message\n",
        "        print(filename.split('_')[0], '-', e)\n",
        "\n",
        "\n",
        "# Save data for all stocks to csv\n",
        "stocks.to_csv('combined_stock_inputs.csv', index=False)"
      ]
    },
    {
      "cell_type": "code",
      "execution_count": null,
      "metadata": {
        "colab": {
          "base_uri": "https://localhost:8080/",
          "height": 581
        },
        "id": "jAr3VxoeEnbt",
        "outputId": "3f2e7d18-e2c7-4236-ef22-c9c493eca191"
      },
      "outputs": [
        {
          "name": "stdout",
          "output_type": "stream",
          "text": [
            "Invested in a losing stock : 19.81%\n",
            "\n",
            "\n"
          ]
        },
        {
          "data": {
            "image/png": "[encoded data removed]",
            "text/plain": [
              "<Figure size 1500x700 with 1 Axes>"
            ]
          },
          "metadata": {},
          "output_type": "display_data"
        },
        {
          "name": "stdout",
          "output_type": "stream",
          "text": [
            "Sitting Investment: 98309.33 ( -1.69 % )\n",
            "Bot Trading: 98828.69 ( -1.17 % )\n"
          ]
        }
      ],
      "source": [
        "# Sort values in stock sentiment/pricing data by date and ticker name\n",
        "stocks = stocks.sort_values(['Date', 'Ticker'])\n",
        "\n",
        "# Use first 2 months of data as test data\n",
        "d_train = stocks.loc[stocks['Date'] < datetime.datetime(year=2016, month=4, day=15)].reset_index(drop=True)\n",
        "\n",
        "# Use last 2-3 months as test data\n",
        "d_test = stocks.loc[stocks['Date'] >= datetime.datetime(year=2016, month=4, day=15)].reset_index(drop=True)\n",
        "\n",
        "# Remove extra columns from train data\n",
        "X_train = d_train[['Sentiment_Weighted', 'Sentiment_MA', 'Tweets', 'Tweets_MA']].values\n",
        "y_train = d_train['Percent_Change_Bin'].values\n",
        "\n",
        "# Remove extra solumns from test data\n",
        "X_test = d_test[['Sentiment_Weighted', 'Sentiment_MA', 'Tweets', 'Tweets_MA']].values\n",
        "y_test = d_test['Percent_Change_Bin'].values\n",
        "\n",
        "\n",
        "\n",
        "# Define random forest classifier\n",
        "model = RandomForestClassifier(random_state=1)\n",
        "\n",
        "# Train model with training data\n",
        "model.fit(X_train, y_train)\n",
        "\n",
        "# Predict the test data\n",
        "preds = model.predict(X_test)\n",
        "\n",
        "# Print the percent of predictions that resulted in investing in a losing stock\n",
        "print(f'Invested in a losing stock : {len(np.where( (preds>0) & (y_test==0) )[0])/len(preds)*100:.2f}%')\n",
        "print('\\n')\n",
        "\n",
        "# Add predictions to test dataset\n",
        "d_test['Prediction'] = preds\n",
        "\n",
        "# Initialize starting capital to test model effectiveness\n",
        "bot_capital = 100000\n",
        "sitting_capital = 100000\n",
        "\n",
        "# Add capital as first data points\n",
        "bots = [bot_capital]\n",
        "sitting= [sitting_capital]\n",
        "\n",
        "# Get unique dates\n",
        "dates = d_test['Date'].sort_values().unique()\n",
        "\n",
        "# For each date\n",
        "for date in dates:\n",
        "    # filter dataframe to date\n",
        "    temp = d_test[d_test['Date']==date]\n",
        "\n",
        "    # Calculate profit from investing equal parts to all tickers in timeframe\n",
        "    sitting_capital = sitting_capital + ((sitting_capital/len(temp)) * (temp['Percent_Change']/100)).sum()\n",
        "\n",
        "    # Calculate profit from using the Twitter bot to determine what stocks to invest in\n",
        "    temp = temp[temp['Prediction'] > 0]\n",
        "    bot_capital = bot_capital + ((bot_capital/len(temp)) * (temp['Percent_Change']/100)).sum()\n",
        "\n",
        "    # Keep track of the account totals ove time\n",
        "    sitting.append(sitting_capital)\n",
        "    bots.append(bot_capital)\n",
        "\n",
        "\n",
        "# Plot the accounts balances over time\n",
        "plt.figure(figsize=(15,7))\n",
        "plt.plot(dates, sitting[1:], c='b', label='Sitting movement')\n",
        "plt.plot(dates, bots[1:], c='r', label='Bot movement')\n",
        "plt.title('BERT vs Sitting (Intra-Day)')\n",
        "plt.xlabel('Date')\n",
        "plt.ylabel('Money')\n",
        "plt.legend()\n",
        "plt.show()\n",
        "\n",
        "# Show the return from each account over time\n",
        "print('Sitting Investment:', round(sitting[-1],2), '(', round((sitting[-1]-sitting[0])/sitting[0]*100,2), '% )')\n",
        "print('Bot Trading:', round(bots[-1],2), '(', round((bots[-1]-bots[0])/bots[0]*100,2), '% )')\n"
      ]
    },
    {
      "cell_type": "code",
      "execution_count": null,
      "metadata": {
        "colab": {
          "base_uri": "https://localhost:8080/"
        },
        "id": "QdPAfMrwbJg9",
        "outputId": "c34b2620-07d2-4ef6-f6b2-1a1b5fe0c2da"
      },
      "outputs": [
        {
          "name": "stdout",
          "output_type": "stream",
          "text": [
            "Folder '/content/result' has been zipped to '/content/results.zip'.\n"
          ]
        }
      ],
      "source": [
        "result = '/content/result'\n",
        "\n",
        "# Replace 'output_zip_name.zip' with the desired name for the output zip file\n",
        "results = '/content/results.zip'\n",
        "\n",
        "# Create a zip file of the folder\n",
        "shutil.make_archive(results.split('.')[0], 'zip', result)\n",
        "\n",
        "# Print a message indicating that the zip file has been created\n",
        "print(f\"Folder '{result}' has been zipped to '{results}'.\")"
      ]
    }
  ],
  "metadata": {
    "colab": {
      "provenance": []
    },
    "kernelspec": {
      "display_name": "Python 3",
      "name": "python3"
    },
    "language_info": {
      "codemirror_mode": {
        "name": "ipython",
        "version": 3
      },
      "file_extension": ".py",
      "mimetype": "text/x-python",
      "name": "python",
      "nbconvert_exporter": "python",
      "pygments_lexer": "ipython3",
      "version": "3.12.1"
    },
    "widgets": {
      "application/vnd.jupyter.widget-state+json": {
        "05caa8195cb1413b8ffad956663ae396": {
          "model_module": "@jupyter-widgets/controls",
          "model_module_version": "1.5.0",
          "model_name": "HTMLModel",
          "state": {
            "_dom_classes": [],
            "_model_module": "@jupyter-widgets/controls",
            "_model_module_version": "1.5.0",
            "_model_name": "HTMLModel",
            "_view_count": null,
            "_view_module": "@jupyter-widgets/controls",
            "_view_module_version": "1.5.0",
            "_view_name": "HTMLView",
            "description": "",
            "description_tooltip": null,
            "layout": "IPY_MODEL_8ea74720ac3e429d8941a40b61fba979",
            "placeholder": "​",
            "style": "IPY_MODEL_d6737b6a17af451b8d307fb7d8ff8a54",
            "value": "tokenizer_config.json: 100%"
          }
        },
        "17e5a9c0f42547178191a7cd887c5844": {
          "model_module": "@jupyter-widgets/base",
          "model_module_version": "1.2.0",
          "model_name": "LayoutModel",
          "state": {
            "_model_module": "@jupyter-widgets/base",
            "_model_module_version": "1.2.0",
            "_model_name": "LayoutModel",
            "_view_count": null,
            "_view_module": "@jupyter-widgets/base",
            "_view_module_version": "1.2.0",
            "_view_name": "LayoutView",
            "align_content": null,
            "align_items": null,
            "align_self": null,
            "border": null,
            "bottom": null,
            "display": null,
            "flex": null,
            "flex_flow": null,
            "grid_area": null,
            "grid_auto_columns": null,
            "grid_auto_flow": null,
            "grid_auto_rows": null,
            "grid_column": null,
            "grid_gap": null,
            "grid_row": null,
            "grid_template_areas": null,
            "grid_template_columns": null,
            "grid_template_rows": null,
            "height": null,
            "justify_content": null,
            "justify_items": null,
            "left": null,
            "margin": null,
            "max_height": null,
            "max_width": null,
            "min_height": null,
            "min_width": null,
            "object_fit": null,
            "object_position": null,
            "order": null,
            "overflow": null,
            "overflow_x": null,
            "overflow_y": null,
            "padding": null,
            "right": null,
            "top": null,
            "visibility": null,
            "width": null
          }
        },
        "1ff448b85fc14ee7aad759e43a47aa26": {
          "model_module": "@jupyter-widgets/controls",
          "model_module_version": "1.5.0",
          "model_name": "HTMLModel",
          "state": {
            "_dom_classes": [],
            "_model_module": "@jupyter-widgets/controls",
            "_model_module_version": "1.5.0",
            "_model_name": "HTMLModel",
            "_view_count": null,
            "_view_module": "@jupyter-widgets/controls",
            "_view_module_version": "1.5.0",
            "_view_name": "HTMLView",
            "description": "",
            "description_tooltip": null,
            "layout": "IPY_MODEL_b1f1a20616c04426a3da5df6be4d9c09",
            "placeholder": "​",
            "style": "IPY_MODEL_d22db14418cb4bff98af00d88836214b",
            "value": "vocab.txt: 100%"
          }
        },
        "26b153f4ac7b42b3ba8e2e00e51f4517": {
          "model_module": "@jupyter-widgets/base",
          "model_module_version": "1.2.0",
          "model_name": "LayoutModel",
          "state": {
            "_model_module": "@jupyter-widgets/base",
            "_model_module_version": "1.2.0",
            "_model_name": "LayoutModel",
            "_view_count": null,
            "_view_module": "@jupyter-widgets/base",
            "_view_module_version": "1.2.0",
            "_view_name": "LayoutView",
            "align_content": null,
            "align_items": null,
            "align_self": null,
            "border": null,
            "bottom": null,
            "display": null,
            "flex": null,
            "flex_flow": null,
            "grid_area": null,
            "grid_auto_columns": null,
            "grid_auto_flow": null,
            "grid_auto_rows": null,
            "grid_column": null,
            "grid_gap": null,
            "grid_row": null,
            "grid_template_areas": null,
            "grid_template_columns": null,
            "grid_template_rows": null,
            "height": null,
            "justify_content": null,
            "justify_items": null,
            "left": null,
            "margin": null,
            "max_height": null,
            "max_width": null,
            "min_height": null,
            "min_width": null,
            "object_fit": null,
            "object_position": null,
            "order": null,
            "overflow": null,
            "overflow_x": null,
            "overflow_y": null,
            "padding": null,
            "right": null,
            "top": null,
            "visibility": null,
            "width": null
          }
        },
        "27b4ab4f15d042829038de353bf4fe2b": {
          "model_module": "@jupyter-widgets/controls",
          "model_module_version": "1.5.0",
          "model_name": "FloatProgressModel",
          "state": {
            "_dom_classes": [],
            "_model_module": "@jupyter-widgets/controls",
            "_model_module_version": "1.5.0",
            "_model_name": "FloatProgressModel",
            "_view_count": null,
            "_view_module": "@jupyter-widgets/controls",
            "_view_module_version": "1.5.0",
            "_view_name": "ProgressView",
            "bar_style": "success",
            "description": "",
            "description_tooltip": null,
            "layout": "IPY_MODEL_5b169d319b03496891d3db0f414896e1",
            "max": 231508,
            "min": 0,
            "orientation": "horizontal",
            "style": "IPY_MODEL_4b071f37b3ba4b71a76c41bb20456c93",
            "value": 231508
          }
        },
        "29e780ca7af648748aff8d5c8b582efa": {
          "model_module": "@jupyter-widgets/controls",
          "model_module_version": "1.5.0",
          "model_name": "HTMLModel",
          "state": {
            "_dom_classes": [],
            "_model_module": "@jupyter-widgets/controls",
            "_model_module_version": "1.5.0",
            "_model_name": "HTMLModel",
            "_view_count": null,
            "_view_module": "@jupyter-widgets/controls",
            "_view_module_version": "1.5.0",
            "_view_name": "HTMLView",
            "description": "",
            "description_tooltip": null,
            "layout": "IPY_MODEL_74e9d905aee9465b9de29842082032db",
            "placeholder": "​",
            "style": "IPY_MODEL_45620e9aa6f948bf9f38575bf64331b5",
            "value": "config.json: 100%"
          }
        },
        "2bbfbeac0cd247b7919a0f67ab4abc83": {
          "model_module": "@jupyter-widgets/controls",
          "model_module_version": "1.5.0",
          "model_name": "HTMLModel",
          "state": {
            "_dom_classes": [],
            "_model_module": "@jupyter-widgets/controls",
            "_model_module_version": "1.5.0",
            "_model_name": "HTMLModel",
            "_view_count": null,
            "_view_module": "@jupyter-widgets/controls",
            "_view_module_version": "1.5.0",
            "_view_name": "HTMLView",
            "description": "",
            "description_tooltip": null,
            "layout": "IPY_MODEL_eeb7d6fc68fb495b8471c2537cb7b3d2",
            "placeholder": "​",
            "style": "IPY_MODEL_e84aa8e8ef694c4d85df91a981622990",
            "value": " 440M/440M [00:01&lt;00:00, 243MB/s]"
          }
        },
        "2fa0a9a0db4f47d9af407d5504f4755c": {
          "model_module": "@jupyter-widgets/controls",
          "model_module_version": "1.5.0",
          "model_name": "DescriptionStyleModel",
          "state": {
            "_model_module": "@jupyter-widgets/controls",
            "_model_module_version": "1.5.0",
            "_model_name": "DescriptionStyleModel",
            "_view_count": null,
            "_view_module": "@jupyter-widgets/base",
            "_view_module_version": "1.2.0",
            "_view_name": "StyleView",
            "description_width": ""
          }
        },
        "32ef551a1dc5444e867a3c74dbbf2b7d": {
          "model_module": "@jupyter-widgets/controls",
          "model_module_version": "1.5.0",
          "model_name": "DescriptionStyleModel",
          "state": {
            "_model_module": "@jupyter-widgets/controls",
            "_model_module_version": "1.5.0",
            "_model_name": "DescriptionStyleModel",
            "_view_count": null,
            "_view_module": "@jupyter-widgets/base",
            "_view_module_version": "1.2.0",
            "_view_name": "StyleView",
            "description_width": ""
          }
        },
        "33495838fac34426b2364395f01d1381": {
          "model_module": "@jupyter-widgets/base",
          "model_module_version": "1.2.0",
          "model_name": "LayoutModel",
          "state": {
            "_model_module": "@jupyter-widgets/base",
            "_model_module_version": "1.2.0",
            "_model_name": "LayoutModel",
            "_view_count": null,
            "_view_module": "@jupyter-widgets/base",
            "_view_module_version": "1.2.0",
            "_view_name": "LayoutView",
            "align_content": null,
            "align_items": null,
            "align_self": null,
            "border": null,
            "bottom": null,
            "display": null,
            "flex": null,
            "flex_flow": null,
            "grid_area": null,
            "grid_auto_columns": null,
            "grid_auto_flow": null,
            "grid_auto_rows": null,
            "grid_column": null,
            "grid_gap": null,
            "grid_row": null,
            "grid_template_areas": null,
            "grid_template_columns": null,
            "grid_template_rows": null,
            "height": null,
            "justify_content": null,
            "justify_items": null,
            "left": null,
            "margin": null,
            "max_height": null,
            "max_width": null,
            "min_height": null,
            "min_width": null,
            "object_fit": null,
            "object_position": null,
            "order": null,
            "overflow": null,
            "overflow_x": null,
            "overflow_y": null,
            "padding": null,
            "right": null,
            "top": null,
            "visibility": null,
            "width": null
          }
        },
        "34284abbbfbc4f32b4fc4045eb68cb89": {
          "model_module": "@jupyter-widgets/controls",
          "model_module_version": "1.5.0",
          "model_name": "FloatProgressModel",
          "state": {
            "_dom_classes": [],
            "_model_module": "@jupyter-widgets/controls",
            "_model_module_version": "1.5.0",
            "_model_name": "FloatProgressModel",
            "_view_count": null,
            "_view_module": "@jupyter-widgets/controls",
            "_view_module_version": "1.5.0",
            "_view_name": "ProgressView",
            "bar_style": "success",
            "description": "",
            "description_tooltip": null,
            "layout": "IPY_MODEL_ad2426c4136b4af0896dd74ce99eb6c5",
            "max": 570,
            "min": 0,
            "orientation": "horizontal",
            "style": "IPY_MODEL_dc631f74553b4fe88f56a6625b9e0423",
            "value": 570
          }
        },
        "3522b85f74784676a23b0c4f8b1d120f": {
          "model_module": "@jupyter-widgets/controls",
          "model_module_version": "1.5.0",
          "model_name": "FloatProgressModel",
          "state": {
            "_dom_classes": [],
            "_model_module": "@jupyter-widgets/controls",
            "_model_module_version": "1.5.0",
            "_model_name": "FloatProgressModel",
            "_view_count": null,
            "_view_module": "@jupyter-widgets/controls",
            "_view_module_version": "1.5.0",
            "_view_name": "ProgressView",
            "bar_style": "success",
            "description": "",
            "description_tooltip": null,
            "layout": "IPY_MODEL_6cfcd66e1dd34b838c1043b5a7ebce4f",
            "max": 28,
            "min": 0,
            "orientation": "horizontal",
            "style": "IPY_MODEL_90a2e932904e43f1844f36a5dce1fae1",
            "value": 28
          }
        },
        "45620e9aa6f948bf9f38575bf64331b5": {
          "model_module": "@jupyter-widgets/controls",
          "model_module_version": "1.5.0",
          "model_name": "DescriptionStyleModel",
          "state": {
            "_model_module": "@jupyter-widgets/controls",
            "_model_module_version": "1.5.0",
            "_model_name": "DescriptionStyleModel",
            "_view_count": null,
            "_view_module": "@jupyter-widgets/base",
            "_view_module_version": "1.2.0",
            "_view_name": "StyleView",
            "description_width": ""
          }
        },
        "491a25ba7010465983f2a9a67e773b11": {
          "model_module": "@jupyter-widgets/controls",
          "model_module_version": "1.5.0",
          "model_name": "FloatProgressModel",
          "state": {
            "_dom_classes": [],
            "_model_module": "@jupyter-widgets/controls",
            "_model_module_version": "1.5.0",
            "_model_name": "FloatProgressModel",
            "_view_count": null,
            "_view_module": "@jupyter-widgets/controls",
            "_view_module_version": "1.5.0",
            "_view_name": "ProgressView",
            "bar_style": "success",
            "description": "",
            "description_tooltip": null,
            "layout": "IPY_MODEL_c611b6c3390f49d1aacf75f787a37c04",
            "max": 466062,
            "min": 0,
            "orientation": "horizontal",
            "style": "IPY_MODEL_b67776a1fc194567abf7b99a2bbf392f",
            "value": 466062
          }
        },
        "4b071f37b3ba4b71a76c41bb20456c93": {
          "model_module": "@jupyter-widgets/controls",
          "model_module_version": "1.5.0",
          "model_name": "ProgressStyleModel",
          "state": {
            "_model_module": "@jupyter-widgets/controls",
            "_model_module_version": "1.5.0",
            "_model_name": "ProgressStyleModel",
            "_view_count": null,
            "_view_module": "@jupyter-widgets/base",
            "_view_module_version": "1.2.0",
            "_view_name": "StyleView",
            "bar_color": null,
            "description_width": ""
          }
        },
        "55e6980002af4c7fbf98725fd31e7af1": {
          "model_module": "@jupyter-widgets/controls",
          "model_module_version": "1.5.0",
          "model_name": "HTMLModel",
          "state": {
            "_dom_classes": [],
            "_model_module": "@jupyter-widgets/controls",
            "_model_module_version": "1.5.0",
            "_model_name": "HTMLModel",
            "_view_count": null,
            "_view_module": "@jupyter-widgets/controls",
            "_view_module_version": "1.5.0",
            "_view_name": "HTMLView",
            "description": "",
            "description_tooltip": null,
            "layout": "IPY_MODEL_7d45155b7e414752bc5f2f53df0f0cdc",
            "placeholder": "​",
            "style": "IPY_MODEL_32ef551a1dc5444e867a3c74dbbf2b7d",
            "value": "model.safetensors: 100%"
          }
        },
        "5644b25b2a204c0a805c786cbb3e59e4": {
          "model_module": "@jupyter-widgets/controls",
          "model_module_version": "1.5.0",
          "model_name": "HTMLModel",
          "state": {
            "_dom_classes": [],
            "_model_module": "@jupyter-widgets/controls",
            "_model_module_version": "1.5.0",
            "_model_name": "HTMLModel",
            "_view_count": null,
            "_view_module": "@jupyter-widgets/controls",
            "_view_module_version": "1.5.0",
            "_view_name": "HTMLView",
            "description": "",
            "description_tooltip": null,
            "layout": "IPY_MODEL_8b346959e557458793489ecdf12e18e8",
            "placeholder": "​",
            "style": "IPY_MODEL_942db122fccf450da8bd0f2aaf902fbf",
            "value": " 466k/466k [00:00&lt;00:00, 11.1MB/s]"
          }
        },
        "596ae3a0248e4559afd08ef29d5ed9f7": {
          "model_module": "@jupyter-widgets/base",
          "model_module_version": "1.2.0",
          "model_name": "LayoutModel",
          "state": {
            "_model_module": "@jupyter-widgets/base",
            "_model_module_version": "1.2.0",
            "_model_name": "LayoutModel",
            "_view_count": null,
            "_view_module": "@jupyter-widgets/base",
            "_view_module_version": "1.2.0",
            "_view_name": "LayoutView",
            "align_content": null,
            "align_items": null,
            "align_self": null,
            "border": null,
            "bottom": null,
            "display": null,
            "flex": null,
            "flex_flow": null,
            "grid_area": null,
            "grid_auto_columns": null,
            "grid_auto_flow": null,
            "grid_auto_rows": null,
            "grid_column": null,
            "grid_gap": null,
            "grid_row": null,
            "grid_template_areas": null,
            "grid_template_columns": null,
            "grid_template_rows": null,
            "height": null,
            "justify_content": null,
            "justify_items": null,
            "left": null,
            "margin": null,
            "max_height": null,
            "max_width": null,
            "min_height": null,
            "min_width": null,
            "object_fit": null,
            "object_position": null,
            "order": null,
            "overflow": null,
            "overflow_x": null,
            "overflow_y": null,
            "padding": null,
            "right": null,
            "top": null,
            "visibility": null,
            "width": null
          }
        },
        "5b169d319b03496891d3db0f414896e1": {
          "model_module": "@jupyter-widgets/base",
          "model_module_version": "1.2.0",
          "model_name": "LayoutModel",
          "state": {
            "_model_module": "@jupyter-widgets/base",
            "_model_module_version": "1.2.0",
            "_model_name": "LayoutModel",
            "_view_count": null,
            "_view_module": "@jupyter-widgets/base",
            "_view_module_version": "1.2.0",
            "_view_name": "LayoutView",
            "align_content": null,
            "align_items": null,
            "align_self": null,
            "border": null,
            "bottom": null,
            "display": null,
            "flex": null,
            "flex_flow": null,
            "grid_area": null,
            "grid_auto_columns": null,
            "grid_auto_flow": null,
            "grid_auto_rows": null,
            "grid_column": null,
            "grid_gap": null,
            "grid_row": null,
            "grid_template_areas": null,
            "grid_template_columns": null,
            "grid_template_rows": null,
            "height": null,
            "justify_content": null,
            "justify_items": null,
            "left": null,
            "margin": null,
            "max_height": null,
            "max_width": null,
            "min_height": null,
            "min_width": null,
            "object_fit": null,
            "object_position": null,
            "order": null,
            "overflow": null,
            "overflow_x": null,
            "overflow_y": null,
            "padding": null,
            "right": null,
            "top": null,
            "visibility": null,
            "width": null
          }
        },
        "6801fb3583354de997ff1c040aeb16db": {
          "model_module": "@jupyter-widgets/controls",
          "model_module_version": "1.5.0",
          "model_name": "DescriptionStyleModel",
          "state": {
            "_model_module": "@jupyter-widgets/controls",
            "_model_module_version": "1.5.0",
            "_model_name": "DescriptionStyleModel",
            "_view_count": null,
            "_view_module": "@jupyter-widgets/base",
            "_view_module_version": "1.2.0",
            "_view_name": "StyleView",
            "description_width": ""
          }
        },
        "69e3ad09c6d34d6c9570ef8103eb7209": {
          "model_module": "@jupyter-widgets/base",
          "model_module_version": "1.2.0",
          "model_name": "LayoutModel",
          "state": {
            "_model_module": "@jupyter-widgets/base",
            "_model_module_version": "1.2.0",
            "_model_name": "LayoutModel",
            "_view_count": null,
            "_view_module": "@jupyter-widgets/base",
            "_view_module_version": "1.2.0",
            "_view_name": "LayoutView",
            "align_content": null,
            "align_items": null,
            "align_self": null,
            "border": null,
            "bottom": null,
            "display": null,
            "flex": null,
            "flex_flow": null,
            "grid_area": null,
            "grid_auto_columns": null,
            "grid_auto_flow": null,
            "grid_auto_rows": null,
            "grid_column": null,
            "grid_gap": null,
            "grid_row": null,
            "grid_template_areas": null,
            "grid_template_columns": null,
            "grid_template_rows": null,
            "height": null,
            "justify_content": null,
            "justify_items": null,
            "left": null,
            "margin": null,
            "max_height": null,
            "max_width": null,
            "min_height": null,
            "min_width": null,
            "object_fit": null,
            "object_position": null,
            "order": null,
            "overflow": null,
            "overflow_x": null,
            "overflow_y": null,
            "padding": null,
            "right": null,
            "top": null,
            "visibility": null,
            "width": null
          }
        },
        "6cfcd66e1dd34b838c1043b5a7ebce4f": {
          "model_module": "@jupyter-widgets/base",
          "model_module_version": "1.2.0",
          "model_name": "LayoutModel",
          "state": {
            "_model_module": "@jupyter-widgets/base",
            "_model_module_version": "1.2.0",
            "_model_name": "LayoutModel",
            "_view_count": null,
            "_view_module": "@jupyter-widgets/base",
            "_view_module_version": "1.2.0",
            "_view_name": "LayoutView",
            "align_content": null,
            "align_items": null,
            "align_self": null,
            "border": null,
            "bottom": null,
            "display": null,
            "flex": null,
            "flex_flow": null,
            "grid_area": null,
            "grid_auto_columns": null,
            "grid_auto_flow": null,
            "grid_auto_rows": null,
            "grid_column": null,
            "grid_gap": null,
            "grid_row": null,
            "grid_template_areas": null,
            "grid_template_columns": null,
            "grid_template_rows": null,
            "height": null,
            "justify_content": null,
            "justify_items": null,
            "left": null,
            "margin": null,
            "max_height": null,
            "max_width": null,
            "min_height": null,
            "min_width": null,
            "object_fit": null,
            "object_position": null,
            "order": null,
            "overflow": null,
            "overflow_x": null,
            "overflow_y": null,
            "padding": null,
            "right": null,
            "top": null,
            "visibility": null,
            "width": null
          }
        },
        "70c1a74c5e0e430c93a838a230894bb6": {
          "model_module": "@jupyter-widgets/controls",
          "model_module_version": "1.5.0",
          "model_name": "HBoxModel",
          "state": {
            "_dom_classes": [],
            "_model_module": "@jupyter-widgets/controls",
            "_model_module_version": "1.5.0",
            "_model_name": "HBoxModel",
            "_view_count": null,
            "_view_module": "@jupyter-widgets/controls",
            "_view_module_version": "1.5.0",
            "_view_name": "HBoxView",
            "box_style": "",
            "children": [
              "IPY_MODEL_fd1edf3dec984d8085b613e7ea2dd7fd",
              "IPY_MODEL_491a25ba7010465983f2a9a67e773b11",
              "IPY_MODEL_5644b25b2a204c0a805c786cbb3e59e4"
            ],
            "layout": "IPY_MODEL_596ae3a0248e4559afd08ef29d5ed9f7"
          }
        },
        "74e9d905aee9465b9de29842082032db": {
          "model_module": "@jupyter-widgets/base",
          "model_module_version": "1.2.0",
          "model_name": "LayoutModel",
          "state": {
            "_model_module": "@jupyter-widgets/base",
            "_model_module_version": "1.2.0",
            "_model_name": "LayoutModel",
            "_view_count": null,
            "_view_module": "@jupyter-widgets/base",
            "_view_module_version": "1.2.0",
            "_view_name": "LayoutView",
            "align_content": null,
            "align_items": null,
            "align_self": null,
            "border": null,
            "bottom": null,
            "display": null,
            "flex": null,
            "flex_flow": null,
            "grid_area": null,
            "grid_auto_columns": null,
            "grid_auto_flow": null,
            "grid_auto_rows": null,
            "grid_column": null,
            "grid_gap": null,
            "grid_row": null,
            "grid_template_areas": null,
            "grid_template_columns": null,
            "grid_template_rows": null,
            "height": null,
            "justify_content": null,
            "justify_items": null,
            "left": null,
            "margin": null,
            "max_height": null,
            "max_width": null,
            "min_height": null,
            "min_width": null,
            "object_fit": null,
            "object_position": null,
            "order": null,
            "overflow": null,
            "overflow_x": null,
            "overflow_y": null,
            "padding": null,
            "right": null,
            "top": null,
            "visibility": null,
            "width": null
          }
        },
        "7d45155b7e414752bc5f2f53df0f0cdc": {
          "model_module": "@jupyter-widgets/base",
          "model_module_version": "1.2.0",
          "model_name": "LayoutModel",
          "state": {
            "_model_module": "@jupyter-widgets/base",
            "_model_module_version": "1.2.0",
            "_model_name": "LayoutModel",
            "_view_count": null,
            "_view_module": "@jupyter-widgets/base",
            "_view_module_version": "1.2.0",
            "_view_name": "LayoutView",
            "align_content": null,
            "align_items": null,
            "align_self": null,
            "border": null,
            "bottom": null,
            "display": null,
            "flex": null,
            "flex_flow": null,
            "grid_area": null,
            "grid_auto_columns": null,
            "grid_auto_flow": null,
            "grid_auto_rows": null,
            "grid_column": null,
            "grid_gap": null,
            "grid_row": null,
            "grid_template_areas": null,
            "grid_template_columns": null,
            "grid_template_rows": null,
            "height": null,
            "justify_content": null,
            "justify_items": null,
            "left": null,
            "margin": null,
            "max_height": null,
            "max_width": null,
            "min_height": null,
            "min_width": null,
            "object_fit": null,
            "object_position": null,
            "order": null,
            "overflow": null,
            "overflow_x": null,
            "overflow_y": null,
            "padding": null,
            "right": null,
            "top": null,
            "visibility": null,
            "width": null
          }
        },
        "7e08902d603544c985bf928404b09879": {
          "model_module": "@jupyter-widgets/controls",
          "model_module_version": "1.5.0",
          "model_name": "ProgressStyleModel",
          "state": {
            "_model_module": "@jupyter-widgets/controls",
            "_model_module_version": "1.5.0",
            "_model_name": "ProgressStyleModel",
            "_view_count": null,
            "_view_module": "@jupyter-widgets/base",
            "_view_module_version": "1.2.0",
            "_view_name": "StyleView",
            "bar_color": null,
            "description_width": ""
          }
        },
        "833a9618b8844b17a0a836c91dc95730": {
          "model_module": "@jupyter-widgets/controls",
          "model_module_version": "1.5.0",
          "model_name": "HBoxModel",
          "state": {
            "_dom_classes": [],
            "_model_module": "@jupyter-widgets/controls",
            "_model_module_version": "1.5.0",
            "_model_name": "HBoxModel",
            "_view_count": null,
            "_view_module": "@jupyter-widgets/controls",
            "_view_module_version": "1.5.0",
            "_view_name": "HBoxView",
            "box_style": "",
            "children": [
              "IPY_MODEL_55e6980002af4c7fbf98725fd31e7af1",
              "IPY_MODEL_fdd8bb5be2874dbab84865f5cdeb4884",
              "IPY_MODEL_2bbfbeac0cd247b7919a0f67ab4abc83"
            ],
            "layout": "IPY_MODEL_c2f7d0818e314ba2b51e3c27fa4e09d8"
          }
        },
        "87f448429a5c42759803ab211557f64c": {
          "model_module": "@jupyter-widgets/controls",
          "model_module_version": "1.5.0",
          "model_name": "HTMLModel",
          "state": {
            "_dom_classes": [],
            "_model_module": "@jupyter-widgets/controls",
            "_model_module_version": "1.5.0",
            "_model_name": "HTMLModel",
            "_view_count": null,
            "_view_module": "@jupyter-widgets/controls",
            "_view_module_version": "1.5.0",
            "_view_name": "HTMLView",
            "description": "",
            "description_tooltip": null,
            "layout": "IPY_MODEL_c52ce023705144348f0420ea4fc2694a",
            "placeholder": "​",
            "style": "IPY_MODEL_6801fb3583354de997ff1c040aeb16db",
            "value": " 570/570 [00:00&lt;00:00, 38.3kB/s]"
          }
        },
        "8b346959e557458793489ecdf12e18e8": {
          "model_module": "@jupyter-widgets/base",
          "model_module_version": "1.2.0",
          "model_name": "LayoutModel",
          "state": {
            "_model_module": "@jupyter-widgets/base",
            "_model_module_version": "1.2.0",
            "_model_name": "LayoutModel",
            "_view_count": null,
            "_view_module": "@jupyter-widgets/base",
            "_view_module_version": "1.2.0",
            "_view_name": "LayoutView",
            "align_content": null,
            "align_items": null,
            "align_self": null,
            "border": null,
            "bottom": null,
            "display": null,
            "flex": null,
            "flex_flow": null,
            "grid_area": null,
            "grid_auto_columns": null,
            "grid_auto_flow": null,
            "grid_auto_rows": null,
            "grid_column": null,
            "grid_gap": null,
            "grid_row": null,
            "grid_template_areas": null,
            "grid_template_columns": null,
            "grid_template_rows": null,
            "height": null,
            "justify_content": null,
            "justify_items": null,
            "left": null,
            "margin": null,
            "max_height": null,
            "max_width": null,
            "min_height": null,
            "min_width": null,
            "object_fit": null,
            "object_position": null,
            "order": null,
            "overflow": null,
            "overflow_x": null,
            "overflow_y": null,
            "padding": null,
            "right": null,
            "top": null,
            "visibility": null,
            "width": null
          }
        },
        "8ea74720ac3e429d8941a40b61fba979": {
          "model_module": "@jupyter-widgets/base",
          "model_module_version": "1.2.0",
          "model_name": "LayoutModel",
          "state": {
            "_model_module": "@jupyter-widgets/base",
            "_model_module_version": "1.2.0",
            "_model_name": "LayoutModel",
            "_view_count": null,
            "_view_module": "@jupyter-widgets/base",
            "_view_module_version": "1.2.0",
            "_view_name": "LayoutView",
            "align_content": null,
            "align_items": null,
            "align_self": null,
            "border": null,
            "bottom": null,
            "display": null,
            "flex": null,
            "flex_flow": null,
            "grid_area": null,
            "grid_auto_columns": null,
            "grid_auto_flow": null,
            "grid_auto_rows": null,
            "grid_column": null,
            "grid_gap": null,
            "grid_row": null,
            "grid_template_areas": null,
            "grid_template_columns": null,
            "grid_template_rows": null,
            "height": null,
            "justify_content": null,
            "justify_items": null,
            "left": null,
            "margin": null,
            "max_height": null,
            "max_width": null,
            "min_height": null,
            "min_width": null,
            "object_fit": null,
            "object_position": null,
            "order": null,
            "overflow": null,
            "overflow_x": null,
            "overflow_y": null,
            "padding": null,
            "right": null,
            "top": null,
            "visibility": null,
            "width": null
          }
        },
        "90a2e932904e43f1844f36a5dce1fae1": {
          "model_module": "@jupyter-widgets/controls",
          "model_module_version": "1.5.0",
          "model_name": "ProgressStyleModel",
          "state": {
            "_model_module": "@jupyter-widgets/controls",
            "_model_module_version": "1.5.0",
            "_model_name": "ProgressStyleModel",
            "_view_count": null,
            "_view_module": "@jupyter-widgets/base",
            "_view_module_version": "1.2.0",
            "_view_name": "StyleView",
            "bar_color": null,
            "description_width": ""
          }
        },
        "942db122fccf450da8bd0f2aaf902fbf": {
          "model_module": "@jupyter-widgets/controls",
          "model_module_version": "1.5.0",
          "model_name": "DescriptionStyleModel",
          "state": {
            "_model_module": "@jupyter-widgets/controls",
            "_model_module_version": "1.5.0",
            "_model_name": "DescriptionStyleModel",
            "_view_count": null,
            "_view_module": "@jupyter-widgets/base",
            "_view_module_version": "1.2.0",
            "_view_name": "StyleView",
            "description_width": ""
          }
        },
        "9536ed8cef8945bab40683c5450309f4": {
          "model_module": "@jupyter-widgets/controls",
          "model_module_version": "1.5.0",
          "model_name": "HBoxModel",
          "state": {
            "_dom_classes": [],
            "_model_module": "@jupyter-widgets/controls",
            "_model_module_version": "1.5.0",
            "_model_name": "HBoxModel",
            "_view_count": null,
            "_view_module": "@jupyter-widgets/controls",
            "_view_module_version": "1.5.0",
            "_view_name": "HBoxView",
            "box_style": "",
            "children": [
              "IPY_MODEL_29e780ca7af648748aff8d5c8b582efa",
              "IPY_MODEL_34284abbbfbc4f32b4fc4045eb68cb89",
              "IPY_MODEL_87f448429a5c42759803ab211557f64c"
            ],
            "layout": "IPY_MODEL_b0321333fc484589bd858a19c74c1db9"
          }
        },
        "a6a09c81ccc5439f9d9093464e80f6ec": {
          "model_module": "@jupyter-widgets/controls",
          "model_module_version": "1.5.0",
          "model_name": "HTMLModel",
          "state": {
            "_dom_classes": [],
            "_model_module": "@jupyter-widgets/controls",
            "_model_module_version": "1.5.0",
            "_model_name": "HTMLModel",
            "_view_count": null,
            "_view_module": "@jupyter-widgets/controls",
            "_view_module_version": "1.5.0",
            "_view_name": "HTMLView",
            "description": "",
            "description_tooltip": null,
            "layout": "IPY_MODEL_ea83e1b638524171ab16d94a91166c0c",
            "placeholder": "​",
            "style": "IPY_MODEL_c575633674824d7499985eb4dbb7305b",
            "value": " 28.0/28.0 [00:00&lt;00:00, 1.84kB/s]"
          }
        },
        "ad2426c4136b4af0896dd74ce99eb6c5": {
          "model_module": "@jupyter-widgets/base",
          "model_module_version": "1.2.0",
          "model_name": "LayoutModel",
          "state": {
            "_model_module": "@jupyter-widgets/base",
            "_model_module_version": "1.2.0",
            "_model_name": "LayoutModel",
            "_view_count": null,
            "_view_module": "@jupyter-widgets/base",
            "_view_module_version": "1.2.0",
            "_view_name": "LayoutView",
            "align_content": null,
            "align_items": null,
            "align_self": null,
            "border": null,
            "bottom": null,
            "display": null,
            "flex": null,
            "flex_flow": null,
            "grid_area": null,
            "grid_auto_columns": null,
            "grid_auto_flow": null,
            "grid_auto_rows": null,
            "grid_column": null,
            "grid_gap": null,
            "grid_row": null,
            "grid_template_areas": null,
            "grid_template_columns": null,
            "grid_template_rows": null,
            "height": null,
            "justify_content": null,
            "justify_items": null,
            "left": null,
            "margin": null,
            "max_height": null,
            "max_width": null,
            "min_height": null,
            "min_width": null,
            "object_fit": null,
            "object_position": null,
            "order": null,
            "overflow": null,
            "overflow_x": null,
            "overflow_y": null,
            "padding": null,
            "right": null,
            "top": null,
            "visibility": null,
            "width": null
          }
        },
        "ae9755adc83e4cff927a0d6ff4aa6aa9": {
          "model_module": "@jupyter-widgets/controls",
          "model_module_version": "1.5.0",
          "model_name": "HBoxModel",
          "state": {
            "_dom_classes": [],
            "_model_module": "@jupyter-widgets/controls",
            "_model_module_version": "1.5.0",
            "_model_name": "HBoxModel",
            "_view_count": null,
            "_view_module": "@jupyter-widgets/controls",
            "_view_module_version": "1.5.0",
            "_view_name": "HBoxView",
            "box_style": "",
            "children": [
              "IPY_MODEL_1ff448b85fc14ee7aad759e43a47aa26",
              "IPY_MODEL_27b4ab4f15d042829038de353bf4fe2b",
              "IPY_MODEL_b8d1c568acca49d18702d25694389c23"
            ],
            "layout": "IPY_MODEL_17e5a9c0f42547178191a7cd887c5844"
          }
        },
        "b0321333fc484589bd858a19c74c1db9": {
          "model_module": "@jupyter-widgets/base",
          "model_module_version": "1.2.0",
          "model_name": "LayoutModel",
          "state": {
            "_model_module": "@jupyter-widgets/base",
            "_model_module_version": "1.2.0",
            "_model_name": "LayoutModel",
            "_view_count": null,
            "_view_module": "@jupyter-widgets/base",
            "_view_module_version": "1.2.0",
            "_view_name": "LayoutView",
            "align_content": null,
            "align_items": null,
            "align_self": null,
            "border": null,
            "bottom": null,
            "display": null,
            "flex": null,
            "flex_flow": null,
            "grid_area": null,
            "grid_auto_columns": null,
            "grid_auto_flow": null,
            "grid_auto_rows": null,
            "grid_column": null,
            "grid_gap": null,
            "grid_row": null,
            "grid_template_areas": null,
            "grid_template_columns": null,
            "grid_template_rows": null,
            "height": null,
            "justify_content": null,
            "justify_items": null,
            "left": null,
            "margin": null,
            "max_height": null,
            "max_width": null,
            "min_height": null,
            "min_width": null,
            "object_fit": null,
            "object_position": null,
            "order": null,
            "overflow": null,
            "overflow_x": null,
            "overflow_y": null,
            "padding": null,
            "right": null,
            "top": null,
            "visibility": null,
            "width": null
          }
        },
        "b1f1a20616c04426a3da5df6be4d9c09": {
          "model_module": "@jupyter-widgets/base",
          "model_module_version": "1.2.0",
          "model_name": "LayoutModel",
          "state": {
            "_model_module": "@jupyter-widgets/base",
            "_model_module_version": "1.2.0",
            "_model_name": "LayoutModel",
            "_view_count": null,
            "_view_module": "@jupyter-widgets/base",
            "_view_module_version": "1.2.0",
            "_view_name": "LayoutView",
            "align_content": null,
            "align_items": null,
            "align_self": null,
            "border": null,
            "bottom": null,
            "display": null,
            "flex": null,
            "flex_flow": null,
            "grid_area": null,
            "grid_auto_columns": null,
            "grid_auto_flow": null,
            "grid_auto_rows": null,
            "grid_column": null,
            "grid_gap": null,
            "grid_row": null,
            "grid_template_areas": null,
            "grid_template_columns": null,
            "grid_template_rows": null,
            "height": null,
            "justify_content": null,
            "justify_items": null,
            "left": null,
            "margin": null,
            "max_height": null,
            "max_width": null,
            "min_height": null,
            "min_width": null,
            "object_fit": null,
            "object_position": null,
            "order": null,
            "overflow": null,
            "overflow_x": null,
            "overflow_y": null,
            "padding": null,
            "right": null,
            "top": null,
            "visibility": null,
            "width": null
          }
        },
        "b67776a1fc194567abf7b99a2bbf392f": {
          "model_module": "@jupyter-widgets/controls",
          "model_module_version": "1.5.0",
          "model_name": "ProgressStyleModel",
          "state": {
            "_model_module": "@jupyter-widgets/controls",
            "_model_module_version": "1.5.0",
            "_model_name": "ProgressStyleModel",
            "_view_count": null,
            "_view_module": "@jupyter-widgets/base",
            "_view_module_version": "1.2.0",
            "_view_name": "StyleView",
            "bar_color": null,
            "description_width": ""
          }
        },
        "b8d1c568acca49d18702d25694389c23": {
          "model_module": "@jupyter-widgets/controls",
          "model_module_version": "1.5.0",
          "model_name": "HTMLModel",
          "state": {
            "_dom_classes": [],
            "_model_module": "@jupyter-widgets/controls",
            "_model_module_version": "1.5.0",
            "_model_name": "HTMLModel",
            "_view_count": null,
            "_view_module": "@jupyter-widgets/controls",
            "_view_module_version": "1.5.0",
            "_view_name": "HTMLView",
            "description": "",
            "description_tooltip": null,
            "layout": "IPY_MODEL_69e3ad09c6d34d6c9570ef8103eb7209",
            "placeholder": "​",
            "style": "IPY_MODEL_ba747a36e2304865a28544f689ca93a9",
            "value": " 232k/232k [00:00&lt;00:00, 3.80MB/s]"
          }
        },
        "ba747a36e2304865a28544f689ca93a9": {
          "model_module": "@jupyter-widgets/controls",
          "model_module_version": "1.5.0",
          "model_name": "DescriptionStyleModel",
          "state": {
            "_model_module": "@jupyter-widgets/controls",
            "_model_module_version": "1.5.0",
            "_model_name": "DescriptionStyleModel",
            "_view_count": null,
            "_view_module": "@jupyter-widgets/base",
            "_view_module_version": "1.2.0",
            "_view_name": "StyleView",
            "description_width": ""
          }
        },
        "c2f7d0818e314ba2b51e3c27fa4e09d8": {
          "model_module": "@jupyter-widgets/base",
          "model_module_version": "1.2.0",
          "model_name": "LayoutModel",
          "state": {
            "_model_module": "@jupyter-widgets/base",
            "_model_module_version": "1.2.0",
            "_model_name": "LayoutModel",
            "_view_count": null,
            "_view_module": "@jupyter-widgets/base",
            "_view_module_version": "1.2.0",
            "_view_name": "LayoutView",
            "align_content": null,
            "align_items": null,
            "align_self": null,
            "border": null,
            "bottom": null,
            "display": null,
            "flex": null,
            "flex_flow": null,
            "grid_area": null,
            "grid_auto_columns": null,
            "grid_auto_flow": null,
            "grid_auto_rows": null,
            "grid_column": null,
            "grid_gap": null,
            "grid_row": null,
            "grid_template_areas": null,
            "grid_template_columns": null,
            "grid_template_rows": null,
            "height": null,
            "justify_content": null,
            "justify_items": null,
            "left": null,
            "margin": null,
            "max_height": null,
            "max_width": null,
            "min_height": null,
            "min_width": null,
            "object_fit": null,
            "object_position": null,
            "order": null,
            "overflow": null,
            "overflow_x": null,
            "overflow_y": null,
            "padding": null,
            "right": null,
            "top": null,
            "visibility": null,
            "width": null
          }
        },
        "c52ce023705144348f0420ea4fc2694a": {
          "model_module": "@jupyter-widgets/base",
          "model_module_version": "1.2.0",
          "model_name": "LayoutModel",
          "state": {
            "_model_module": "@jupyter-widgets/base",
            "_model_module_version": "1.2.0",
            "_model_name": "LayoutModel",
            "_view_count": null,
            "_view_module": "@jupyter-widgets/base",
            "_view_module_version": "1.2.0",
            "_view_name": "LayoutView",
            "align_content": null,
            "align_items": null,
            "align_self": null,
            "border": null,
            "bottom": null,
            "display": null,
            "flex": null,
            "flex_flow": null,
            "grid_area": null,
            "grid_auto_columns": null,
            "grid_auto_flow": null,
            "grid_auto_rows": null,
            "grid_column": null,
            "grid_gap": null,
            "grid_row": null,
            "grid_template_areas": null,
            "grid_template_columns": null,
            "grid_template_rows": null,
            "height": null,
            "justify_content": null,
            "justify_items": null,
            "left": null,
            "margin": null,
            "max_height": null,
            "max_width": null,
            "min_height": null,
            "min_width": null,
            "object_fit": null,
            "object_position": null,
            "order": null,
            "overflow": null,
            "overflow_x": null,
            "overflow_y": null,
            "padding": null,
            "right": null,
            "top": null,
            "visibility": null,
            "width": null
          }
        },
        "c575633674824d7499985eb4dbb7305b": {
          "model_module": "@jupyter-widgets/controls",
          "model_module_version": "1.5.0",
          "model_name": "DescriptionStyleModel",
          "state": {
            "_model_module": "@jupyter-widgets/controls",
            "_model_module_version": "1.5.0",
            "_model_name": "DescriptionStyleModel",
            "_view_count": null,
            "_view_module": "@jupyter-widgets/base",
            "_view_module_version": "1.2.0",
            "_view_name": "StyleView",
            "description_width": ""
          }
        },
        "c611b6c3390f49d1aacf75f787a37c04": {
          "model_module": "@jupyter-widgets/base",
          "model_module_version": "1.2.0",
          "model_name": "LayoutModel",
          "state": {
            "_model_module": "@jupyter-widgets/base",
            "_model_module_version": "1.2.0",
            "_model_name": "LayoutModel",
            "_view_count": null,
            "_view_module": "@jupyter-widgets/base",
            "_view_module_version": "1.2.0",
            "_view_name": "LayoutView",
            "align_content": null,
            "align_items": null,
            "align_self": null,
            "border": null,
            "bottom": null,
            "display": null,
            "flex": null,
            "flex_flow": null,
            "grid_area": null,
            "grid_auto_columns": null,
            "grid_auto_flow": null,
            "grid_auto_rows": null,
            "grid_column": null,
            "grid_gap": null,
            "grid_row": null,
            "grid_template_areas": null,
            "grid_template_columns": null,
            "grid_template_rows": null,
            "height": null,
            "justify_content": null,
            "justify_items": null,
            "left": null,
            "margin": null,
            "max_height": null,
            "max_width": null,
            "min_height": null,
            "min_width": null,
            "object_fit": null,
            "object_position": null,
            "order": null,
            "overflow": null,
            "overflow_x": null,
            "overflow_y": null,
            "padding": null,
            "right": null,
            "top": null,
            "visibility": null,
            "width": null
          }
        },
        "cad177fe09b444208d344ad09810cb36": {
          "model_module": "@jupyter-widgets/base",
          "model_module_version": "1.2.0",
          "model_name": "LayoutModel",
          "state": {
            "_model_module": "@jupyter-widgets/base",
            "_model_module_version": "1.2.0",
            "_model_name": "LayoutModel",
            "_view_count": null,
            "_view_module": "@jupyter-widgets/base",
            "_view_module_version": "1.2.0",
            "_view_name": "LayoutView",
            "align_content": null,
            "align_items": null,
            "align_self": null,
            "border": null,
            "bottom": null,
            "display": null,
            "flex": null,
            "flex_flow": null,
            "grid_area": null,
            "grid_auto_columns": null,
            "grid_auto_flow": null,
            "grid_auto_rows": null,
            "grid_column": null,
            "grid_gap": null,
            "grid_row": null,
            "grid_template_areas": null,
            "grid_template_columns": null,
            "grid_template_rows": null,
            "height": null,
            "justify_content": null,
            "justify_items": null,
            "left": null,
            "margin": null,
            "max_height": null,
            "max_width": null,
            "min_height": null,
            "min_width": null,
            "object_fit": null,
            "object_position": null,
            "order": null,
            "overflow": null,
            "overflow_x": null,
            "overflow_y": null,
            "padding": null,
            "right": null,
            "top": null,
            "visibility": null,
            "width": null
          }
        },
        "d22db14418cb4bff98af00d88836214b": {
          "model_module": "@jupyter-widgets/controls",
          "model_module_version": "1.5.0",
          "model_name": "DescriptionStyleModel",
          "state": {
            "_model_module": "@jupyter-widgets/controls",
            "_model_module_version": "1.5.0",
            "_model_name": "DescriptionStyleModel",
            "_view_count": null,
            "_view_module": "@jupyter-widgets/base",
            "_view_module_version": "1.2.0",
            "_view_name": "StyleView",
            "description_width": ""
          }
        },
        "d6737b6a17af451b8d307fb7d8ff8a54": {
          "model_module": "@jupyter-widgets/controls",
          "model_module_version": "1.5.0",
          "model_name": "DescriptionStyleModel",
          "state": {
            "_model_module": "@jupyter-widgets/controls",
            "_model_module_version": "1.5.0",
            "_model_name": "DescriptionStyleModel",
            "_view_count": null,
            "_view_module": "@jupyter-widgets/base",
            "_view_module_version": "1.2.0",
            "_view_name": "StyleView",
            "description_width": ""
          }
        },
        "dc631f74553b4fe88f56a6625b9e0423": {
          "model_module": "@jupyter-widgets/controls",
          "model_module_version": "1.5.0",
          "model_name": "ProgressStyleModel",
          "state": {
            "_model_module": "@jupyter-widgets/controls",
            "_model_module_version": "1.5.0",
            "_model_name": "ProgressStyleModel",
            "_view_count": null,
            "_view_module": "@jupyter-widgets/base",
            "_view_module_version": "1.2.0",
            "_view_name": "StyleView",
            "bar_color": null,
            "description_width": ""
          }
        },
        "e84aa8e8ef694c4d85df91a981622990": {
          "model_module": "@jupyter-widgets/controls",
          "model_module_version": "1.5.0",
          "model_name": "DescriptionStyleModel",
          "state": {
            "_model_module": "@jupyter-widgets/controls",
            "_model_module_version": "1.5.0",
            "_model_name": "DescriptionStyleModel",
            "_view_count": null,
            "_view_module": "@jupyter-widgets/base",
            "_view_module_version": "1.2.0",
            "_view_name": "StyleView",
            "description_width": ""
          }
        },
        "ea83e1b638524171ab16d94a91166c0c": {
          "model_module": "@jupyter-widgets/base",
          "model_module_version": "1.2.0",
          "model_name": "LayoutModel",
          "state": {
            "_model_module": "@jupyter-widgets/base",
            "_model_module_version": "1.2.0",
            "_model_name": "LayoutModel",
            "_view_count": null,
            "_view_module": "@jupyter-widgets/base",
            "_view_module_version": "1.2.0",
            "_view_name": "LayoutView",
            "align_content": null,
            "align_items": null,
            "align_self": null,
            "border": null,
            "bottom": null,
            "display": null,
            "flex": null,
            "flex_flow": null,
            "grid_area": null,
            "grid_auto_columns": null,
            "grid_auto_flow": null,
            "grid_auto_rows": null,
            "grid_column": null,
            "grid_gap": null,
            "grid_row": null,
            "grid_template_areas": null,
            "grid_template_columns": null,
            "grid_template_rows": null,
            "height": null,
            "justify_content": null,
            "justify_items": null,
            "left": null,
            "margin": null,
            "max_height": null,
            "max_width": null,
            "min_height": null,
            "min_width": null,
            "object_fit": null,
            "object_position": null,
            "order": null,
            "overflow": null,
            "overflow_x": null,
            "overflow_y": null,
            "padding": null,
            "right": null,
            "top": null,
            "visibility": null,
            "width": null
          }
        },
        "eeb7d6fc68fb495b8471c2537cb7b3d2": {
          "model_module": "@jupyter-widgets/base",
          "model_module_version": "1.2.0",
          "model_name": "LayoutModel",
          "state": {
            "_model_module": "@jupyter-widgets/base",
            "_model_module_version": "1.2.0",
            "_model_name": "LayoutModel",
            "_view_count": null,
            "_view_module": "@jupyter-widgets/base",
            "_view_module_version": "1.2.0",
            "_view_name": "LayoutView",
            "align_content": null,
            "align_items": null,
            "align_self": null,
            "border": null,
            "bottom": null,
            "display": null,
            "flex": null,
            "flex_flow": null,
            "grid_area": null,
            "grid_auto_columns": null,
            "grid_auto_flow": null,
            "grid_auto_rows": null,
            "grid_column": null,
            "grid_gap": null,
            "grid_row": null,
            "grid_template_areas": null,
            "grid_template_columns": null,
            "grid_template_rows": null,
            "height": null,
            "justify_content": null,
            "justify_items": null,
            "left": null,
            "margin": null,
            "max_height": null,
            "max_width": null,
            "min_height": null,
            "min_width": null,
            "object_fit": null,
            "object_position": null,
            "order": null,
            "overflow": null,
            "overflow_x": null,
            "overflow_y": null,
            "padding": null,
            "right": null,
            "top": null,
            "visibility": null,
            "width": null
          }
        },
        "fd1edf3dec984d8085b613e7ea2dd7fd": {
          "model_module": "@jupyter-widgets/controls",
          "model_module_version": "1.5.0",
          "model_name": "HTMLModel",
          "state": {
            "_dom_classes": [],
            "_model_module": "@jupyter-widgets/controls",
            "_model_module_version": "1.5.0",
            "_model_name": "HTMLModel",
            "_view_count": null,
            "_view_module": "@jupyter-widgets/controls",
            "_view_module_version": "1.5.0",
            "_view_name": "HTMLView",
            "description": "",
            "description_tooltip": null,
            "layout": "IPY_MODEL_26b153f4ac7b42b3ba8e2e00e51f4517",
            "placeholder": "​",
            "style": "IPY_MODEL_2fa0a9a0db4f47d9af407d5504f4755c",
            "value": "tokenizer.json: 100%"
          }
        },
        "fd64e4f43fc04fdbab5869437ab1925a": {
          "model_module": "@jupyter-widgets/controls",
          "model_module_version": "1.5.0",
          "model_name": "HBoxModel",
          "state": {
            "_dom_classes": [],
            "_model_module": "@jupyter-widgets/controls",
            "_model_module_version": "1.5.0",
            "_model_name": "HBoxModel",
            "_view_count": null,
            "_view_module": "@jupyter-widgets/controls",
            "_view_module_version": "1.5.0",
            "_view_name": "HBoxView",
            "box_style": "",
            "children": [
              "IPY_MODEL_05caa8195cb1413b8ffad956663ae396",
              "IPY_MODEL_3522b85f74784676a23b0c4f8b1d120f",
              "IPY_MODEL_a6a09c81ccc5439f9d9093464e80f6ec"
            ],
            "layout": "IPY_MODEL_33495838fac34426b2364395f01d1381"
          }
        },
        "fdd8bb5be2874dbab84865f5cdeb4884": {
          "model_module": "@jupyter-widgets/controls",
          "model_module_version": "1.5.0",
          "model_name": "FloatProgressModel",
          "state": {
            "_dom_classes": [],
            "_model_module": "@jupyter-widgets/controls",
            "_model_module_version": "1.5.0",
            "_model_name": "FloatProgressModel",
            "_view_count": null,
            "_view_module": "@jupyter-widgets/controls",
            "_view_module_version": "1.5.0",
            "_view_name": "ProgressView",
            "bar_style": "success",
            "description": "",
            "description_tooltip": null,
            "layout": "IPY_MODEL_cad177fe09b444208d344ad09810cb36",
            "max": 440449768,
            "min": 0,
            "orientation": "horizontal",
            "style": "IPY_MODEL_7e08902d603544c985bf928404b09879",
            "value": 440449768
          }
        }
      }
    }
  },
  "nbformat": 4,
  "nbformat_minor": 0
}
